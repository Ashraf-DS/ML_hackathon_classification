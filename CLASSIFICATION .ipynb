{
 "cells": [
  {
   "cell_type": "markdown",
   "id": "HYKD-e5wACNg",
   "metadata": {
    "id": "HYKD-e5wACNg"
   },
   "source": [
    "importing the each and every module :-\n",
    "let's go \n"
   ]
  },
  {
   "cell_type": "code",
   "execution_count": 420,
   "id": "63d1cc8f",
   "metadata": {
    "id": "63d1cc8f"
   },
   "outputs": [],
   "source": [
    "import numpy as np\n",
    "import pandas as pd\n",
    "import matplotlib.pyplot as plt\n",
    "import seaborn as sns\n",
    "import sklearn.preprocessing as preprocessing \n",
    "import sklearn.metrics as metrics\n",
    "import sklearn.calibration as calibration\n",
    "import sklearn.linear_model as linear_model\n",
    "import sklearn.svm as svm\n",
    "import sklearn.naive_bayes as naive_bayes\n",
    "from sklearn.linear_model import LinearRegression \n",
    "from sklearn.metrics import mean_squared_error, mean_absolute_error\n",
    "from sklearn.model_selection import train_test_split"
   ]
  },
  {
   "cell_type": "code",
   "execution_count": 419,
   "id": "83eaf46f",
   "metadata": {
    "id": "83eaf46f"
   },
   "outputs": [],
   "source": [
    "test_df = pd.read_csv(\"/content/drive/MyDrive/Colab Notebooks/test_data.csv\" )"
   ]
  },
  {
   "cell_type": "markdown",
   "id": "oLPb3t0pAUBP",
   "metadata": {
    "id": "oLPb3t0pAUBP"
   },
   "source": [
    "There are 2 dataframes one is train Dataframe and other is test Dataframe in which the train data and test data both are stored respectively.."
   ]
  },
  {
   "cell_type": "code",
   "execution_count": 421,
   "id": "UTn4W-ZBo0UF",
   "metadata": {
    "colab": {
     "base_uri": "https://localhost:8080/"
    },
    "id": "UTn4W-ZBo0UF",
    "outputId": "de624da7-3662-4b12-a928-2e3ab593cba2"
   },
   "outputs": [
    {
     "name": "stdout",
     "output_type": "stream",
     "text": [
      "Drive already mounted at /content/drive; to attempt to forcibly remount, call drive.mount(\"/content/drive\", force_remount=True).\n"
     ]
    }
   ],
   "source": [
    "from google.colab import drive\n",
    "drive.mount('/content/drive')"
   ]
  },
  {
   "cell_type": "code",
   "execution_count": 422,
   "id": "52acbdf8",
   "metadata": {
    "colab": {
     "base_uri": "https://localhost:8080/",
     "height": 237
    },
    "id": "52acbdf8",
    "outputId": "100a3bf8-3af2-499b-a7b4-b3e409becce0"
   },
   "outputs": [
    {
     "data": {
      "text/html": [
       "<div>\n",
       "<style scoped>\n",
       "    .dataframe tbody tr th:only-of-type {\n",
       "        vertical-align: middle;\n",
       "    }\n",
       "\n",
       "    .dataframe tbody tr th {\n",
       "        vertical-align: top;\n",
       "    }\n",
       "\n",
       "    .dataframe thead th {\n",
       "        text-align: right;\n",
       "    }\n",
       "</style>\n",
       "<table border=\"1\" class=\"dataframe\">\n",
       "  <thead>\n",
       "    <tr style=\"text-align: right;\">\n",
       "      <th></th>\n",
       "      <th>user_id</th>\n",
       "      <th>account_creation_date</th>\n",
       "      <th>first_activity_time</th>\n",
       "      <th>first_booking_date</th>\n",
       "      <th>gender</th>\n",
       "      <th>age</th>\n",
       "      <th>language</th>\n",
       "      <th>marketing_type</th>\n",
       "      <th>marketing_site</th>\n",
       "      <th>app_used</th>\n",
       "      <th>device_used</th>\n",
       "      <th>web_browser</th>\n",
       "    </tr>\n",
       "  </thead>\n",
       "  <tbody>\n",
       "    <tr>\n",
       "      <th>0</th>\n",
       "      <td>q9pfrw6si7</td>\n",
       "      <td>2014-02-17</td>\n",
       "      <td>20140217005503</td>\n",
       "      <td>2014-02-17</td>\n",
       "      <td>FEMALE</td>\n",
       "      <td>27.0</td>\n",
       "      <td>en</td>\n",
       "      <td>direct</td>\n",
       "      <td>direct</td>\n",
       "      <td>Web</td>\n",
       "      <td>Windows Desktop</td>\n",
       "      <td>Firefox</td>\n",
       "    </tr>\n",
       "    <tr>\n",
       "      <th>1</th>\n",
       "      <td>9bzevnmq4v</td>\n",
       "      <td>2014-03-11</td>\n",
       "      <td>20140311181449</td>\n",
       "      <td>NaN</td>\n",
       "      <td>-unknown-</td>\n",
       "      <td>NaN</td>\n",
       "      <td>en</td>\n",
       "      <td>direct</td>\n",
       "      <td>direct</td>\n",
       "      <td>Web</td>\n",
       "      <td>Mac Desktop</td>\n",
       "      <td>Chrome</td>\n",
       "    </tr>\n",
       "    <tr>\n",
       "      <th>2</th>\n",
       "      <td>kux37wpcfo</td>\n",
       "      <td>2013-06-04</td>\n",
       "      <td>20130604060604</td>\n",
       "      <td>NaN</td>\n",
       "      <td>MALE</td>\n",
       "      <td>52.0</td>\n",
       "      <td>en</td>\n",
       "      <td>direct</td>\n",
       "      <td>direct</td>\n",
       "      <td>Web</td>\n",
       "      <td>Mac Desktop</td>\n",
       "      <td>Safari</td>\n",
       "    </tr>\n",
       "    <tr>\n",
       "      <th>3</th>\n",
       "      <td>qqnj6ohayo</td>\n",
       "      <td>2012-08-16</td>\n",
       "      <td>20120816172708</td>\n",
       "      <td>NaN</td>\n",
       "      <td>FEMALE</td>\n",
       "      <td>45.0</td>\n",
       "      <td>en</td>\n",
       "      <td>direct</td>\n",
       "      <td>direct</td>\n",
       "      <td>Web</td>\n",
       "      <td>Mac Desktop</td>\n",
       "      <td>Safari</td>\n",
       "    </tr>\n",
       "    <tr>\n",
       "      <th>4</th>\n",
       "      <td>nw97iy2dzi</td>\n",
       "      <td>2013-05-02</td>\n",
       "      <td>20130502074337</td>\n",
       "      <td>2013-05-03</td>\n",
       "      <td>FEMALE</td>\n",
       "      <td>35.0</td>\n",
       "      <td>en</td>\n",
       "      <td>direct</td>\n",
       "      <td>direct</td>\n",
       "      <td>Web</td>\n",
       "      <td>Mac Desktop</td>\n",
       "      <td>Firefox</td>\n",
       "    </tr>\n",
       "  </tbody>\n",
       "</table>\n",
       "</div>"
      ],
      "text/plain": [
       "      user_id account_creation_date  ...      device_used web_browser\n",
       "0  q9pfrw6si7            2014-02-17  ...  Windows Desktop     Firefox\n",
       "1  9bzevnmq4v            2014-03-11  ...      Mac Desktop      Chrome\n",
       "2  kux37wpcfo            2013-06-04  ...      Mac Desktop      Safari\n",
       "3  qqnj6ohayo            2012-08-16  ...      Mac Desktop      Safari\n",
       "4  nw97iy2dzi            2013-05-02  ...      Mac Desktop     Firefox\n",
       "\n",
       "[5 rows x 12 columns]"
      ]
     },
     "execution_count": 422,
     "metadata": {},
     "output_type": "execute_result"
    }
   ],
   "source": [
    "test_df.head()\n",
    "\n"
   ]
  },
  {
   "cell_type": "code",
   "execution_count": 423,
   "id": "be_PB745T7ZD",
   "metadata": {
    "id": "be_PB745T7ZD"
   },
   "outputs": [],
   "source": [
    "X_id = test_df[\"user_id\"]"
   ]
  },
  {
   "cell_type": "code",
   "execution_count": 424,
   "id": "b5120324",
   "metadata": {
    "colab": {
     "base_uri": "https://localhost:8080/"
    },
    "id": "b5120324",
    "outputId": "902d7a3b-89eb-4f2b-c2e2-450d824f3f5b"
   },
   "outputs": [
    {
     "data": {
      "text/plain": [
       "user_id                  64036\n",
       "account_creation_date    64036\n",
       "first_activity_time      64036\n",
       "first_booking_date       26830\n",
       "gender                   64036\n",
       "age                      37731\n",
       "language                 64036\n",
       "marketing_type           64036\n",
       "marketing_site           64036\n",
       "app_used                 64036\n",
       "device_used              64036\n",
       "web_browser              64036\n",
       "dtype: int64"
      ]
     },
     "execution_count": 424,
     "metadata": {},
     "output_type": "execute_result"
    }
   ],
   "source": [
    "test_df.count()"
   ]
  },
  {
   "cell_type": "code",
   "execution_count": 425,
   "id": "a481de8d",
   "metadata": {
    "colab": {
     "base_uri": "https://localhost:8080/",
     "height": 295
    },
    "id": "a481de8d",
    "outputId": "22be9d53-2b24-43a8-dce9-05a5b0a461c8"
   },
   "outputs": [
    {
     "data": {
      "text/html": [
       "<div>\n",
       "<style scoped>\n",
       "    .dataframe tbody tr th:only-of-type {\n",
       "        vertical-align: middle;\n",
       "    }\n",
       "\n",
       "    .dataframe tbody tr th {\n",
       "        vertical-align: top;\n",
       "    }\n",
       "\n",
       "    .dataframe thead th {\n",
       "        text-align: right;\n",
       "    }\n",
       "</style>\n",
       "<table border=\"1\" class=\"dataframe\">\n",
       "  <thead>\n",
       "    <tr style=\"text-align: right;\">\n",
       "      <th></th>\n",
       "      <th>first_activity_time</th>\n",
       "      <th>age</th>\n",
       "    </tr>\n",
       "  </thead>\n",
       "  <tbody>\n",
       "    <tr>\n",
       "      <th>count</th>\n",
       "      <td>6.403600e+04</td>\n",
       "      <td>37731.000000</td>\n",
       "    </tr>\n",
       "    <tr>\n",
       "      <th>mean</th>\n",
       "      <td>2.013089e+13</td>\n",
       "      <td>49.782407</td>\n",
       "    </tr>\n",
       "    <tr>\n",
       "      <th>std</th>\n",
       "      <td>9.239331e+09</td>\n",
       "      <td>156.195826</td>\n",
       "    </tr>\n",
       "    <tr>\n",
       "      <th>min</th>\n",
       "      <td>2.009032e+13</td>\n",
       "      <td>2.000000</td>\n",
       "    </tr>\n",
       "    <tr>\n",
       "      <th>25%</th>\n",
       "      <td>2.012123e+13</td>\n",
       "      <td>28.000000</td>\n",
       "    </tr>\n",
       "    <tr>\n",
       "      <th>50%</th>\n",
       "      <td>2.013091e+13</td>\n",
       "      <td>34.000000</td>\n",
       "    </tr>\n",
       "    <tr>\n",
       "      <th>75%</th>\n",
       "      <td>2.014031e+13</td>\n",
       "      <td>43.000000</td>\n",
       "    </tr>\n",
       "    <tr>\n",
       "      <th>max</th>\n",
       "      <td>2.014063e+13</td>\n",
       "      <td>2014.000000</td>\n",
       "    </tr>\n",
       "  </tbody>\n",
       "</table>\n",
       "</div>"
      ],
      "text/plain": [
       "       first_activity_time           age\n",
       "count         6.403600e+04  37731.000000\n",
       "mean          2.013089e+13     49.782407\n",
       "std           9.239331e+09    156.195826\n",
       "min           2.009032e+13      2.000000\n",
       "25%           2.012123e+13     28.000000\n",
       "50%           2.013091e+13     34.000000\n",
       "75%           2.014031e+13     43.000000\n",
       "max           2.014063e+13   2014.000000"
      ]
     },
     "execution_count": 425,
     "metadata": {},
     "output_type": "execute_result"
    }
   ],
   "source": [
    "test_df.describe()"
   ]
  },
  {
   "cell_type": "code",
   "execution_count": 426,
   "id": "2d1a9db3",
   "metadata": {
    "id": "2d1a9db3"
   },
   "outputs": [],
   "source": [
    "train_df=pd.read_csv(\"/content/drive/MyDrive/Colab Notebooks/train_data.csv\")"
   ]
  },
  {
   "cell_type": "code",
   "execution_count": 427,
   "id": "b7229494",
   "metadata": {
    "colab": {
     "base_uri": "https://localhost:8080/",
     "height": 274
    },
    "id": "b7229494",
    "outputId": "b1228e01-b0fb-414f-d4f9-78394a555f85"
   },
   "outputs": [
    {
     "data": {
      "text/html": [
       "<div>\n",
       "<style scoped>\n",
       "    .dataframe tbody tr th:only-of-type {\n",
       "        vertical-align: middle;\n",
       "    }\n",
       "\n",
       "    .dataframe tbody tr th {\n",
       "        vertical-align: top;\n",
       "    }\n",
       "\n",
       "    .dataframe thead th {\n",
       "        text-align: right;\n",
       "    }\n",
       "</style>\n",
       "<table border=\"1\" class=\"dataframe\">\n",
       "  <thead>\n",
       "    <tr style=\"text-align: right;\">\n",
       "      <th></th>\n",
       "      <th>user_id</th>\n",
       "      <th>account_creation_date</th>\n",
       "      <th>first_activity_time</th>\n",
       "      <th>first_booking_date</th>\n",
       "      <th>gender</th>\n",
       "      <th>age</th>\n",
       "      <th>language</th>\n",
       "      <th>marketing_type</th>\n",
       "      <th>marketing_site</th>\n",
       "      <th>app_used</th>\n",
       "      <th>device_used</th>\n",
       "      <th>web_browser</th>\n",
       "      <th>target_country</th>\n",
       "    </tr>\n",
       "  </thead>\n",
       "  <tbody>\n",
       "    <tr>\n",
       "      <th>0</th>\n",
       "      <td>ip08oqk8k5</td>\n",
       "      <td>2014-03-20</td>\n",
       "      <td>20140320194657</td>\n",
       "      <td>NaN</td>\n",
       "      <td>-unknown-</td>\n",
       "      <td>NaN</td>\n",
       "      <td>en</td>\n",
       "      <td>sem-brand</td>\n",
       "      <td>google</td>\n",
       "      <td>Web</td>\n",
       "      <td>Mac Desktop</td>\n",
       "      <td>Chrome</td>\n",
       "      <td>NB</td>\n",
       "    </tr>\n",
       "    <tr>\n",
       "      <th>1</th>\n",
       "      <td>ffcamo77iw</td>\n",
       "      <td>2014-06-27</td>\n",
       "      <td>20140627200146</td>\n",
       "      <td>NaN</td>\n",
       "      <td>FEMALE</td>\n",
       "      <td>35.0</td>\n",
       "      <td>en</td>\n",
       "      <td>direct</td>\n",
       "      <td>direct</td>\n",
       "      <td>Web</td>\n",
       "      <td>Android Tablet</td>\n",
       "      <td>IE</td>\n",
       "      <td>NB</td>\n",
       "    </tr>\n",
       "    <tr>\n",
       "      <th>2</th>\n",
       "      <td>zuxy3ij0hz</td>\n",
       "      <td>2011-09-16</td>\n",
       "      <td>20110916063203</td>\n",
       "      <td>2011-09-16</td>\n",
       "      <td>-unknown-</td>\n",
       "      <td>NaN</td>\n",
       "      <td>en</td>\n",
       "      <td>sem-non-brand</td>\n",
       "      <td>google</td>\n",
       "      <td>Web</td>\n",
       "      <td>Other/Unknown</td>\n",
       "      <td>-unknown-</td>\n",
       "      <td>US</td>\n",
       "    </tr>\n",
       "    <tr>\n",
       "      <th>3</th>\n",
       "      <td>85m8omu8n9</td>\n",
       "      <td>2014-04-03</td>\n",
       "      <td>20140403003645</td>\n",
       "      <td>2014-04-03</td>\n",
       "      <td>-unknown-</td>\n",
       "      <td>NaN</td>\n",
       "      <td>en</td>\n",
       "      <td>direct</td>\n",
       "      <td>direct</td>\n",
       "      <td>Web</td>\n",
       "      <td>Windows Desktop</td>\n",
       "      <td>Firefox</td>\n",
       "      <td>US</td>\n",
       "    </tr>\n",
       "    <tr>\n",
       "      <th>4</th>\n",
       "      <td>qhjsgct7as</td>\n",
       "      <td>2014-04-30</td>\n",
       "      <td>20140430204559</td>\n",
       "      <td>2014-05-02</td>\n",
       "      <td>MALE</td>\n",
       "      <td>38.0</td>\n",
       "      <td>en</td>\n",
       "      <td>sem-brand</td>\n",
       "      <td>google</td>\n",
       "      <td>Web</td>\n",
       "      <td>Mac Desktop</td>\n",
       "      <td>Safari</td>\n",
       "      <td>other</td>\n",
       "    </tr>\n",
       "  </tbody>\n",
       "</table>\n",
       "</div>"
      ],
      "text/plain": [
       "      user_id account_creation_date  ...  web_browser target_country\n",
       "0  ip08oqk8k5            2014-03-20  ...       Chrome             NB\n",
       "1  ffcamo77iw            2014-06-27  ...           IE             NB\n",
       "2  zuxy3ij0hz            2011-09-16  ...    -unknown-             US\n",
       "3  85m8omu8n9            2014-04-03  ...      Firefox             US\n",
       "4  qhjsgct7as            2014-04-30  ...       Safari          other\n",
       "\n",
       "[5 rows x 13 columns]"
      ]
     },
     "execution_count": 427,
     "metadata": {},
     "output_type": "execute_result"
    }
   ],
   "source": [
    "train_df.head()"
   ]
  },
  {
   "cell_type": "code",
   "execution_count": 428,
   "id": "f7e66c65",
   "metadata": {
    "colab": {
     "base_uri": "https://localhost:8080/"
    },
    "id": "f7e66c65",
    "outputId": "2743127b-2125-4064-913c-f12fa0b324e0"
   },
   "outputs": [
    {
     "data": {
      "text/plain": [
       "user_id                  149415\n",
       "account_creation_date    149415\n",
       "first_activity_time      149415\n",
       "first_booking_date        62078\n",
       "gender                   149415\n",
       "age                       87730\n",
       "language                 149415\n",
       "marketing_type           149415\n",
       "marketing_site           149415\n",
       "app_used                 149415\n",
       "device_used              149415\n",
       "web_browser              149415\n",
       "target_country           149415\n",
       "dtype: int64"
      ]
     },
     "execution_count": 428,
     "metadata": {},
     "output_type": "execute_result"
    }
   ],
   "source": [
    "train_df.count()"
   ]
  },
  {
   "cell_type": "code",
   "execution_count": 429,
   "id": "8804e57c",
   "metadata": {
    "colab": {
     "base_uri": "https://localhost:8080/"
    },
    "id": "8804e57c",
    "outputId": "d394a278-34bb-489a-fed3-7997eba4b49d"
   },
   "outputs": [
    {
     "data": {
      "text/plain": [
       "user_id                      0\n",
       "account_creation_date        0\n",
       "first_activity_time          0\n",
       "first_booking_date       37206\n",
       "gender                       0\n",
       "age                      26305\n",
       "language                     0\n",
       "marketing_type               0\n",
       "marketing_site               0\n",
       "app_used                     0\n",
       "device_used                  0\n",
       "web_browser                  0\n",
       "dtype: int64"
      ]
     },
     "execution_count": 429,
     "metadata": {},
     "output_type": "execute_result"
    }
   ],
   "source": [
    "test_df.isna().sum()   ##  checking  null values in test data "
   ]
  },
  {
   "cell_type": "code",
   "execution_count": 430,
   "id": "56d76ef6",
   "metadata": {
    "colab": {
     "base_uri": "https://localhost:8080/"
    },
    "id": "56d76ef6",
    "outputId": "26d58bc9-6567-48e5-f746-0e8effeb4633"
   },
   "outputs": [
    {
     "data": {
      "text/plain": [
       "user_id                      0\n",
       "account_creation_date        0\n",
       "first_activity_time          0\n",
       "first_booking_date       87337\n",
       "gender                       0\n",
       "age                      61685\n",
       "language                     0\n",
       "marketing_type               0\n",
       "marketing_site               0\n",
       "app_used                     0\n",
       "device_used                  0\n",
       "web_browser                  0\n",
       "target_country               0\n",
       "dtype: int64"
      ]
     },
     "execution_count": 430,
     "metadata": {},
     "output_type": "execute_result"
    }
   ],
   "source": [
    "train_df.isna().sum()  ### checking the null values in the train data "
   ]
  },
  {
   "cell_type": "code",
   "execution_count": 431,
   "id": "624f886f",
   "metadata": {
    "colab": {
     "base_uri": "https://localhost:8080/"
    },
    "id": "624f886f",
    "outputId": "35dc2d84-2fea-49d1-899c-b847b5682e80"
   },
   "outputs": [
    {
     "data": {
      "text/plain": [
       "user_id                  0\n",
       "account_creation_date    0\n",
       "first_activity_time      0\n",
       "first_booking_date       0\n",
       "gender                   0\n",
       "age                      0\n",
       "language                 0\n",
       "marketing_type           0\n",
       "marketing_site           0\n",
       "app_used                 0\n",
       "device_used              0\n",
       "web_browser              0\n",
       "target_country           0\n",
       "dtype: int64"
      ]
     },
     "execution_count": 431,
     "metadata": {},
     "output_type": "execute_result"
    }
   ],
   "source": [
    "(train_df==\"?\").sum()    ##checking if any QUESTION MARK means unknown value is present or not "
   ]
  },
  {
   "cell_type": "code",
   "execution_count": 432,
   "id": "b87cb37f",
   "metadata": {
    "colab": {
     "base_uri": "https://localhost:8080/"
    },
    "id": "b87cb37f",
    "outputId": "0b6601c4-d5a5-41eb-a9e3-d08aa3f5cd5f"
   },
   "outputs": [
    {
     "data": {
      "text/plain": [
       "user_id                  0\n",
       "account_creation_date    0\n",
       "first_activity_time      0\n",
       "first_booking_date       0\n",
       "gender                   0\n",
       "age                      0\n",
       "language                 0\n",
       "marketing_type           0\n",
       "marketing_site           0\n",
       "app_used                 0\n",
       "device_used              0\n",
       "web_browser              0\n",
       "dtype: int64"
      ]
     },
     "execution_count": 432,
     "metadata": {},
     "output_type": "execute_result"
    }
   ],
   "source": [
    "(test_df==\"?\").sum()    ### checking tha same above in test dataframe "
   ]
  },
  {
   "cell_type": "code",
   "execution_count": 433,
   "id": "4d8603db",
   "metadata": {
    "colab": {
     "base_uri": "https://localhost:8080/"
    },
    "id": "4d8603db",
    "outputId": "7618ebd2-13fe-41f8-d8e6-c2e98c6fb266"
   },
   "outputs": [
    {
     "data": {
      "text/plain": [
       "2014.0"
      ]
     },
     "execution_count": 433,
     "metadata": {},
     "output_type": "execute_result"
    }
   ],
   "source": [
    "train_df.age.max()  ## checking the age maxmimum value to find out the outliers actually.."
   ]
  },
  {
   "cell_type": "code",
   "execution_count": 434,
   "id": "c4984d2a",
   "metadata": {
    "colab": {
     "base_uri": "https://localhost:8080/"
    },
    "id": "c4984d2a",
    "outputId": "4580edc0-5b04-47c2-fb6c-51db78eb12a1"
   },
   "outputs": [
    {
     "data": {
      "text/plain": [
       "count    87730.000000\n",
       "mean        49.619275\n",
       "std        155.439319\n",
       "min          1.000000\n",
       "25%         28.000000\n",
       "50%         34.000000\n",
       "75%         43.000000\n",
       "max       2014.000000\n",
       "Name: age, dtype: float64"
      ]
     },
     "execution_count": 434,
     "metadata": {},
     "output_type": "execute_result"
    }
   ],
   "source": [
    "train_df['age'].describe() ## so further i am doing age describe so that i can clearly visualise the age data because its an important feature for the targert country"
   ]
  },
  {
   "cell_type": "code",
   "execution_count": 435,
   "id": "4e1c0561",
   "metadata": {
    "colab": {
     "base_uri": "https://localhost:8080/"
    },
    "id": "4e1c0561",
    "outputId": "2004f6b5-0a99-42df-dd71-be3b5bef655c"
   },
   "outputs": [
    {
     "data": {
      "text/plain": [
       "30.0      4299\n",
       "31.0      4196\n",
       "29.0      4146\n",
       "32.0      4111\n",
       "28.0      4085\n",
       "          ... \n",
       "1952.0       1\n",
       "1942.0       1\n",
       "1925.0       1\n",
       "1929.0       1\n",
       "1995.0       1\n",
       "Name: age, Length: 120, dtype: int64"
      ]
     },
     "execution_count": 435,
     "metadata": {},
     "output_type": "execute_result"
    }
   ],
   "source": [
    "train_df['age'].value_counts()  ## seeing the how much unique value of age are present  "
   ]
  },
  {
   "cell_type": "code",
   "execution_count": 436,
   "id": "578c375e",
   "metadata": {
    "colab": {
     "base_uri": "https://localhost:8080/"
    },
    "id": "578c375e",
    "outputId": "d8a7a1cb-bd11-47ec-ee13-1f4f93f2d3ee"
   },
   "outputs": [
    {
     "data": {
      "text/plain": [
       "34.0"
      ]
     },
     "execution_count": 436,
     "metadata": {},
     "output_type": "execute_result"
    }
   ],
   "source": [
    "train_df['age'].median() ## finding out the median of the age so that i can replace the age null or unkown column with the median or mode value"
   ]
  },
  {
   "cell_type": "code",
   "execution_count": 437,
   "id": "4163f251",
   "metadata": {
    "colab": {
     "base_uri": "https://localhost:8080/"
    },
    "id": "4163f251",
    "outputId": "6fac6cfa-97da-4ee2-8d90-234e9cdfe49b"
   },
   "outputs": [
    {
     "data": {
      "text/plain": [
       "0    28.0\n",
       "dtype: float64"
      ]
     },
     "execution_count": 437,
     "metadata": {},
     "output_type": "execute_result"
    }
   ],
   "source": [
    "test_df[\"age\"].mode()"
   ]
  },
  {
   "cell_type": "markdown",
   "id": "373514e4",
   "metadata": {
    "id": "373514e4"
   },
   "source": [
    "## Here since age is one of the important factror to determine the target of the preference city so as i am seeing here that nonsense type of age are also persent so what i am doing here is i am filling the age's NULL values with median values ."
   ]
  },
  {
   "cell_type": "code",
   "execution_count": 438,
   "id": "a3201c95",
   "metadata": {
    "id": "a3201c95"
   },
   "outputs": [],
   "source": [
    "train_df[\"age\"].fillna(train_df[\"age\"].median(), inplace=True) ###so replacing age null value with the median age "
   ]
  },
  {
   "cell_type": "code",
   "execution_count": 439,
   "id": "e61a1966",
   "metadata": {
    "id": "e61a1966"
   },
   "outputs": [],
   "source": [
    "test_df[\"age\"].fillna(test_df[\"age\"].median(), inplace=True)  ## same doing with test data because we have to preprocess the test and train data simultaneously"
   ]
  },
  {
   "cell_type": "code",
   "execution_count": 440,
   "id": "4a1203f3",
   "metadata": {
    "colab": {
     "base_uri": "https://localhost:8080/"
    },
    "id": "4a1203f3",
    "outputId": "4d1e5f90-f9e1-460e-8729-78ed42dafd9b"
   },
   "outputs": [
    {
     "data": {
      "text/plain": [
       "user_id                      0\n",
       "account_creation_date        0\n",
       "first_activity_time          0\n",
       "first_booking_date       87337\n",
       "gender                       0\n",
       "age                          0\n",
       "language                     0\n",
       "marketing_type               0\n",
       "marketing_site               0\n",
       "app_used                     0\n",
       "device_used                  0\n",
       "web_browser                  0\n",
       "target_country               0\n",
       "dtype: int64"
      ]
     },
     "execution_count": 440,
     "metadata": {},
     "output_type": "execute_result"
    }
   ],
   "source": [
    "train_df.isna().sum()"
   ]
  },
  {
   "cell_type": "code",
   "execution_count": 441,
   "id": "9ef08683",
   "metadata": {
    "colab": {
     "base_uri": "https://localhost:8080/"
    },
    "id": "9ef08683",
    "outputId": "440a0906-0fb0-4a66-f220-89bfe62ac603"
   },
   "outputs": [
    {
     "data": {
      "text/plain": [
       "user_id                      0\n",
       "account_creation_date        0\n",
       "first_activity_time          0\n",
       "first_booking_date       37206\n",
       "gender                       0\n",
       "age                          0\n",
       "language                     0\n",
       "marketing_type               0\n",
       "marketing_site               0\n",
       "app_used                     0\n",
       "device_used                  0\n",
       "web_browser                  0\n",
       "dtype: int64"
      ]
     },
     "execution_count": 441,
     "metadata": {},
     "output_type": "execute_result"
    }
   ],
   "source": [
    "test_df.isna().sum()"
   ]
  },
  {
   "cell_type": "code",
   "execution_count": 442,
   "id": "6c143b31",
   "metadata": {
    "colab": {
     "base_uri": "https://localhost:8080/"
    },
    "id": "6c143b31",
    "outputId": "511987d5-7ee0-42ac-ff1d-736fdfb661b1"
   },
   "outputs": [
    {
     "data": {
      "text/plain": [
       "<bound method IndexOpsMixin.value_counts of 0                NaN\n",
       "1                NaN\n",
       "2         2011-09-16\n",
       "3         2014-04-03\n",
       "4         2014-05-02\n",
       "             ...    \n",
       "149410    2014-01-21\n",
       "149411    2014-06-03\n",
       "149412    2014-03-21\n",
       "149413           NaN\n",
       "149414           NaN\n",
       "Name: first_booking_date, Length: 149415, dtype: object>"
      ]
     },
     "execution_count": 442,
     "metadata": {},
     "output_type": "execute_result"
    }
   ],
   "source": [
    "train_df[\"first_booking_date\"].value_counts ### finding the unique value of first booking date for visualisation "
   ]
  },
  {
   "cell_type": "code",
   "execution_count": 443,
   "id": "d27634e8",
   "metadata": {
    "id": "d27634e8"
   },
   "outputs": [],
   "source": [
    "train_df.drop(axis=\"columns\", labels= \"first_booking_date\", inplace=True) ## dropping the first booking date column"
   ]
  },
  {
   "cell_type": "code",
   "execution_count": 444,
   "id": "8876f706",
   "metadata": {
    "id": "8876f706"
   },
   "outputs": [],
   "source": [
    "test_df.drop(axis=\"columns\", labels=\"first_booking_date\", inplace=True) ## same doing from the test data "
   ]
  },
  {
   "cell_type": "code",
   "execution_count": 445,
   "id": "2f36d66b",
   "metadata": {
    "colab": {
     "base_uri": "https://localhost:8080/",
     "height": 203
    },
    "id": "2f36d66b",
    "outputId": "32f5c9d3-e8df-4e21-bb2e-263f623b09b3"
   },
   "outputs": [
    {
     "data": {
      "text/html": [
       "<div>\n",
       "<style scoped>\n",
       "    .dataframe tbody tr th:only-of-type {\n",
       "        vertical-align: middle;\n",
       "    }\n",
       "\n",
       "    .dataframe tbody tr th {\n",
       "        vertical-align: top;\n",
       "    }\n",
       "\n",
       "    .dataframe thead th {\n",
       "        text-align: right;\n",
       "    }\n",
       "</style>\n",
       "<table border=\"1\" class=\"dataframe\">\n",
       "  <thead>\n",
       "    <tr style=\"text-align: right;\">\n",
       "      <th></th>\n",
       "      <th>user_id</th>\n",
       "      <th>account_creation_date</th>\n",
       "      <th>first_activity_time</th>\n",
       "      <th>gender</th>\n",
       "      <th>age</th>\n",
       "      <th>language</th>\n",
       "      <th>marketing_type</th>\n",
       "      <th>marketing_site</th>\n",
       "      <th>app_used</th>\n",
       "      <th>device_used</th>\n",
       "      <th>web_browser</th>\n",
       "      <th>target_country</th>\n",
       "    </tr>\n",
       "  </thead>\n",
       "  <tbody>\n",
       "    <tr>\n",
       "      <th>0</th>\n",
       "      <td>ip08oqk8k5</td>\n",
       "      <td>2014-03-20</td>\n",
       "      <td>20140320194657</td>\n",
       "      <td>-unknown-</td>\n",
       "      <td>34.0</td>\n",
       "      <td>en</td>\n",
       "      <td>sem-brand</td>\n",
       "      <td>google</td>\n",
       "      <td>Web</td>\n",
       "      <td>Mac Desktop</td>\n",
       "      <td>Chrome</td>\n",
       "      <td>NB</td>\n",
       "    </tr>\n",
       "    <tr>\n",
       "      <th>1</th>\n",
       "      <td>ffcamo77iw</td>\n",
       "      <td>2014-06-27</td>\n",
       "      <td>20140627200146</td>\n",
       "      <td>FEMALE</td>\n",
       "      <td>35.0</td>\n",
       "      <td>en</td>\n",
       "      <td>direct</td>\n",
       "      <td>direct</td>\n",
       "      <td>Web</td>\n",
       "      <td>Android Tablet</td>\n",
       "      <td>IE</td>\n",
       "      <td>NB</td>\n",
       "    </tr>\n",
       "    <tr>\n",
       "      <th>2</th>\n",
       "      <td>zuxy3ij0hz</td>\n",
       "      <td>2011-09-16</td>\n",
       "      <td>20110916063203</td>\n",
       "      <td>-unknown-</td>\n",
       "      <td>34.0</td>\n",
       "      <td>en</td>\n",
       "      <td>sem-non-brand</td>\n",
       "      <td>google</td>\n",
       "      <td>Web</td>\n",
       "      <td>Other/Unknown</td>\n",
       "      <td>-unknown-</td>\n",
       "      <td>US</td>\n",
       "    </tr>\n",
       "    <tr>\n",
       "      <th>3</th>\n",
       "      <td>85m8omu8n9</td>\n",
       "      <td>2014-04-03</td>\n",
       "      <td>20140403003645</td>\n",
       "      <td>-unknown-</td>\n",
       "      <td>34.0</td>\n",
       "      <td>en</td>\n",
       "      <td>direct</td>\n",
       "      <td>direct</td>\n",
       "      <td>Web</td>\n",
       "      <td>Windows Desktop</td>\n",
       "      <td>Firefox</td>\n",
       "      <td>US</td>\n",
       "    </tr>\n",
       "    <tr>\n",
       "      <th>4</th>\n",
       "      <td>qhjsgct7as</td>\n",
       "      <td>2014-04-30</td>\n",
       "      <td>20140430204559</td>\n",
       "      <td>MALE</td>\n",
       "      <td>38.0</td>\n",
       "      <td>en</td>\n",
       "      <td>sem-brand</td>\n",
       "      <td>google</td>\n",
       "      <td>Web</td>\n",
       "      <td>Mac Desktop</td>\n",
       "      <td>Safari</td>\n",
       "      <td>other</td>\n",
       "    </tr>\n",
       "  </tbody>\n",
       "</table>\n",
       "</div>"
      ],
      "text/plain": [
       "      user_id account_creation_date  ...  web_browser target_country\n",
       "0  ip08oqk8k5            2014-03-20  ...       Chrome             NB\n",
       "1  ffcamo77iw            2014-06-27  ...           IE             NB\n",
       "2  zuxy3ij0hz            2011-09-16  ...    -unknown-             US\n",
       "3  85m8omu8n9            2014-04-03  ...      Firefox             US\n",
       "4  qhjsgct7as            2014-04-30  ...       Safari          other\n",
       "\n",
       "[5 rows x 12 columns]"
      ]
     },
     "execution_count": 445,
     "metadata": {},
     "output_type": "execute_result"
    }
   ],
   "source": [
    "train_df.head()"
   ]
  },
  {
   "cell_type": "code",
   "execution_count": 446,
   "id": "1be3cd6b",
   "metadata": {
    "colab": {
     "base_uri": "https://localhost:8080/"
    },
    "id": "1be3cd6b",
    "outputId": "997e8c6e-6281-487d-b718-3e0a844ae89d"
   },
   "outputs": [
    {
     "data": {
      "text/plain": [
       "user_id                  0\n",
       "account_creation_date    0\n",
       "first_activity_time      0\n",
       "gender                   0\n",
       "age                      0\n",
       "language                 0\n",
       "marketing_type           0\n",
       "marketing_site           0\n",
       "app_used                 0\n",
       "device_used              0\n",
       "web_browser              0\n",
       "target_country           0\n",
       "dtype: int64"
      ]
     },
     "execution_count": 446,
     "metadata": {},
     "output_type": "execute_result"
    }
   ],
   "source": [
    "train_df.isna().sum()"
   ]
  },
  {
   "cell_type": "code",
   "execution_count": 447,
   "id": "c26c0282",
   "metadata": {
    "colab": {
     "base_uri": "https://localhost:8080/"
    },
    "id": "c26c0282",
    "outputId": "5ffc910b-4c91-4784-ff64-9c9595ec422d"
   },
   "outputs": [
    {
     "data": {
      "text/plain": [
       "user_id                  0\n",
       "account_creation_date    0\n",
       "first_activity_time      0\n",
       "gender                   0\n",
       "age                      0\n",
       "language                 0\n",
       "marketing_type           0\n",
       "marketing_site           0\n",
       "app_used                 0\n",
       "device_used              0\n",
       "web_browser              0\n",
       "dtype: int64"
      ]
     },
     "execution_count": 447,
     "metadata": {},
     "output_type": "execute_result"
    }
   ],
   "source": [
    "test_df.isna().sum()"
   ]
  },
  {
   "cell_type": "markdown",
   "id": "6e7d898a",
   "metadata": {
    "id": "6e7d898a"
   },
   "source": [
    "## i think user id  will also not play an important role in predicting the target country in which he/she wants to book first."
   ]
  },
  {
   "cell_type": "code",
   "execution_count": 448,
   "id": "c92d903a",
   "metadata": {
    "id": "c92d903a"
   },
   "outputs": [],
   "source": [
    "train_df.drop(axis=\"columns\", labels= \"user_id\", inplace=True)  ### so dropping the USER_ID also"
   ]
  },
  {
   "cell_type": "code",
   "execution_count": 449,
   "id": "65d0a892",
   "metadata": {
    "id": "65d0a892"
   },
   "outputs": [],
   "source": [
    "test_df.drop(axis=\"columns\", labels= \"user_id\", inplace=True)  ## same doing from the test data "
   ]
  },
  {
   "cell_type": "code",
   "execution_count": 450,
   "id": "973ac890",
   "metadata": {
    "colab": {
     "base_uri": "https://localhost:8080/"
    },
    "id": "973ac890",
    "outputId": "caf62e96-60ee-43bf-f331-64009e12e2f2"
   },
   "outputs": [
    {
     "data": {
      "text/plain": [
       "account_creation_date    0\n",
       "first_activity_time      0\n",
       "gender                   0\n",
       "age                      0\n",
       "language                 0\n",
       "marketing_type           0\n",
       "marketing_site           0\n",
       "app_used                 0\n",
       "device_used              0\n",
       "web_browser              0\n",
       "target_country           0\n",
       "dtype: int64"
      ]
     },
     "execution_count": 450,
     "metadata": {},
     "output_type": "execute_result"
    }
   ],
   "source": [
    "train_df.isna().sum()"
   ]
  },
  {
   "cell_type": "code",
   "execution_count": 451,
   "id": "039e86cd",
   "metadata": {
    "colab": {
     "base_uri": "https://localhost:8080/",
     "height": 203
    },
    "id": "039e86cd",
    "outputId": "1f2c690a-ab2f-457e-ead8-29ffe6b1f68f"
   },
   "outputs": [
    {
     "data": {
      "text/html": [
       "<div>\n",
       "<style scoped>\n",
       "    .dataframe tbody tr th:only-of-type {\n",
       "        vertical-align: middle;\n",
       "    }\n",
       "\n",
       "    .dataframe tbody tr th {\n",
       "        vertical-align: top;\n",
       "    }\n",
       "\n",
       "    .dataframe thead th {\n",
       "        text-align: right;\n",
       "    }\n",
       "</style>\n",
       "<table border=\"1\" class=\"dataframe\">\n",
       "  <thead>\n",
       "    <tr style=\"text-align: right;\">\n",
       "      <th></th>\n",
       "      <th>account_creation_date</th>\n",
       "      <th>first_activity_time</th>\n",
       "      <th>gender</th>\n",
       "      <th>age</th>\n",
       "      <th>language</th>\n",
       "      <th>marketing_type</th>\n",
       "      <th>marketing_site</th>\n",
       "      <th>app_used</th>\n",
       "      <th>device_used</th>\n",
       "      <th>web_browser</th>\n",
       "      <th>target_country</th>\n",
       "    </tr>\n",
       "  </thead>\n",
       "  <tbody>\n",
       "    <tr>\n",
       "      <th>0</th>\n",
       "      <td>2014-03-20</td>\n",
       "      <td>20140320194657</td>\n",
       "      <td>-unknown-</td>\n",
       "      <td>34.0</td>\n",
       "      <td>en</td>\n",
       "      <td>sem-brand</td>\n",
       "      <td>google</td>\n",
       "      <td>Web</td>\n",
       "      <td>Mac Desktop</td>\n",
       "      <td>Chrome</td>\n",
       "      <td>NB</td>\n",
       "    </tr>\n",
       "    <tr>\n",
       "      <th>1</th>\n",
       "      <td>2014-06-27</td>\n",
       "      <td>20140627200146</td>\n",
       "      <td>FEMALE</td>\n",
       "      <td>35.0</td>\n",
       "      <td>en</td>\n",
       "      <td>direct</td>\n",
       "      <td>direct</td>\n",
       "      <td>Web</td>\n",
       "      <td>Android Tablet</td>\n",
       "      <td>IE</td>\n",
       "      <td>NB</td>\n",
       "    </tr>\n",
       "    <tr>\n",
       "      <th>2</th>\n",
       "      <td>2011-09-16</td>\n",
       "      <td>20110916063203</td>\n",
       "      <td>-unknown-</td>\n",
       "      <td>34.0</td>\n",
       "      <td>en</td>\n",
       "      <td>sem-non-brand</td>\n",
       "      <td>google</td>\n",
       "      <td>Web</td>\n",
       "      <td>Other/Unknown</td>\n",
       "      <td>-unknown-</td>\n",
       "      <td>US</td>\n",
       "    </tr>\n",
       "    <tr>\n",
       "      <th>3</th>\n",
       "      <td>2014-04-03</td>\n",
       "      <td>20140403003645</td>\n",
       "      <td>-unknown-</td>\n",
       "      <td>34.0</td>\n",
       "      <td>en</td>\n",
       "      <td>direct</td>\n",
       "      <td>direct</td>\n",
       "      <td>Web</td>\n",
       "      <td>Windows Desktop</td>\n",
       "      <td>Firefox</td>\n",
       "      <td>US</td>\n",
       "    </tr>\n",
       "    <tr>\n",
       "      <th>4</th>\n",
       "      <td>2014-04-30</td>\n",
       "      <td>20140430204559</td>\n",
       "      <td>MALE</td>\n",
       "      <td>38.0</td>\n",
       "      <td>en</td>\n",
       "      <td>sem-brand</td>\n",
       "      <td>google</td>\n",
       "      <td>Web</td>\n",
       "      <td>Mac Desktop</td>\n",
       "      <td>Safari</td>\n",
       "      <td>other</td>\n",
       "    </tr>\n",
       "  </tbody>\n",
       "</table>\n",
       "</div>"
      ],
      "text/plain": [
       "  account_creation_date  first_activity_time  ... web_browser  target_country\n",
       "0            2014-03-20       20140320194657  ...      Chrome              NB\n",
       "1            2014-06-27       20140627200146  ...          IE              NB\n",
       "2            2011-09-16       20110916063203  ...   -unknown-              US\n",
       "3            2014-04-03       20140403003645  ...     Firefox              US\n",
       "4            2014-04-30       20140430204559  ...      Safari           other\n",
       "\n",
       "[5 rows x 11 columns]"
      ]
     },
     "execution_count": 451,
     "metadata": {},
     "output_type": "execute_result"
    }
   ],
   "source": [
    "train_df.head()"
   ]
  },
  {
   "cell_type": "code",
   "execution_count": 452,
   "id": "818de696",
   "metadata": {
    "id": "818de696"
   },
   "outputs": [],
   "source": [
    "train_df.drop(axis=\"columns\", labels= \"account_creation_date\", inplace=True)   ## dropping the account creation date column because it will not play an important role in the features"
   ]
  },
  {
   "cell_type": "code",
   "execution_count": 453,
   "id": "714fd21b",
   "metadata": {
    "id": "714fd21b"
   },
   "outputs": [],
   "source": [
    "test_df.drop(axis=\"columns\", labels= \"account_creation_date\", inplace=True) ## same doing simultaneously with the test data "
   ]
  },
  {
   "cell_type": "code",
   "execution_count": 454,
   "id": "54828e9e",
   "metadata": {
    "colab": {
     "base_uri": "https://localhost:8080/"
    },
    "id": "54828e9e",
    "outputId": "70bc93bb-1cf7-43d3-8230-f937c7b3eec6"
   },
   "outputs": [
    {
     "data": {
      "text/plain": [
       "-unknown-    67013\n",
       "FEMALE       44119\n",
       "MALE         38092\n",
       "OTHER          191\n",
       "Name: gender, dtype: int64"
      ]
     },
     "execution_count": 454,
     "metadata": {},
     "output_type": "execute_result"
    }
   ],
   "source": [
    "train_df[\"gender\"].value_counts() ## seeing the description for gender "
   ]
  },
  {
   "cell_type": "code",
   "execution_count": 455,
   "id": "039b5e2f",
   "metadata": {
    "colab": {
     "base_uri": "https://localhost:8080/"
    },
    "id": "039b5e2f",
    "outputId": "cd586ea8-ab05-4fe5-f365-1009e04db779"
   },
   "outputs": [
    {
     "data": {
      "text/plain": [
       "en    144458\n",
       "zh      1152\n",
       "fr       815\n",
       "es       628\n",
       "de       509\n",
       "ko       505\n",
       "it       355\n",
       "ru       280\n",
       "pt       175\n",
       "ja       151\n",
       "sv        76\n",
       "nl        72\n",
       "pl        41\n",
       "da        37\n",
       "tr        36\n",
       "no        21\n",
       "cs        20\n",
       "el        19\n",
       "id        16\n",
       "fi        14\n",
       "hu        13\n",
       "th        13\n",
       "ca         5\n",
       "is         3\n",
       "hr         1\n",
       "Name: language, dtype: int64"
      ]
     },
     "execution_count": 455,
     "metadata": {},
     "output_type": "execute_result"
    }
   ],
   "source": [
    "train_df[\"language\"].value_counts()"
   ]
  },
  {
   "cell_type": "code",
   "execution_count": 456,
   "id": "24fea5c0",
   "metadata": {
    "id": "24fea5c0"
   },
   "outputs": [],
   "source": [
    "#train_df.drop(axis=\"columns\", labels= \"app_used\", inplace=True)"
   ]
  },
  {
   "cell_type": "code",
   "execution_count": 457,
   "id": "1c2bbfd2",
   "metadata": {
    "id": "1c2bbfd2"
   },
   "outputs": [],
   "source": [
    "#test_df.drop(axis=\"columns\", labels= \"app_used\", inplace=True)"
   ]
  },
  {
   "cell_type": "code",
   "execution_count": 458,
   "id": "cdb347a7",
   "metadata": {
    "id": "cdb347a7"
   },
   "outputs": [],
   "source": [
    "#train_df.drop(axis=\"columns\", labels= \"device_used\", inplace=True)"
   ]
  },
  {
   "cell_type": "code",
   "execution_count": 459,
   "id": "0620703a",
   "metadata": {
    "id": "0620703a"
   },
   "outputs": [],
   "source": [
    "#test_df.drop(axis=\"columns\", labels= \"device_used\", inplace=True)"
   ]
  },
  {
   "cell_type": "code",
   "execution_count": 460,
   "id": "6bd2ffa8",
   "metadata": {
    "id": "6bd2ffa8"
   },
   "outputs": [],
   "source": [
    "train_df.drop(axis=\"columns\", labels= \"marketing_type\", inplace=True)  ## dropping the marketing type columns from the train and test data "
   ]
  },
  {
   "cell_type": "code",
   "execution_count": 461,
   "id": "24f8a1ec",
   "metadata": {
    "id": "24f8a1ec"
   },
   "outputs": [],
   "source": [
    "test_df.drop(axis=\"columns\", labels= \"marketing_type\", inplace=True)"
   ]
  },
  {
   "cell_type": "code",
   "execution_count": 462,
   "id": "d012f489",
   "metadata": {
    "id": "d012f489"
   },
   "outputs": [],
   "source": [
    "train_df.drop(axis=\"columns\", labels= \"marketing_site\", inplace=True)   "
   ]
  },
  {
   "cell_type": "code",
   "execution_count": 463,
   "id": "da455b2b",
   "metadata": {
    "id": "da455b2b"
   },
   "outputs": [],
   "source": [
    "test_df.drop(axis=\"columns\", labels= \"marketing_site\", inplace=True)"
   ]
  },
  {
   "cell_type": "code",
   "execution_count": 464,
   "id": "c95245ef",
   "metadata": {
    "colab": {
     "base_uri": "https://localhost:8080/",
     "height": 203
    },
    "id": "c95245ef",
    "outputId": "0076ed94-4d40-468d-9b31-4d1f5c5a7046"
   },
   "outputs": [
    {
     "data": {
      "text/html": [
       "<div>\n",
       "<style scoped>\n",
       "    .dataframe tbody tr th:only-of-type {\n",
       "        vertical-align: middle;\n",
       "    }\n",
       "\n",
       "    .dataframe tbody tr th {\n",
       "        vertical-align: top;\n",
       "    }\n",
       "\n",
       "    .dataframe thead th {\n",
       "        text-align: right;\n",
       "    }\n",
       "</style>\n",
       "<table border=\"1\" class=\"dataframe\">\n",
       "  <thead>\n",
       "    <tr style=\"text-align: right;\">\n",
       "      <th></th>\n",
       "      <th>first_activity_time</th>\n",
       "      <th>gender</th>\n",
       "      <th>age</th>\n",
       "      <th>language</th>\n",
       "      <th>app_used</th>\n",
       "      <th>device_used</th>\n",
       "      <th>web_browser</th>\n",
       "      <th>target_country</th>\n",
       "    </tr>\n",
       "  </thead>\n",
       "  <tbody>\n",
       "    <tr>\n",
       "      <th>0</th>\n",
       "      <td>20140320194657</td>\n",
       "      <td>-unknown-</td>\n",
       "      <td>34.0</td>\n",
       "      <td>en</td>\n",
       "      <td>Web</td>\n",
       "      <td>Mac Desktop</td>\n",
       "      <td>Chrome</td>\n",
       "      <td>NB</td>\n",
       "    </tr>\n",
       "    <tr>\n",
       "      <th>1</th>\n",
       "      <td>20140627200146</td>\n",
       "      <td>FEMALE</td>\n",
       "      <td>35.0</td>\n",
       "      <td>en</td>\n",
       "      <td>Web</td>\n",
       "      <td>Android Tablet</td>\n",
       "      <td>IE</td>\n",
       "      <td>NB</td>\n",
       "    </tr>\n",
       "    <tr>\n",
       "      <th>2</th>\n",
       "      <td>20110916063203</td>\n",
       "      <td>-unknown-</td>\n",
       "      <td>34.0</td>\n",
       "      <td>en</td>\n",
       "      <td>Web</td>\n",
       "      <td>Other/Unknown</td>\n",
       "      <td>-unknown-</td>\n",
       "      <td>US</td>\n",
       "    </tr>\n",
       "    <tr>\n",
       "      <th>3</th>\n",
       "      <td>20140403003645</td>\n",
       "      <td>-unknown-</td>\n",
       "      <td>34.0</td>\n",
       "      <td>en</td>\n",
       "      <td>Web</td>\n",
       "      <td>Windows Desktop</td>\n",
       "      <td>Firefox</td>\n",
       "      <td>US</td>\n",
       "    </tr>\n",
       "    <tr>\n",
       "      <th>4</th>\n",
       "      <td>20140430204559</td>\n",
       "      <td>MALE</td>\n",
       "      <td>38.0</td>\n",
       "      <td>en</td>\n",
       "      <td>Web</td>\n",
       "      <td>Mac Desktop</td>\n",
       "      <td>Safari</td>\n",
       "      <td>other</td>\n",
       "    </tr>\n",
       "  </tbody>\n",
       "</table>\n",
       "</div>"
      ],
      "text/plain": [
       "   first_activity_time     gender  ...  web_browser target_country\n",
       "0       20140320194657  -unknown-  ...       Chrome             NB\n",
       "1       20140627200146     FEMALE  ...           IE             NB\n",
       "2       20110916063203  -unknown-  ...    -unknown-             US\n",
       "3       20140403003645  -unknown-  ...      Firefox             US\n",
       "4       20140430204559       MALE  ...       Safari          other\n",
       "\n",
       "[5 rows x 8 columns]"
      ]
     },
     "execution_count": 464,
     "metadata": {},
     "output_type": "execute_result"
    }
   ],
   "source": [
    "train_df.head()"
   ]
  },
  {
   "cell_type": "code",
   "execution_count": 465,
   "id": "01f96502",
   "metadata": {
    "colab": {
     "base_uri": "https://localhost:8080/",
     "height": 203
    },
    "id": "01f96502",
    "outputId": "08eab492-191d-4369-efd8-747f5fa1835f"
   },
   "outputs": [
    {
     "data": {
      "text/html": [
       "<div>\n",
       "<style scoped>\n",
       "    .dataframe tbody tr th:only-of-type {\n",
       "        vertical-align: middle;\n",
       "    }\n",
       "\n",
       "    .dataframe tbody tr th {\n",
       "        vertical-align: top;\n",
       "    }\n",
       "\n",
       "    .dataframe thead th {\n",
       "        text-align: right;\n",
       "    }\n",
       "</style>\n",
       "<table border=\"1\" class=\"dataframe\">\n",
       "  <thead>\n",
       "    <tr style=\"text-align: right;\">\n",
       "      <th></th>\n",
       "      <th>first_activity_time</th>\n",
       "      <th>gender</th>\n",
       "      <th>age</th>\n",
       "      <th>language</th>\n",
       "      <th>app_used</th>\n",
       "      <th>device_used</th>\n",
       "      <th>web_browser</th>\n",
       "    </tr>\n",
       "  </thead>\n",
       "  <tbody>\n",
       "    <tr>\n",
       "      <th>0</th>\n",
       "      <td>20140217005503</td>\n",
       "      <td>FEMALE</td>\n",
       "      <td>27.0</td>\n",
       "      <td>en</td>\n",
       "      <td>Web</td>\n",
       "      <td>Windows Desktop</td>\n",
       "      <td>Firefox</td>\n",
       "    </tr>\n",
       "    <tr>\n",
       "      <th>1</th>\n",
       "      <td>20140311181449</td>\n",
       "      <td>-unknown-</td>\n",
       "      <td>34.0</td>\n",
       "      <td>en</td>\n",
       "      <td>Web</td>\n",
       "      <td>Mac Desktop</td>\n",
       "      <td>Chrome</td>\n",
       "    </tr>\n",
       "    <tr>\n",
       "      <th>2</th>\n",
       "      <td>20130604060604</td>\n",
       "      <td>MALE</td>\n",
       "      <td>52.0</td>\n",
       "      <td>en</td>\n",
       "      <td>Web</td>\n",
       "      <td>Mac Desktop</td>\n",
       "      <td>Safari</td>\n",
       "    </tr>\n",
       "    <tr>\n",
       "      <th>3</th>\n",
       "      <td>20120816172708</td>\n",
       "      <td>FEMALE</td>\n",
       "      <td>45.0</td>\n",
       "      <td>en</td>\n",
       "      <td>Web</td>\n",
       "      <td>Mac Desktop</td>\n",
       "      <td>Safari</td>\n",
       "    </tr>\n",
       "    <tr>\n",
       "      <th>4</th>\n",
       "      <td>20130502074337</td>\n",
       "      <td>FEMALE</td>\n",
       "      <td>35.0</td>\n",
       "      <td>en</td>\n",
       "      <td>Web</td>\n",
       "      <td>Mac Desktop</td>\n",
       "      <td>Firefox</td>\n",
       "    </tr>\n",
       "  </tbody>\n",
       "</table>\n",
       "</div>"
      ],
      "text/plain": [
       "   first_activity_time     gender   age  ... app_used      device_used web_browser\n",
       "0       20140217005503     FEMALE  27.0  ...      Web  Windows Desktop     Firefox\n",
       "1       20140311181449  -unknown-  34.0  ...      Web      Mac Desktop      Chrome\n",
       "2       20130604060604       MALE  52.0  ...      Web      Mac Desktop      Safari\n",
       "3       20120816172708     FEMALE  45.0  ...      Web      Mac Desktop      Safari\n",
       "4       20130502074337     FEMALE  35.0  ...      Web      Mac Desktop     Firefox\n",
       "\n",
       "[5 rows x 7 columns]"
      ]
     },
     "execution_count": 465,
     "metadata": {},
     "output_type": "execute_result"
    }
   ],
   "source": [
    "test_df.head()"
   ]
  },
  {
   "cell_type": "code",
   "execution_count": 466,
   "id": "4902ba7d",
   "metadata": {
    "id": "4902ba7d"
   },
   "outputs": [],
   "source": [
    "#train_df.drop(axis=\"columns\", labels= \"web_browser\", inplace=True)"
   ]
  },
  {
   "cell_type": "code",
   "execution_count": 467,
   "id": "85a1b9ba",
   "metadata": {
    "id": "85a1b9ba"
   },
   "outputs": [],
   "source": [
    "#test_df.drop(axis=\"columns\", labels= \"web_browser\", inplace=True)"
   ]
  },
  {
   "cell_type": "code",
   "execution_count": 468,
   "id": "9b7a3ee3",
   "metadata": {
    "id": "9b7a3ee3"
   },
   "outputs": [],
   "source": [
    "#column_names_to_one_hot = [\"gender\", \"language\"]"
   ]
  },
  {
   "cell_type": "code",
   "execution_count": 469,
   "id": "6ae840f7",
   "metadata": {
    "id": "6ae840f7"
   },
   "outputs": [],
   "source": [
    "#test_df = pd.get_dummies(test_df, columns=column_names_to_one_hot)"
   ]
  },
  {
   "cell_type": "code",
   "execution_count": 470,
   "id": "837ba863",
   "metadata": {
    "colab": {
     "base_uri": "https://localhost:8080/"
    },
    "id": "837ba863",
    "outputId": "85ab7f42-d392-49d9-b0ea-785463cce51a"
   },
   "outputs": [
    {
     "data": {
      "text/plain": [
       "Index(['first_activity_time', 'gender', 'age', 'language', 'app_used',\n",
       "       'device_used', 'web_browser'],\n",
       "      dtype='object')"
      ]
     },
     "execution_count": 470,
     "metadata": {},
     "output_type": "execute_result"
    }
   ],
   "source": [
    "test_df.columns"
   ]
  },
  {
   "cell_type": "code",
   "execution_count": 471,
   "id": "d06ef7b7",
   "metadata": {
    "colab": {
     "base_uri": "https://localhost:8080/",
     "height": 203
    },
    "id": "d06ef7b7",
    "outputId": "2a53ee8c-5026-475f-d832-5703596ee3f0"
   },
   "outputs": [
    {
     "data": {
      "text/html": [
       "<div>\n",
       "<style scoped>\n",
       "    .dataframe tbody tr th:only-of-type {\n",
       "        vertical-align: middle;\n",
       "    }\n",
       "\n",
       "    .dataframe tbody tr th {\n",
       "        vertical-align: top;\n",
       "    }\n",
       "\n",
       "    .dataframe thead th {\n",
       "        text-align: right;\n",
       "    }\n",
       "</style>\n",
       "<table border=\"1\" class=\"dataframe\">\n",
       "  <thead>\n",
       "    <tr style=\"text-align: right;\">\n",
       "      <th></th>\n",
       "      <th>first_activity_time</th>\n",
       "      <th>gender</th>\n",
       "      <th>age</th>\n",
       "      <th>language</th>\n",
       "      <th>app_used</th>\n",
       "      <th>device_used</th>\n",
       "      <th>web_browser</th>\n",
       "    </tr>\n",
       "  </thead>\n",
       "  <tbody>\n",
       "    <tr>\n",
       "      <th>0</th>\n",
       "      <td>20140217005503</td>\n",
       "      <td>FEMALE</td>\n",
       "      <td>27.0</td>\n",
       "      <td>en</td>\n",
       "      <td>Web</td>\n",
       "      <td>Windows Desktop</td>\n",
       "      <td>Firefox</td>\n",
       "    </tr>\n",
       "    <tr>\n",
       "      <th>1</th>\n",
       "      <td>20140311181449</td>\n",
       "      <td>-unknown-</td>\n",
       "      <td>34.0</td>\n",
       "      <td>en</td>\n",
       "      <td>Web</td>\n",
       "      <td>Mac Desktop</td>\n",
       "      <td>Chrome</td>\n",
       "    </tr>\n",
       "    <tr>\n",
       "      <th>2</th>\n",
       "      <td>20130604060604</td>\n",
       "      <td>MALE</td>\n",
       "      <td>52.0</td>\n",
       "      <td>en</td>\n",
       "      <td>Web</td>\n",
       "      <td>Mac Desktop</td>\n",
       "      <td>Safari</td>\n",
       "    </tr>\n",
       "    <tr>\n",
       "      <th>3</th>\n",
       "      <td>20120816172708</td>\n",
       "      <td>FEMALE</td>\n",
       "      <td>45.0</td>\n",
       "      <td>en</td>\n",
       "      <td>Web</td>\n",
       "      <td>Mac Desktop</td>\n",
       "      <td>Safari</td>\n",
       "    </tr>\n",
       "    <tr>\n",
       "      <th>4</th>\n",
       "      <td>20130502074337</td>\n",
       "      <td>FEMALE</td>\n",
       "      <td>35.0</td>\n",
       "      <td>en</td>\n",
       "      <td>Web</td>\n",
       "      <td>Mac Desktop</td>\n",
       "      <td>Firefox</td>\n",
       "    </tr>\n",
       "  </tbody>\n",
       "</table>\n",
       "</div>"
      ],
      "text/plain": [
       "   first_activity_time     gender   age  ... app_used      device_used web_browser\n",
       "0       20140217005503     FEMALE  27.0  ...      Web  Windows Desktop     Firefox\n",
       "1       20140311181449  -unknown-  34.0  ...      Web      Mac Desktop      Chrome\n",
       "2       20130604060604       MALE  52.0  ...      Web      Mac Desktop      Safari\n",
       "3       20120816172708     FEMALE  45.0  ...      Web      Mac Desktop      Safari\n",
       "4       20130502074337     FEMALE  35.0  ...      Web      Mac Desktop     Firefox\n",
       "\n",
       "[5 rows x 7 columns]"
      ]
     },
     "execution_count": 471,
     "metadata": {},
     "output_type": "execute_result"
    }
   ],
   "source": [
    "test_df.head()"
   ]
  },
  {
   "cell_type": "code",
   "execution_count": 472,
   "id": "5de9c6f0",
   "metadata": {
    "colab": {
     "base_uri": "https://localhost:8080/",
     "height": 203
    },
    "id": "5de9c6f0",
    "outputId": "b2859ba7-333d-4800-b473-a099077fb72b"
   },
   "outputs": [
    {
     "data": {
      "text/html": [
       "<div>\n",
       "<style scoped>\n",
       "    .dataframe tbody tr th:only-of-type {\n",
       "        vertical-align: middle;\n",
       "    }\n",
       "\n",
       "    .dataframe tbody tr th {\n",
       "        vertical-align: top;\n",
       "    }\n",
       "\n",
       "    .dataframe thead th {\n",
       "        text-align: right;\n",
       "    }\n",
       "</style>\n",
       "<table border=\"1\" class=\"dataframe\">\n",
       "  <thead>\n",
       "    <tr style=\"text-align: right;\">\n",
       "      <th></th>\n",
       "      <th>first_activity_time</th>\n",
       "      <th>gender</th>\n",
       "      <th>age</th>\n",
       "      <th>language</th>\n",
       "      <th>app_used</th>\n",
       "      <th>device_used</th>\n",
       "      <th>web_browser</th>\n",
       "      <th>target_country</th>\n",
       "    </tr>\n",
       "  </thead>\n",
       "  <tbody>\n",
       "    <tr>\n",
       "      <th>0</th>\n",
       "      <td>20140320194657</td>\n",
       "      <td>-unknown-</td>\n",
       "      <td>34.0</td>\n",
       "      <td>en</td>\n",
       "      <td>Web</td>\n",
       "      <td>Mac Desktop</td>\n",
       "      <td>Chrome</td>\n",
       "      <td>NB</td>\n",
       "    </tr>\n",
       "    <tr>\n",
       "      <th>1</th>\n",
       "      <td>20140627200146</td>\n",
       "      <td>FEMALE</td>\n",
       "      <td>35.0</td>\n",
       "      <td>en</td>\n",
       "      <td>Web</td>\n",
       "      <td>Android Tablet</td>\n",
       "      <td>IE</td>\n",
       "      <td>NB</td>\n",
       "    </tr>\n",
       "    <tr>\n",
       "      <th>2</th>\n",
       "      <td>20110916063203</td>\n",
       "      <td>-unknown-</td>\n",
       "      <td>34.0</td>\n",
       "      <td>en</td>\n",
       "      <td>Web</td>\n",
       "      <td>Other/Unknown</td>\n",
       "      <td>-unknown-</td>\n",
       "      <td>US</td>\n",
       "    </tr>\n",
       "    <tr>\n",
       "      <th>3</th>\n",
       "      <td>20140403003645</td>\n",
       "      <td>-unknown-</td>\n",
       "      <td>34.0</td>\n",
       "      <td>en</td>\n",
       "      <td>Web</td>\n",
       "      <td>Windows Desktop</td>\n",
       "      <td>Firefox</td>\n",
       "      <td>US</td>\n",
       "    </tr>\n",
       "    <tr>\n",
       "      <th>4</th>\n",
       "      <td>20140430204559</td>\n",
       "      <td>MALE</td>\n",
       "      <td>38.0</td>\n",
       "      <td>en</td>\n",
       "      <td>Web</td>\n",
       "      <td>Mac Desktop</td>\n",
       "      <td>Safari</td>\n",
       "      <td>other</td>\n",
       "    </tr>\n",
       "  </tbody>\n",
       "</table>\n",
       "</div>"
      ],
      "text/plain": [
       "   first_activity_time     gender  ...  web_browser target_country\n",
       "0       20140320194657  -unknown-  ...       Chrome             NB\n",
       "1       20140627200146     FEMALE  ...           IE             NB\n",
       "2       20110916063203  -unknown-  ...    -unknown-             US\n",
       "3       20140403003645  -unknown-  ...      Firefox             US\n",
       "4       20140430204559       MALE  ...       Safari          other\n",
       "\n",
       "[5 rows x 8 columns]"
      ]
     },
     "execution_count": 472,
     "metadata": {},
     "output_type": "execute_result"
    }
   ],
   "source": [
    "train_df.head()"
   ]
  },
  {
   "cell_type": "code",
   "execution_count": 472,
   "id": "LTxCIlRGZ8Yj",
   "metadata": {
    "id": "LTxCIlRGZ8Yj"
   },
   "outputs": [],
   "source": []
  },
  {
   "cell_type": "code",
   "execution_count": 472,
   "id": "AFHegsgCbEBf",
   "metadata": {
    "id": "AFHegsgCbEBf"
   },
   "outputs": [],
   "source": []
  },
  {
   "cell_type": "markdown",
   "id": "EAZ9N0GJZ-Mw",
   "metadata": {
    "id": "EAZ9N0GJZ-Mw"
   },
   "source": [
    "what i am doing below is  i am doing label encoding to the target country "
   ]
  },
  {
   "cell_type": "code",
   "execution_count": 473,
   "id": "fso42GhEbrsp",
   "metadata": {
    "colab": {
     "base_uri": "https://localhost:8080/"
    },
    "id": "fso42GhEbrsp",
    "outputId": "e0afeacb-67e4-4236-8326-8a4ac52978c4"
   },
   "outputs": [
    {
     "data": {
      "text/plain": [
       "array(['NB', 'US', 'other', 'FR', 'AU', 'ES', 'NL', 'GB', 'IT', 'CA',\n",
       "       'DE', 'PT'], dtype=object)"
      ]
     },
     "execution_count": 473,
     "metadata": {},
     "output_type": "execute_result"
    }
   ],
   "source": [
    "train_df[\"target_country\"].unique()"
   ]
  },
  {
   "cell_type": "code",
   "execution_count": 474,
   "id": "4mONdIfHc4Cl",
   "metadata": {
    "colab": {
     "base_uri": "https://localhost:8080/"
    },
    "id": "4mONdIfHc4Cl",
    "outputId": "0021f1f7-f999-4d40-c438-a3760e4fc1e5"
   },
   "outputs": [
    {
     "data": {
      "text/plain": [
       "array([ 7, 10, 11,  4,  0,  3,  8,  5,  6,  1,  2,  9])"
      ]
     },
     "execution_count": 474,
     "metadata": {},
     "output_type": "execute_result"
    }
   ],
   "source": [
    "\n",
    "\n",
    "\n",
    "####### here what i am doing is i am converting the target country into different labels by doing label encoding  \n",
    "\n",
    "from sklearn import preprocessing\n",
    " \n",
    "# label_encoder object knows how to understand word labels.\n",
    "label_encoder = preprocessing.LabelEncoder()\n",
    " \n",
    "# Encode labels in column 'species'.\n",
    "train_df['target_country']= label_encoder.fit_transform(train_df['target_country'])\n",
    " \n",
    "train_df['target_country'].unique()\n",
    "\n",
    "\n",
    "\n",
    "\n",
    "\n",
    "\n",
    "\n"
   ]
  },
  {
   "cell_type": "code",
   "execution_count": 475,
   "id": "mx-xHPw5Z8mI",
   "metadata": {
    "colab": {
     "base_uri": "https://localhost:8080/",
     "height": 203
    },
    "id": "mx-xHPw5Z8mI",
    "outputId": "3eba6bb1-b355-4f4b-fe38-1a5d20253c20"
   },
   "outputs": [
    {
     "data": {
      "text/html": [
       "<div>\n",
       "<style scoped>\n",
       "    .dataframe tbody tr th:only-of-type {\n",
       "        vertical-align: middle;\n",
       "    }\n",
       "\n",
       "    .dataframe tbody tr th {\n",
       "        vertical-align: top;\n",
       "    }\n",
       "\n",
       "    .dataframe thead th {\n",
       "        text-align: right;\n",
       "    }\n",
       "</style>\n",
       "<table border=\"1\" class=\"dataframe\">\n",
       "  <thead>\n",
       "    <tr style=\"text-align: right;\">\n",
       "      <th></th>\n",
       "      <th>first_activity_time</th>\n",
       "      <th>gender</th>\n",
       "      <th>age</th>\n",
       "      <th>language</th>\n",
       "      <th>app_used</th>\n",
       "      <th>device_used</th>\n",
       "      <th>web_browser</th>\n",
       "      <th>target_country</th>\n",
       "    </tr>\n",
       "  </thead>\n",
       "  <tbody>\n",
       "    <tr>\n",
       "      <th>0</th>\n",
       "      <td>20140320194657</td>\n",
       "      <td>-unknown-</td>\n",
       "      <td>34.0</td>\n",
       "      <td>en</td>\n",
       "      <td>Web</td>\n",
       "      <td>Mac Desktop</td>\n",
       "      <td>Chrome</td>\n",
       "      <td>7</td>\n",
       "    </tr>\n",
       "    <tr>\n",
       "      <th>1</th>\n",
       "      <td>20140627200146</td>\n",
       "      <td>FEMALE</td>\n",
       "      <td>35.0</td>\n",
       "      <td>en</td>\n",
       "      <td>Web</td>\n",
       "      <td>Android Tablet</td>\n",
       "      <td>IE</td>\n",
       "      <td>7</td>\n",
       "    </tr>\n",
       "    <tr>\n",
       "      <th>2</th>\n",
       "      <td>20110916063203</td>\n",
       "      <td>-unknown-</td>\n",
       "      <td>34.0</td>\n",
       "      <td>en</td>\n",
       "      <td>Web</td>\n",
       "      <td>Other/Unknown</td>\n",
       "      <td>-unknown-</td>\n",
       "      <td>10</td>\n",
       "    </tr>\n",
       "    <tr>\n",
       "      <th>3</th>\n",
       "      <td>20140403003645</td>\n",
       "      <td>-unknown-</td>\n",
       "      <td>34.0</td>\n",
       "      <td>en</td>\n",
       "      <td>Web</td>\n",
       "      <td>Windows Desktop</td>\n",
       "      <td>Firefox</td>\n",
       "      <td>10</td>\n",
       "    </tr>\n",
       "    <tr>\n",
       "      <th>4</th>\n",
       "      <td>20140430204559</td>\n",
       "      <td>MALE</td>\n",
       "      <td>38.0</td>\n",
       "      <td>en</td>\n",
       "      <td>Web</td>\n",
       "      <td>Mac Desktop</td>\n",
       "      <td>Safari</td>\n",
       "      <td>11</td>\n",
       "    </tr>\n",
       "  </tbody>\n",
       "</table>\n",
       "</div>"
      ],
      "text/plain": [
       "   first_activity_time     gender  ...  web_browser target_country\n",
       "0       20140320194657  -unknown-  ...       Chrome              7\n",
       "1       20140627200146     FEMALE  ...           IE              7\n",
       "2       20110916063203  -unknown-  ...    -unknown-             10\n",
       "3       20140403003645  -unknown-  ...      Firefox             10\n",
       "4       20140430204559       MALE  ...       Safari             11\n",
       "\n",
       "[5 rows x 8 columns]"
      ]
     },
     "execution_count": 475,
     "metadata": {},
     "output_type": "execute_result"
    }
   ],
   "source": [
    "train_df.head()"
   ]
  },
  {
   "cell_type": "code",
   "execution_count": 476,
   "id": "e75e09fa",
   "metadata": {
    "id": "e75e09fa"
   },
   "outputs": [],
   "source": [
    "#column_names_to_one_hot = [\"target_country\"]"
   ]
  },
  {
   "cell_type": "code",
   "execution_count": 477,
   "id": "LBOarv4h4zGs",
   "metadata": {
    "id": "LBOarv4h4zGs"
   },
   "outputs": [],
   "source": [
    "#train_df = pd.get_dummies(train_df, columns=column_names_to_one_hot)"
   ]
  },
  {
   "cell_type": "code",
   "execution_count": 478,
   "id": "ZkXEKt3-46K9",
   "metadata": {
    "colab": {
     "base_uri": "https://localhost:8080/"
    },
    "id": "ZkXEKt3-46K9",
    "outputId": "bed20e44-cd95-46b1-be50-4d24f2b795f0"
   },
   "outputs": [
    {
     "data": {
      "text/plain": [
       "Index(['first_activity_time', 'gender', 'age', 'language', 'app_used',\n",
       "       'device_used', 'web_browser', 'target_country'],\n",
       "      dtype='object')"
      ]
     },
     "execution_count": 478,
     "metadata": {},
     "output_type": "execute_result"
    }
   ],
   "source": [
    "train_df.columns"
   ]
  },
  {
   "cell_type": "code",
   "execution_count": 479,
   "id": "2RFobTky5VVf",
   "metadata": {
    "id": "2RFobTky5VVf"
   },
   "outputs": [],
   "source": [
    "column_names_to_one_hot = [\"gender\", \"language\",\"web_browser\",\"app_used\",\"device_used\"]\n",
    "train_df = pd.get_dummies(train_df, columns=column_names_to_one_hot)        #### doing one hot encoding of all these fields because i think this will play an important role in predicting the target country \n"
   ]
  },
  {
   "cell_type": "code",
   "execution_count": 480,
   "id": "4uhsXw145jo7",
   "metadata": {
    "colab": {
     "base_uri": "https://localhost:8080/"
    },
    "id": "4uhsXw145jo7",
    "outputId": "2500a022-2d5e-4dad-dd50-5036b5563824"
   },
   "outputs": [
    {
     "data": {
      "text/plain": [
       "Index(['first_activity_time', 'age', 'target_country', 'gender_-unknown-',\n",
       "       'gender_FEMALE', 'gender_MALE', 'gender_OTHER', 'language_ca',\n",
       "       'language_cs', 'language_da', 'language_de', 'language_el',\n",
       "       'language_en', 'language_es', 'language_fi', 'language_fr',\n",
       "       'language_hr', 'language_hu', 'language_id', 'language_is',\n",
       "       'language_it', 'language_ja', 'language_ko', 'language_nl',\n",
       "       'language_no', 'language_pl', 'language_pt', 'language_ru',\n",
       "       'language_sv', 'language_th', 'language_tr', 'language_zh',\n",
       "       'web_browser_-unknown-', 'web_browser_AOL Explorer',\n",
       "       'web_browser_Android Browser', 'web_browser_Apple Mail',\n",
       "       'web_browser_Arora', 'web_browser_Avant Browser',\n",
       "       'web_browser_BlackBerry Browser', 'web_browser_Camino',\n",
       "       'web_browser_Chrome', 'web_browser_Chrome Mobile',\n",
       "       'web_browser_Chromium', 'web_browser_CometBird',\n",
       "       'web_browser_Comodo Dragon', 'web_browser_CoolNovo',\n",
       "       'web_browser_Crazy Browser', 'web_browser_Epic', 'web_browser_Firefox',\n",
       "       'web_browser_Flock', 'web_browser_Google Earth',\n",
       "       'web_browser_Googlebot', 'web_browser_IE', 'web_browser_IE Mobile',\n",
       "       'web_browser_IceDragon', 'web_browser_IceWeasel', 'web_browser_Iron',\n",
       "       'web_browser_Kindle Browser', 'web_browser_Maxthon',\n",
       "       'web_browser_Mobile Firefox', 'web_browser_Mobile Safari',\n",
       "       'web_browser_Mozilla', 'web_browser_NetNewsWire', 'web_browser_OmniWeb',\n",
       "       'web_browser_Opera', 'web_browser_Opera Mini',\n",
       "       'web_browser_Opera Mobile', 'web_browser_Outlook 2007',\n",
       "       'web_browser_Pale Moon', 'web_browser_Palm Pre web browser',\n",
       "       'web_browser_RockMelt', 'web_browser_Safari', 'web_browser_SeaMonkey',\n",
       "       'web_browser_Silk', 'web_browser_SiteKiosk', 'web_browser_SlimBrowser',\n",
       "       'web_browser_Sogou Explorer', 'web_browser_TenFourFox',\n",
       "       'web_browser_TheWorld Browser', 'web_browser_Yandex.Browser',\n",
       "       'web_browser_wOSBrowser', 'app_used_Android', 'app_used_Moweb',\n",
       "       'app_used_Web', 'app_used_iOS', 'device_used_Android Phone',\n",
       "       'device_used_Android Tablet', 'device_used_Desktop (Other)',\n",
       "       'device_used_Mac Desktop', 'device_used_Other/Unknown',\n",
       "       'device_used_SmartPhone (Other)', 'device_used_Windows Desktop',\n",
       "       'device_used_iPad', 'device_used_iPhone'],\n",
       "      dtype='object')"
      ]
     },
     "execution_count": 480,
     "metadata": {},
     "output_type": "execute_result"
    }
   ],
   "source": [
    "train_df.columns"
   ]
  },
  {
   "cell_type": "markdown",
   "id": "b6R-x56_Dhli",
   "metadata": {
    "id": "b6R-x56_Dhli"
   },
   "source": [
    "Now what i am doing is assigning all the features to the X variable which i have to take into account "
   ]
  },
  {
   "cell_type": "code",
   "execution_count": 481,
   "id": "hjOaItcX5wM7",
   "metadata": {
    "id": "hjOaItcX5wM7"
   },
   "outputs": [],
   "source": [
    "X = train_df.drop(axis=\"columns\", labels=['target_country']).to_numpy().astype(np.float64)  \n"
   ]
  },
  {
   "cell_type": "code",
   "execution_count": 482,
   "id": "XqDib7Cw8T6w",
   "metadata": {
    "colab": {
     "base_uri": "https://localhost:8080/"
    },
    "id": "XqDib7Cw8T6w",
    "outputId": "f2059a1c-91f4-473e-ea09-87fba62b8785"
   },
   "outputs": [
    {
     "data": {
      "text/plain": [
       "array([[2.01403202e+13, 3.40000000e+01, 1.00000000e+00, ...,\n",
       "        0.00000000e+00, 0.00000000e+00, 0.00000000e+00],\n",
       "       [2.01406272e+13, 3.50000000e+01, 0.00000000e+00, ...,\n",
       "        0.00000000e+00, 0.00000000e+00, 0.00000000e+00],\n",
       "       [2.01109161e+13, 3.40000000e+01, 1.00000000e+00, ...,\n",
       "        0.00000000e+00, 0.00000000e+00, 0.00000000e+00],\n",
       "       ...,\n",
       "       [2.01312121e+13, 3.30000000e+01, 0.00000000e+00, ...,\n",
       "        1.00000000e+00, 0.00000000e+00, 0.00000000e+00],\n",
       "       [2.01401282e+13, 3.40000000e+01, 1.00000000e+00, ...,\n",
       "        1.00000000e+00, 0.00000000e+00, 0.00000000e+00],\n",
       "       [2.01311051e+13, 3.50000000e+01, 0.00000000e+00, ...,\n",
       "        1.00000000e+00, 0.00000000e+00, 0.00000000e+00]])"
      ]
     },
     "execution_count": 482,
     "metadata": {},
     "output_type": "execute_result"
    }
   ],
   "source": [
    "X"
   ]
  },
  {
   "cell_type": "code",
   "execution_count": 483,
   "id": "BLzRB34ZGMk4",
   "metadata": {
    "id": "BLzRB34ZGMk4"
   },
   "outputs": [],
   "source": [
    "######   now what i am doing is here keeping the target country columns in my Y \n",
    "\n",
    "\n",
    "\n",
    "\n",
    "Y= train_df.drop(axis=\"columns\", labels=['first_activity_time', 'age','gender_-unknown-',\n",
    "       'gender_FEMALE', 'gender_MALE', 'gender_OTHER', 'language_ca',\n",
    "       'language_cs', 'language_da', 'language_de', 'language_el',\n",
    "       'language_en', 'language_es', 'language_fi', 'language_fr',\n",
    "       'language_hr', 'language_hu', 'language_id', 'language_is',\n",
    "       'language_it', 'language_ja', 'language_ko', 'language_nl',\n",
    "       'language_no', 'language_pl', 'language_pt', 'language_ru',\n",
    "       'language_sv', 'language_th', 'language_tr', 'language_zh',\n",
    "       'web_browser_-unknown-', 'web_browser_AOL Explorer',\n",
    "       'web_browser_Android Browser', 'web_browser_Apple Mail',\n",
    "       'web_browser_Arora', 'web_browser_Avant Browser',\n",
    "       'web_browser_BlackBerry Browser', 'web_browser_Camino',\n",
    "       'web_browser_Chrome', 'web_browser_Chrome Mobile',\n",
    "       'web_browser_Chromium', 'web_browser_CometBird',\n",
    "       'web_browser_Comodo Dragon', 'web_browser_CoolNovo',\n",
    "       'web_browser_Crazy Browser', 'web_browser_Epic', 'web_browser_Firefox',\n",
    "       'web_browser_Flock', 'web_browser_Google Earth',\n",
    "       'web_browser_Googlebot', 'web_browser_IE', 'web_browser_IE Mobile',\n",
    "       'web_browser_IceDragon', 'web_browser_IceWeasel', 'web_browser_Iron',\n",
    "       'web_browser_Kindle Browser', 'web_browser_Maxthon',\n",
    "       'web_browser_Mobile Firefox', 'web_browser_Mobile Safari',\n",
    "       'web_browser_Mozilla', 'web_browser_NetNewsWire', 'web_browser_OmniWeb',\n",
    "       'web_browser_Opera', 'web_browser_Opera Mini',\n",
    "       'web_browser_Opera Mobile', 'web_browser_Outlook 2007',\n",
    "       'web_browser_Pale Moon', 'web_browser_Palm Pre web browser',\n",
    "       'web_browser_RockMelt', 'web_browser_Safari', 'web_browser_SeaMonkey',\n",
    "       'web_browser_Silk', 'web_browser_SiteKiosk', 'web_browser_SlimBrowser',\n",
    "       'web_browser_Sogou Explorer', 'web_browser_TenFourFox',\n",
    "       'web_browser_TheWorld Browser', 'web_browser_Yandex.Browser',\n",
    "       'web_browser_wOSBrowser', 'app_used_Android', 'app_used_Moweb',\n",
    "       'app_used_Web', 'app_used_iOS', 'device_used_Android Phone',\n",
    "       'device_used_Android Tablet', 'device_used_Desktop (Other)',\n",
    "       'device_used_Mac Desktop', 'device_used_Other/Unknown',\n",
    "       'device_used_SmartPhone (Other)', 'device_used_Windows Desktop',\n",
    "       'device_used_iPad', 'device_used_iPhone']).to_numpy().astype(np.float64)\n",
    "\n",
    "\n",
    "\n",
    "\n",
    "\n",
    "\n"
   ]
  },
  {
   "cell_type": "code",
   "execution_count": 484,
   "id": "s4re3MvSH3h2",
   "metadata": {
    "colab": {
     "base_uri": "https://localhost:8080/"
    },
    "id": "s4re3MvSH3h2",
    "outputId": "523982d0-f5b0-4f24-db67-ceade0233913"
   },
   "outputs": [
    {
     "data": {
      "text/plain": [
       "array([[ 7.],\n",
       "       [ 7.],\n",
       "       [10.],\n",
       "       ...,\n",
       "       [10.],\n",
       "       [ 7.],\n",
       "       [ 7.]])"
      ]
     },
     "execution_count": 484,
     "metadata": {},
     "output_type": "execute_result"
    }
   ],
   "source": [
    "Y"
   ]
  },
  {
   "cell_type": "code",
   "execution_count": 484,
   "id": "Zno-w5A_xrgw",
   "metadata": {
    "id": "Zno-w5A_xrgw"
   },
   "outputs": [],
   "source": []
  },
  {
   "cell_type": "markdown",
   "id": "9UWLI4srEC02",
   "metadata": {
    "id": "9UWLI4srEC02"
   },
   "source": [
    "Here now what i am doing is splitting the training data into test and train set by keeping 70% data in the train set and 30% data in the test set"
   ]
  },
  {
   "cell_type": "code",
   "execution_count": 485,
   "id": "s9sXUzbmIV5c",
   "metadata": {
    "id": "s9sXUzbmIV5c"
   },
   "outputs": [],
   "source": [
    "from sklearn.model_selection import train_test_split \n",
    "\n",
    "\n",
    "train_X, test_X, train_Y, test_Y = train_test_split(X, Y, train_size=0.7)"
   ]
  },
  {
   "cell_type": "code",
   "execution_count": 486,
   "id": "OGfIwjiaIVxT",
   "metadata": {
    "colab": {
     "base_uri": "https://localhost:8080/"
    },
    "id": "OGfIwjiaIVxT",
    "outputId": "fa94dacf-5ae9-472d-8228-07508ea66cf0"
   },
   "outputs": [
    {
     "name": "stdout",
     "output_type": "stream",
     "text": [
      "train_X dimension=  (104590, 93)\n",
      "test_X dimension=  (44825, 93)\n",
      "train_Y dimension=  (104590, 1)\n",
      "test_Y dimension=  (44825, 1)\n"
     ]
    }
   ],
   "source": [
    "print('train_X dimension= ', train_X.shape)\n",
    "print('test_X dimension= ', test_X.shape)\n",
    "print('train_Y dimension= ', train_Y.shape)\n",
    "print('test_Y dimension= ', test_Y.shape)"
   ]
  },
  {
   "cell_type": "code",
   "execution_count": 488,
   "id": "5br-pUI8hCrw",
   "metadata": {
    "colab": {
     "base_uri": "https://localhost:8080/",
     "height": 203
    },
    "id": "5br-pUI8hCrw",
    "outputId": "c67088e5-e3b0-4ec5-dab9-3ee5fdc1863f"
   },
   "outputs": [
    {
     "data": {
      "text/html": [
       "<div>\n",
       "<style scoped>\n",
       "    .dataframe tbody tr th:only-of-type {\n",
       "        vertical-align: middle;\n",
       "    }\n",
       "\n",
       "    .dataframe tbody tr th {\n",
       "        vertical-align: top;\n",
       "    }\n",
       "\n",
       "    .dataframe thead th {\n",
       "        text-align: right;\n",
       "    }\n",
       "</style>\n",
       "<table border=\"1\" class=\"dataframe\">\n",
       "  <thead>\n",
       "    <tr style=\"text-align: right;\">\n",
       "      <th></th>\n",
       "      <th>first_activity_time</th>\n",
       "      <th>gender</th>\n",
       "      <th>age</th>\n",
       "      <th>language</th>\n",
       "      <th>app_used</th>\n",
       "      <th>device_used</th>\n",
       "      <th>web_browser</th>\n",
       "    </tr>\n",
       "  </thead>\n",
       "  <tbody>\n",
       "    <tr>\n",
       "      <th>0</th>\n",
       "      <td>20140217005503</td>\n",
       "      <td>FEMALE</td>\n",
       "      <td>27.0</td>\n",
       "      <td>en</td>\n",
       "      <td>Web</td>\n",
       "      <td>Windows Desktop</td>\n",
       "      <td>Firefox</td>\n",
       "    </tr>\n",
       "    <tr>\n",
       "      <th>1</th>\n",
       "      <td>20140311181449</td>\n",
       "      <td>-unknown-</td>\n",
       "      <td>34.0</td>\n",
       "      <td>en</td>\n",
       "      <td>Web</td>\n",
       "      <td>Mac Desktop</td>\n",
       "      <td>Chrome</td>\n",
       "    </tr>\n",
       "    <tr>\n",
       "      <th>2</th>\n",
       "      <td>20130604060604</td>\n",
       "      <td>MALE</td>\n",
       "      <td>52.0</td>\n",
       "      <td>en</td>\n",
       "      <td>Web</td>\n",
       "      <td>Mac Desktop</td>\n",
       "      <td>Safari</td>\n",
       "    </tr>\n",
       "    <tr>\n",
       "      <th>3</th>\n",
       "      <td>20120816172708</td>\n",
       "      <td>FEMALE</td>\n",
       "      <td>45.0</td>\n",
       "      <td>en</td>\n",
       "      <td>Web</td>\n",
       "      <td>Mac Desktop</td>\n",
       "      <td>Safari</td>\n",
       "    </tr>\n",
       "    <tr>\n",
       "      <th>4</th>\n",
       "      <td>20130502074337</td>\n",
       "      <td>FEMALE</td>\n",
       "      <td>35.0</td>\n",
       "      <td>en</td>\n",
       "      <td>Web</td>\n",
       "      <td>Mac Desktop</td>\n",
       "      <td>Firefox</td>\n",
       "    </tr>\n",
       "  </tbody>\n",
       "</table>\n",
       "</div>"
      ],
      "text/plain": [
       "   first_activity_time     gender   age  ... app_used      device_used web_browser\n",
       "0       20140217005503     FEMALE  27.0  ...      Web  Windows Desktop     Firefox\n",
       "1       20140311181449  -unknown-  34.0  ...      Web      Mac Desktop      Chrome\n",
       "2       20130604060604       MALE  52.0  ...      Web      Mac Desktop      Safari\n",
       "3       20120816172708     FEMALE  45.0  ...      Web      Mac Desktop      Safari\n",
       "4       20130502074337     FEMALE  35.0  ...      Web      Mac Desktop     Firefox\n",
       "\n",
       "[5 rows x 7 columns]"
      ]
     },
     "execution_count": 488,
     "metadata": {},
     "output_type": "execute_result"
    }
   ],
   "source": [
    "test_df.head()"
   ]
  },
  {
   "cell_type": "code",
   "execution_count": 489,
   "id": "N6ON4_k5Ul2c",
   "metadata": {
    "id": "N6ON4_k5Ul2c"
   },
   "outputs": [],
   "source": [
    "column_names_to_one_hot = [\"gender\", \"language\",\"web_browser\",\"app_used\",\"device_used\"]\n",
    "test_df = pd.get_dummies(test_df, columns=column_names_to_one_hot)\n",
    "\n",
    "\n"
   ]
  },
  {
   "cell_type": "code",
   "execution_count": 490,
   "id": "OC4u1xsjU5_e",
   "metadata": {
    "colab": {
     "base_uri": "https://localhost:8080/",
     "height": 269
    },
    "id": "OC4u1xsjU5_e",
    "outputId": "904b069f-0237-4754-9cf3-34dd78aa516a"
   },
   "outputs": [
    {
     "data": {
      "text/html": [
       "<div>\n",
       "<style scoped>\n",
       "    .dataframe tbody tr th:only-of-type {\n",
       "        vertical-align: middle;\n",
       "    }\n",
       "\n",
       "    .dataframe tbody tr th {\n",
       "        vertical-align: top;\n",
       "    }\n",
       "\n",
       "    .dataframe thead th {\n",
       "        text-align: right;\n",
       "    }\n",
       "</style>\n",
       "<table border=\"1\" class=\"dataframe\">\n",
       "  <thead>\n",
       "    <tr style=\"text-align: right;\">\n",
       "      <th></th>\n",
       "      <th>first_activity_time</th>\n",
       "      <th>age</th>\n",
       "      <th>gender_-unknown-</th>\n",
       "      <th>gender_FEMALE</th>\n",
       "      <th>gender_MALE</th>\n",
       "      <th>gender_OTHER</th>\n",
       "      <th>language_cs</th>\n",
       "      <th>language_da</th>\n",
       "      <th>language_de</th>\n",
       "      <th>language_el</th>\n",
       "      <th>language_en</th>\n",
       "      <th>language_es</th>\n",
       "      <th>language_fr</th>\n",
       "      <th>language_hr</th>\n",
       "      <th>language_hu</th>\n",
       "      <th>language_id</th>\n",
       "      <th>language_is</th>\n",
       "      <th>language_it</th>\n",
       "      <th>language_ja</th>\n",
       "      <th>language_ko</th>\n",
       "      <th>language_nl</th>\n",
       "      <th>language_no</th>\n",
       "      <th>language_pl</th>\n",
       "      <th>language_pt</th>\n",
       "      <th>language_ru</th>\n",
       "      <th>language_sv</th>\n",
       "      <th>language_th</th>\n",
       "      <th>language_tr</th>\n",
       "      <th>language_zh</th>\n",
       "      <th>web_browser_-unknown-</th>\n",
       "      <th>web_browser_AOL Explorer</th>\n",
       "      <th>web_browser_Android Browser</th>\n",
       "      <th>web_browser_Apple Mail</th>\n",
       "      <th>web_browser_Avant Browser</th>\n",
       "      <th>web_browser_BlackBerry Browser</th>\n",
       "      <th>web_browser_Camino</th>\n",
       "      <th>web_browser_Chrome</th>\n",
       "      <th>web_browser_Chrome Mobile</th>\n",
       "      <th>web_browser_Chromium</th>\n",
       "      <th>web_browser_CometBird</th>\n",
       "      <th>...</th>\n",
       "      <th>web_browser_CoolNovo</th>\n",
       "      <th>web_browser_Crazy Browser</th>\n",
       "      <th>web_browser_Firefox</th>\n",
       "      <th>web_browser_IE</th>\n",
       "      <th>web_browser_IE Mobile</th>\n",
       "      <th>web_browser_IceWeasel</th>\n",
       "      <th>web_browser_Iron</th>\n",
       "      <th>web_browser_Maxthon</th>\n",
       "      <th>web_browser_Mobile Firefox</th>\n",
       "      <th>web_browser_Mobile Safari</th>\n",
       "      <th>web_browser_Mozilla</th>\n",
       "      <th>web_browser_OmniWeb</th>\n",
       "      <th>web_browser_Opera</th>\n",
       "      <th>web_browser_Opera Mini</th>\n",
       "      <th>web_browser_Opera Mobile</th>\n",
       "      <th>web_browser_PS Vita browser</th>\n",
       "      <th>web_browser_Pale Moon</th>\n",
       "      <th>web_browser_RockMelt</th>\n",
       "      <th>web_browser_Safari</th>\n",
       "      <th>web_browser_SeaMonkey</th>\n",
       "      <th>web_browser_Silk</th>\n",
       "      <th>web_browser_SiteKiosk</th>\n",
       "      <th>web_browser_Sogou Explorer</th>\n",
       "      <th>web_browser_Stainless</th>\n",
       "      <th>web_browser_TenFourFox</th>\n",
       "      <th>web_browser_Yandex.Browser</th>\n",
       "      <th>web_browser_wOSBrowser</th>\n",
       "      <th>app_used_Android</th>\n",
       "      <th>app_used_Moweb</th>\n",
       "      <th>app_used_Web</th>\n",
       "      <th>app_used_iOS</th>\n",
       "      <th>device_used_Android Phone</th>\n",
       "      <th>device_used_Android Tablet</th>\n",
       "      <th>device_used_Desktop (Other)</th>\n",
       "      <th>device_used_Mac Desktop</th>\n",
       "      <th>device_used_Other/Unknown</th>\n",
       "      <th>device_used_SmartPhone (Other)</th>\n",
       "      <th>device_used_Windows Desktop</th>\n",
       "      <th>device_used_iPad</th>\n",
       "      <th>device_used_iPhone</th>\n",
       "    </tr>\n",
       "  </thead>\n",
       "  <tbody>\n",
       "    <tr>\n",
       "      <th>0</th>\n",
       "      <td>20140217005503</td>\n",
       "      <td>27.0</td>\n",
       "      <td>0</td>\n",
       "      <td>1</td>\n",
       "      <td>0</td>\n",
       "      <td>0</td>\n",
       "      <td>0</td>\n",
       "      <td>0</td>\n",
       "      <td>0</td>\n",
       "      <td>0</td>\n",
       "      <td>1</td>\n",
       "      <td>0</td>\n",
       "      <td>0</td>\n",
       "      <td>0</td>\n",
       "      <td>0</td>\n",
       "      <td>0</td>\n",
       "      <td>0</td>\n",
       "      <td>0</td>\n",
       "      <td>0</td>\n",
       "      <td>0</td>\n",
       "      <td>0</td>\n",
       "      <td>0</td>\n",
       "      <td>0</td>\n",
       "      <td>0</td>\n",
       "      <td>0</td>\n",
       "      <td>0</td>\n",
       "      <td>0</td>\n",
       "      <td>0</td>\n",
       "      <td>0</td>\n",
       "      <td>0</td>\n",
       "      <td>0</td>\n",
       "      <td>0</td>\n",
       "      <td>0</td>\n",
       "      <td>0</td>\n",
       "      <td>0</td>\n",
       "      <td>0</td>\n",
       "      <td>0</td>\n",
       "      <td>0</td>\n",
       "      <td>0</td>\n",
       "      <td>0</td>\n",
       "      <td>...</td>\n",
       "      <td>0</td>\n",
       "      <td>0</td>\n",
       "      <td>1</td>\n",
       "      <td>0</td>\n",
       "      <td>0</td>\n",
       "      <td>0</td>\n",
       "      <td>0</td>\n",
       "      <td>0</td>\n",
       "      <td>0</td>\n",
       "      <td>0</td>\n",
       "      <td>0</td>\n",
       "      <td>0</td>\n",
       "      <td>0</td>\n",
       "      <td>0</td>\n",
       "      <td>0</td>\n",
       "      <td>0</td>\n",
       "      <td>0</td>\n",
       "      <td>0</td>\n",
       "      <td>0</td>\n",
       "      <td>0</td>\n",
       "      <td>0</td>\n",
       "      <td>0</td>\n",
       "      <td>0</td>\n",
       "      <td>0</td>\n",
       "      <td>0</td>\n",
       "      <td>0</td>\n",
       "      <td>0</td>\n",
       "      <td>0</td>\n",
       "      <td>0</td>\n",
       "      <td>1</td>\n",
       "      <td>0</td>\n",
       "      <td>0</td>\n",
       "      <td>0</td>\n",
       "      <td>0</td>\n",
       "      <td>0</td>\n",
       "      <td>0</td>\n",
       "      <td>0</td>\n",
       "      <td>1</td>\n",
       "      <td>0</td>\n",
       "      <td>0</td>\n",
       "    </tr>\n",
       "    <tr>\n",
       "      <th>1</th>\n",
       "      <td>20140311181449</td>\n",
       "      <td>34.0</td>\n",
       "      <td>1</td>\n",
       "      <td>0</td>\n",
       "      <td>0</td>\n",
       "      <td>0</td>\n",
       "      <td>0</td>\n",
       "      <td>0</td>\n",
       "      <td>0</td>\n",
       "      <td>0</td>\n",
       "      <td>1</td>\n",
       "      <td>0</td>\n",
       "      <td>0</td>\n",
       "      <td>0</td>\n",
       "      <td>0</td>\n",
       "      <td>0</td>\n",
       "      <td>0</td>\n",
       "      <td>0</td>\n",
       "      <td>0</td>\n",
       "      <td>0</td>\n",
       "      <td>0</td>\n",
       "      <td>0</td>\n",
       "      <td>0</td>\n",
       "      <td>0</td>\n",
       "      <td>0</td>\n",
       "      <td>0</td>\n",
       "      <td>0</td>\n",
       "      <td>0</td>\n",
       "      <td>0</td>\n",
       "      <td>0</td>\n",
       "      <td>0</td>\n",
       "      <td>0</td>\n",
       "      <td>0</td>\n",
       "      <td>0</td>\n",
       "      <td>0</td>\n",
       "      <td>0</td>\n",
       "      <td>1</td>\n",
       "      <td>0</td>\n",
       "      <td>0</td>\n",
       "      <td>0</td>\n",
       "      <td>...</td>\n",
       "      <td>0</td>\n",
       "      <td>0</td>\n",
       "      <td>0</td>\n",
       "      <td>0</td>\n",
       "      <td>0</td>\n",
       "      <td>0</td>\n",
       "      <td>0</td>\n",
       "      <td>0</td>\n",
       "      <td>0</td>\n",
       "      <td>0</td>\n",
       "      <td>0</td>\n",
       "      <td>0</td>\n",
       "      <td>0</td>\n",
       "      <td>0</td>\n",
       "      <td>0</td>\n",
       "      <td>0</td>\n",
       "      <td>0</td>\n",
       "      <td>0</td>\n",
       "      <td>0</td>\n",
       "      <td>0</td>\n",
       "      <td>0</td>\n",
       "      <td>0</td>\n",
       "      <td>0</td>\n",
       "      <td>0</td>\n",
       "      <td>0</td>\n",
       "      <td>0</td>\n",
       "      <td>0</td>\n",
       "      <td>0</td>\n",
       "      <td>0</td>\n",
       "      <td>1</td>\n",
       "      <td>0</td>\n",
       "      <td>0</td>\n",
       "      <td>0</td>\n",
       "      <td>0</td>\n",
       "      <td>1</td>\n",
       "      <td>0</td>\n",
       "      <td>0</td>\n",
       "      <td>0</td>\n",
       "      <td>0</td>\n",
       "      <td>0</td>\n",
       "    </tr>\n",
       "    <tr>\n",
       "      <th>2</th>\n",
       "      <td>20130604060604</td>\n",
       "      <td>52.0</td>\n",
       "      <td>0</td>\n",
       "      <td>0</td>\n",
       "      <td>1</td>\n",
       "      <td>0</td>\n",
       "      <td>0</td>\n",
       "      <td>0</td>\n",
       "      <td>0</td>\n",
       "      <td>0</td>\n",
       "      <td>1</td>\n",
       "      <td>0</td>\n",
       "      <td>0</td>\n",
       "      <td>0</td>\n",
       "      <td>0</td>\n",
       "      <td>0</td>\n",
       "      <td>0</td>\n",
       "      <td>0</td>\n",
       "      <td>0</td>\n",
       "      <td>0</td>\n",
       "      <td>0</td>\n",
       "      <td>0</td>\n",
       "      <td>0</td>\n",
       "      <td>0</td>\n",
       "      <td>0</td>\n",
       "      <td>0</td>\n",
       "      <td>0</td>\n",
       "      <td>0</td>\n",
       "      <td>0</td>\n",
       "      <td>0</td>\n",
       "      <td>0</td>\n",
       "      <td>0</td>\n",
       "      <td>0</td>\n",
       "      <td>0</td>\n",
       "      <td>0</td>\n",
       "      <td>0</td>\n",
       "      <td>0</td>\n",
       "      <td>0</td>\n",
       "      <td>0</td>\n",
       "      <td>0</td>\n",
       "      <td>...</td>\n",
       "      <td>0</td>\n",
       "      <td>0</td>\n",
       "      <td>0</td>\n",
       "      <td>0</td>\n",
       "      <td>0</td>\n",
       "      <td>0</td>\n",
       "      <td>0</td>\n",
       "      <td>0</td>\n",
       "      <td>0</td>\n",
       "      <td>0</td>\n",
       "      <td>0</td>\n",
       "      <td>0</td>\n",
       "      <td>0</td>\n",
       "      <td>0</td>\n",
       "      <td>0</td>\n",
       "      <td>0</td>\n",
       "      <td>0</td>\n",
       "      <td>0</td>\n",
       "      <td>1</td>\n",
       "      <td>0</td>\n",
       "      <td>0</td>\n",
       "      <td>0</td>\n",
       "      <td>0</td>\n",
       "      <td>0</td>\n",
       "      <td>0</td>\n",
       "      <td>0</td>\n",
       "      <td>0</td>\n",
       "      <td>0</td>\n",
       "      <td>0</td>\n",
       "      <td>1</td>\n",
       "      <td>0</td>\n",
       "      <td>0</td>\n",
       "      <td>0</td>\n",
       "      <td>0</td>\n",
       "      <td>1</td>\n",
       "      <td>0</td>\n",
       "      <td>0</td>\n",
       "      <td>0</td>\n",
       "      <td>0</td>\n",
       "      <td>0</td>\n",
       "    </tr>\n",
       "    <tr>\n",
       "      <th>3</th>\n",
       "      <td>20120816172708</td>\n",
       "      <td>45.0</td>\n",
       "      <td>0</td>\n",
       "      <td>1</td>\n",
       "      <td>0</td>\n",
       "      <td>0</td>\n",
       "      <td>0</td>\n",
       "      <td>0</td>\n",
       "      <td>0</td>\n",
       "      <td>0</td>\n",
       "      <td>1</td>\n",
       "      <td>0</td>\n",
       "      <td>0</td>\n",
       "      <td>0</td>\n",
       "      <td>0</td>\n",
       "      <td>0</td>\n",
       "      <td>0</td>\n",
       "      <td>0</td>\n",
       "      <td>0</td>\n",
       "      <td>0</td>\n",
       "      <td>0</td>\n",
       "      <td>0</td>\n",
       "      <td>0</td>\n",
       "      <td>0</td>\n",
       "      <td>0</td>\n",
       "      <td>0</td>\n",
       "      <td>0</td>\n",
       "      <td>0</td>\n",
       "      <td>0</td>\n",
       "      <td>0</td>\n",
       "      <td>0</td>\n",
       "      <td>0</td>\n",
       "      <td>0</td>\n",
       "      <td>0</td>\n",
       "      <td>0</td>\n",
       "      <td>0</td>\n",
       "      <td>0</td>\n",
       "      <td>0</td>\n",
       "      <td>0</td>\n",
       "      <td>0</td>\n",
       "      <td>...</td>\n",
       "      <td>0</td>\n",
       "      <td>0</td>\n",
       "      <td>0</td>\n",
       "      <td>0</td>\n",
       "      <td>0</td>\n",
       "      <td>0</td>\n",
       "      <td>0</td>\n",
       "      <td>0</td>\n",
       "      <td>0</td>\n",
       "      <td>0</td>\n",
       "      <td>0</td>\n",
       "      <td>0</td>\n",
       "      <td>0</td>\n",
       "      <td>0</td>\n",
       "      <td>0</td>\n",
       "      <td>0</td>\n",
       "      <td>0</td>\n",
       "      <td>0</td>\n",
       "      <td>1</td>\n",
       "      <td>0</td>\n",
       "      <td>0</td>\n",
       "      <td>0</td>\n",
       "      <td>0</td>\n",
       "      <td>0</td>\n",
       "      <td>0</td>\n",
       "      <td>0</td>\n",
       "      <td>0</td>\n",
       "      <td>0</td>\n",
       "      <td>0</td>\n",
       "      <td>1</td>\n",
       "      <td>0</td>\n",
       "      <td>0</td>\n",
       "      <td>0</td>\n",
       "      <td>0</td>\n",
       "      <td>1</td>\n",
       "      <td>0</td>\n",
       "      <td>0</td>\n",
       "      <td>0</td>\n",
       "      <td>0</td>\n",
       "      <td>0</td>\n",
       "    </tr>\n",
       "    <tr>\n",
       "      <th>4</th>\n",
       "      <td>20130502074337</td>\n",
       "      <td>35.0</td>\n",
       "      <td>0</td>\n",
       "      <td>1</td>\n",
       "      <td>0</td>\n",
       "      <td>0</td>\n",
       "      <td>0</td>\n",
       "      <td>0</td>\n",
       "      <td>0</td>\n",
       "      <td>0</td>\n",
       "      <td>1</td>\n",
       "      <td>0</td>\n",
       "      <td>0</td>\n",
       "      <td>0</td>\n",
       "      <td>0</td>\n",
       "      <td>0</td>\n",
       "      <td>0</td>\n",
       "      <td>0</td>\n",
       "      <td>0</td>\n",
       "      <td>0</td>\n",
       "      <td>0</td>\n",
       "      <td>0</td>\n",
       "      <td>0</td>\n",
       "      <td>0</td>\n",
       "      <td>0</td>\n",
       "      <td>0</td>\n",
       "      <td>0</td>\n",
       "      <td>0</td>\n",
       "      <td>0</td>\n",
       "      <td>0</td>\n",
       "      <td>0</td>\n",
       "      <td>0</td>\n",
       "      <td>0</td>\n",
       "      <td>0</td>\n",
       "      <td>0</td>\n",
       "      <td>0</td>\n",
       "      <td>0</td>\n",
       "      <td>0</td>\n",
       "      <td>0</td>\n",
       "      <td>0</td>\n",
       "      <td>...</td>\n",
       "      <td>0</td>\n",
       "      <td>0</td>\n",
       "      <td>1</td>\n",
       "      <td>0</td>\n",
       "      <td>0</td>\n",
       "      <td>0</td>\n",
       "      <td>0</td>\n",
       "      <td>0</td>\n",
       "      <td>0</td>\n",
       "      <td>0</td>\n",
       "      <td>0</td>\n",
       "      <td>0</td>\n",
       "      <td>0</td>\n",
       "      <td>0</td>\n",
       "      <td>0</td>\n",
       "      <td>0</td>\n",
       "      <td>0</td>\n",
       "      <td>0</td>\n",
       "      <td>0</td>\n",
       "      <td>0</td>\n",
       "      <td>0</td>\n",
       "      <td>0</td>\n",
       "      <td>0</td>\n",
       "      <td>0</td>\n",
       "      <td>0</td>\n",
       "      <td>0</td>\n",
       "      <td>0</td>\n",
       "      <td>0</td>\n",
       "      <td>0</td>\n",
       "      <td>1</td>\n",
       "      <td>0</td>\n",
       "      <td>0</td>\n",
       "      <td>0</td>\n",
       "      <td>0</td>\n",
       "      <td>1</td>\n",
       "      <td>0</td>\n",
       "      <td>0</td>\n",
       "      <td>0</td>\n",
       "      <td>0</td>\n",
       "      <td>0</td>\n",
       "    </tr>\n",
       "  </tbody>\n",
       "</table>\n",
       "<p>5 rows × 82 columns</p>\n",
       "</div>"
      ],
      "text/plain": [
       "   first_activity_time   age  ...  device_used_iPad  device_used_iPhone\n",
       "0       20140217005503  27.0  ...                 0                   0\n",
       "1       20140311181449  34.0  ...                 0                   0\n",
       "2       20130604060604  52.0  ...                 0                   0\n",
       "3       20120816172708  45.0  ...                 0                   0\n",
       "4       20130502074337  35.0  ...                 0                   0\n",
       "\n",
       "[5 rows x 82 columns]"
      ]
     },
     "execution_count": 490,
     "metadata": {},
     "output_type": "execute_result"
    }
   ],
   "source": [
    "test_df.head()"
   ]
  },
  {
   "cell_type": "code",
   "execution_count": 491,
   "id": "zRE5jb4cVAO9",
   "metadata": {
    "colab": {
     "base_uri": "https://localhost:8080/"
    },
    "id": "zRE5jb4cVAO9",
    "outputId": "b995745f-7bb7-4734-9d8c-8d172b114d9e"
   },
   "outputs": [
    {
     "name": "stdout",
     "output_type": "stream",
     "text": [
      "test_df dimension=  (64036, 82)\n"
     ]
    }
   ],
   "source": [
    "print('test_df dimension= ', test_df.shape) ### checking the dimensions of the test datframe "
   ]
  },
  {
   "cell_type": "code",
   "execution_count": 492,
   "id": "3zJncekzXHFy",
   "metadata": {
    "colab": {
     "base_uri": "https://localhost:8080/"
    },
    "id": "3zJncekzXHFy",
    "outputId": "a73d2983-53a4-4f19-e65e-23262546fd8f"
   },
   "outputs": [
    {
     "data": {
      "text/plain": [
       "Index(['first_activity_time', 'age', 'gender_-unknown-', 'gender_FEMALE',\n",
       "       'gender_MALE', 'gender_OTHER', 'language_cs', 'language_da',\n",
       "       'language_de', 'language_el', 'language_en', 'language_es',\n",
       "       'language_fr', 'language_hr', 'language_hu', 'language_id',\n",
       "       'language_is', 'language_it', 'language_ja', 'language_ko',\n",
       "       'language_nl', 'language_no', 'language_pl', 'language_pt',\n",
       "       'language_ru', 'language_sv', 'language_th', 'language_tr',\n",
       "       'language_zh', 'web_browser_-unknown-', 'web_browser_AOL Explorer',\n",
       "       'web_browser_Android Browser', 'web_browser_Apple Mail',\n",
       "       'web_browser_Avant Browser', 'web_browser_BlackBerry Browser',\n",
       "       'web_browser_Camino', 'web_browser_Chrome', 'web_browser_Chrome Mobile',\n",
       "       'web_browser_Chromium', 'web_browser_CometBird',\n",
       "       'web_browser_Comodo Dragon', 'web_browser_Conkeror',\n",
       "       'web_browser_CoolNovo', 'web_browser_Crazy Browser',\n",
       "       'web_browser_Firefox', 'web_browser_IE', 'web_browser_IE Mobile',\n",
       "       'web_browser_IceWeasel', 'web_browser_Iron', 'web_browser_Maxthon',\n",
       "       'web_browser_Mobile Firefox', 'web_browser_Mobile Safari',\n",
       "       'web_browser_Mozilla', 'web_browser_OmniWeb', 'web_browser_Opera',\n",
       "       'web_browser_Opera Mini', 'web_browser_Opera Mobile',\n",
       "       'web_browser_PS Vita browser', 'web_browser_Pale Moon',\n",
       "       'web_browser_RockMelt', 'web_browser_Safari', 'web_browser_SeaMonkey',\n",
       "       'web_browser_Silk', 'web_browser_SiteKiosk',\n",
       "       'web_browser_Sogou Explorer', 'web_browser_Stainless',\n",
       "       'web_browser_TenFourFox', 'web_browser_Yandex.Browser',\n",
       "       'web_browser_wOSBrowser', 'app_used_Android', 'app_used_Moweb',\n",
       "       'app_used_Web', 'app_used_iOS', 'device_used_Android Phone',\n",
       "       'device_used_Android Tablet', 'device_used_Desktop (Other)',\n",
       "       'device_used_Mac Desktop', 'device_used_Other/Unknown',\n",
       "       'device_used_SmartPhone (Other)', 'device_used_Windows Desktop',\n",
       "       'device_used_iPad', 'device_used_iPhone'],\n",
       "      dtype='object')"
      ]
     },
     "execution_count": 492,
     "metadata": {},
     "output_type": "execute_result"
    }
   ],
   "source": [
    "test_df.columns"
   ]
  },
  {
   "cell_type": "code",
   "execution_count": 493,
   "id": "PmNrRysIXPIQ",
   "metadata": {
    "colab": {
     "base_uri": "https://localhost:8080/"
    },
    "id": "PmNrRysIXPIQ",
    "outputId": "b27d7b21-cd53-4f5a-f287-57353f5adbc6"
   },
   "outputs": [
    {
     "data": {
      "text/plain": [
       "Index(['first_activity_time', 'age', 'target_country', 'gender_-unknown-',\n",
       "       'gender_FEMALE', 'gender_MALE', 'gender_OTHER', 'language_ca',\n",
       "       'language_cs', 'language_da', 'language_de', 'language_el',\n",
       "       'language_en', 'language_es', 'language_fi', 'language_fr',\n",
       "       'language_hr', 'language_hu', 'language_id', 'language_is',\n",
       "       'language_it', 'language_ja', 'language_ko', 'language_nl',\n",
       "       'language_no', 'language_pl', 'language_pt', 'language_ru',\n",
       "       'language_sv', 'language_th', 'language_tr', 'language_zh',\n",
       "       'web_browser_-unknown-', 'web_browser_AOL Explorer',\n",
       "       'web_browser_Android Browser', 'web_browser_Apple Mail',\n",
       "       'web_browser_Arora', 'web_browser_Avant Browser',\n",
       "       'web_browser_BlackBerry Browser', 'web_browser_Camino',\n",
       "       'web_browser_Chrome', 'web_browser_Chrome Mobile',\n",
       "       'web_browser_Chromium', 'web_browser_CometBird',\n",
       "       'web_browser_Comodo Dragon', 'web_browser_CoolNovo',\n",
       "       'web_browser_Crazy Browser', 'web_browser_Epic', 'web_browser_Firefox',\n",
       "       'web_browser_Flock', 'web_browser_Google Earth',\n",
       "       'web_browser_Googlebot', 'web_browser_IE', 'web_browser_IE Mobile',\n",
       "       'web_browser_IceDragon', 'web_browser_IceWeasel', 'web_browser_Iron',\n",
       "       'web_browser_Kindle Browser', 'web_browser_Maxthon',\n",
       "       'web_browser_Mobile Firefox', 'web_browser_Mobile Safari',\n",
       "       'web_browser_Mozilla', 'web_browser_NetNewsWire', 'web_browser_OmniWeb',\n",
       "       'web_browser_Opera', 'web_browser_Opera Mini',\n",
       "       'web_browser_Opera Mobile', 'web_browser_Outlook 2007',\n",
       "       'web_browser_Pale Moon', 'web_browser_Palm Pre web browser',\n",
       "       'web_browser_RockMelt', 'web_browser_Safari', 'web_browser_SeaMonkey',\n",
       "       'web_browser_Silk', 'web_browser_SiteKiosk', 'web_browser_SlimBrowser',\n",
       "       'web_browser_Sogou Explorer', 'web_browser_TenFourFox',\n",
       "       'web_browser_TheWorld Browser', 'web_browser_Yandex.Browser',\n",
       "       'web_browser_wOSBrowser', 'app_used_Android', 'app_used_Moweb',\n",
       "       'app_used_Web', 'app_used_iOS', 'device_used_Android Phone',\n",
       "       'device_used_Android Tablet', 'device_used_Desktop (Other)',\n",
       "       'device_used_Mac Desktop', 'device_used_Other/Unknown',\n",
       "       'device_used_SmartPhone (Other)', 'device_used_Windows Desktop',\n",
       "       'device_used_iPad', 'device_used_iPhone'],\n",
       "      dtype='object')"
      ]
     },
     "execution_count": 493,
     "metadata": {},
     "output_type": "execute_result"
    }
   ],
   "source": [
    "train_df.columns"
   ]
  },
  {
   "cell_type": "markdown",
   "id": "naLsQUCAEs-H",
   "metadata": {
    "id": "naLsQUCAEs-H"
   },
   "source": [
    "Now here since shape is coming differently so iam adding missing columns by giving all the values as 0 into the test dataframe "
   ]
  },
  {
   "cell_type": "code",
   "execution_count": 494,
   "id": "QIxcXGmT43c2",
   "metadata": {
    "id": "QIxcXGmT43c2"
   },
   "outputs": [],
   "source": [
    "test_df.drop(axis=\"columns\", labels= 'web_browser_Conkeror', inplace=True)"
   ]
  },
  {
   "cell_type": "code",
   "execution_count": 495,
   "id": "jpdQuEe45vGa",
   "metadata": {
    "id": "jpdQuEe45vGa"
   },
   "outputs": [],
   "source": [
    "test_df.drop(axis=\"columns\", labels=  'web_browser_PS Vita browser', inplace=True)"
   ]
  },
  {
   "cell_type": "code",
   "execution_count": 496,
   "id": "3IE-g0R27dld",
   "metadata": {
    "id": "3IE-g0R27dld"
   },
   "outputs": [],
   "source": [
    "test_df.drop(axis=\"columns\", labels=   'web_browser_Stainless', inplace=True)"
   ]
  },
  {
   "cell_type": "code",
   "execution_count": 497,
   "id": "1BYCRGkJYtO4",
   "metadata": {
    "id": "1BYCRGkJYtO4"
   },
   "outputs": [],
   "source": [
    "test_df[\"language_ca\"]= 0     ### adding this missing language columns into the test dtaframe "
   ]
  },
  {
   "cell_type": "code",
   "execution_count": 498,
   "id": "SkIFrKQEZDoC",
   "metadata": {
    "id": "SkIFrKQEZDoC"
   },
   "outputs": [],
   "source": [
    "test_df[\"language_fi\"] = 0"
   ]
  },
  {
   "cell_type": "code",
   "execution_count": 499,
   "id": "vUE1b1ET4w0l",
   "metadata": {
    "id": "vUE1b1ET4w0l"
   },
   "outputs": [],
   "source": [
    "test_df['web_browser_Arora']= 0"
   ]
  },
  {
   "cell_type": "code",
   "execution_count": 500,
   "id": "cY8Y7WJJ4wew",
   "metadata": {
    "id": "cY8Y7WJJ4wew"
   },
   "outputs": [],
   "source": [
    "test_df['web_browser_Epic']= 0"
   ]
  },
  {
   "cell_type": "code",
   "execution_count": 501,
   "id": "mf3vygZQ4wQY",
   "metadata": {
    "id": "mf3vygZQ4wQY"
   },
   "outputs": [],
   "source": [
    "test_df['web_browser_Flock']= 0"
   ]
  },
  {
   "cell_type": "code",
   "execution_count": 502,
   "id": "0YtcX5pG4v60",
   "metadata": {
    "id": "0YtcX5pG4v60"
   },
   "outputs": [],
   "source": [
    "test_df['web_browser_Google Earth']= 0"
   ]
  },
  {
   "cell_type": "code",
   "execution_count": 503,
   "id": "soIvIhZI6WiN",
   "metadata": {
    "id": "soIvIhZI6WiN"
   },
   "outputs": [],
   "source": [
    "test_df['web_browser_Googlebot']= 0"
   ]
  },
  {
   "cell_type": "code",
   "execution_count": 504,
   "id": "0k9O-TJp6XIf",
   "metadata": {
    "id": "0k9O-TJp6XIf"
   },
   "outputs": [],
   "source": [
    "test_df['web_browser_IceDragon']= 0"
   ]
  },
  {
   "cell_type": "code",
   "execution_count": 505,
   "id": "c-2PGxRv6XtE",
   "metadata": {
    "id": "c-2PGxRv6XtE"
   },
   "outputs": [],
   "source": [
    "test_df['web_browser_Kindle Browser']= 0"
   ]
  },
  {
   "cell_type": "code",
   "execution_count": 506,
   "id": "husEOyzB6x9g",
   "metadata": {
    "id": "husEOyzB6x9g"
   },
   "outputs": [],
   "source": [
    "test_df['web_browser_NetNewsWire']= 0"
   ]
  },
  {
   "cell_type": "code",
   "execution_count": 507,
   "id": "T3l6wdWp6xwU",
   "metadata": {
    "id": "T3l6wdWp6xwU"
   },
   "outputs": [],
   "source": [
    "test_df[ 'web_browser_Outlook 2007']= 0"
   ]
  },
  {
   "cell_type": "code",
   "execution_count": 508,
   "id": "V94iCMrp61HF",
   "metadata": {
    "id": "V94iCMrp61HF"
   },
   "outputs": [],
   "source": [
    "test_df['web_browser_Palm Pre web browser']= 0"
   ]
  },
  {
   "cell_type": "code",
   "execution_count": 509,
   "id": "5iGbmpa0607T",
   "metadata": {
    "id": "5iGbmpa0607T"
   },
   "outputs": [],
   "source": [
    "test_df['web_browser_SlimBrowser']= 0"
   ]
  },
  {
   "cell_type": "code",
   "execution_count": 510,
   "id": "Fv__exUu60uc",
   "metadata": {
    "id": "Fv__exUu60uc"
   },
   "outputs": [],
   "source": [
    "test_df[ 'web_browser_TheWorld Browser']= 0"
   ]
  },
  {
   "cell_type": "code",
   "execution_count": 511,
   "id": "GqpUOPKKZQWG",
   "metadata": {
    "colab": {
     "base_uri": "https://localhost:8080/"
    },
    "id": "GqpUOPKKZQWG",
    "outputId": "5b452b16-15f8-4022-c3ac-5a869392b19f"
   },
   "outputs": [
    {
     "data": {
      "text/plain": [
       "Index(['first_activity_time', 'age', 'gender_-unknown-', 'gender_FEMALE',\n",
       "       'gender_MALE', 'gender_OTHER', 'language_cs', 'language_da',\n",
       "       'language_de', 'language_el', 'language_en', 'language_es',\n",
       "       'language_fr', 'language_hr', 'language_hu', 'language_id',\n",
       "       'language_is', 'language_it', 'language_ja', 'language_ko',\n",
       "       'language_nl', 'language_no', 'language_pl', 'language_pt',\n",
       "       'language_ru', 'language_sv', 'language_th', 'language_tr',\n",
       "       'language_zh', 'web_browser_-unknown-', 'web_browser_AOL Explorer',\n",
       "       'web_browser_Android Browser', 'web_browser_Apple Mail',\n",
       "       'web_browser_Avant Browser', 'web_browser_BlackBerry Browser',\n",
       "       'web_browser_Camino', 'web_browser_Chrome', 'web_browser_Chrome Mobile',\n",
       "       'web_browser_Chromium', 'web_browser_CometBird',\n",
       "       'web_browser_Comodo Dragon', 'web_browser_CoolNovo',\n",
       "       'web_browser_Crazy Browser', 'web_browser_Firefox', 'web_browser_IE',\n",
       "       'web_browser_IE Mobile', 'web_browser_IceWeasel', 'web_browser_Iron',\n",
       "       'web_browser_Maxthon', 'web_browser_Mobile Firefox',\n",
       "       'web_browser_Mobile Safari', 'web_browser_Mozilla',\n",
       "       'web_browser_OmniWeb', 'web_browser_Opera', 'web_browser_Opera Mini',\n",
       "       'web_browser_Opera Mobile', 'web_browser_Pale Moon',\n",
       "       'web_browser_RockMelt', 'web_browser_Safari', 'web_browser_SeaMonkey',\n",
       "       'web_browser_Silk', 'web_browser_SiteKiosk',\n",
       "       'web_browser_Sogou Explorer', 'web_browser_TenFourFox',\n",
       "       'web_browser_Yandex.Browser', 'web_browser_wOSBrowser',\n",
       "       'app_used_Android', 'app_used_Moweb', 'app_used_Web', 'app_used_iOS',\n",
       "       'device_used_Android Phone', 'device_used_Android Tablet',\n",
       "       'device_used_Desktop (Other)', 'device_used_Mac Desktop',\n",
       "       'device_used_Other/Unknown', 'device_used_SmartPhone (Other)',\n",
       "       'device_used_Windows Desktop', 'device_used_iPad', 'device_used_iPhone',\n",
       "       'language_ca', 'language_fi', 'web_browser_Arora', 'web_browser_Epic',\n",
       "       'web_browser_Flock', 'web_browser_Google Earth',\n",
       "       'web_browser_Googlebot', 'web_browser_IceDragon',\n",
       "       'web_browser_Kindle Browser', 'web_browser_NetNewsWire',\n",
       "       'web_browser_Outlook 2007', 'web_browser_Palm Pre web browser',\n",
       "       'web_browser_SlimBrowser', 'web_browser_TheWorld Browser'],\n",
       "      dtype='object')"
      ]
     },
     "execution_count": 511,
     "metadata": {},
     "output_type": "execute_result"
    }
   ],
   "source": [
    "test_df.columns"
   ]
  },
  {
   "cell_type": "code",
   "execution_count": 512,
   "id": "59rKSDHSbkIC",
   "metadata": {
    "colab": {
     "base_uri": "https://localhost:8080/",
     "height": 487
    },
    "id": "59rKSDHSbkIC",
    "outputId": "67a6ae62-4975-44ef-9c5b-01f19bbd5f61"
   },
   "outputs": [
    {
     "data": {
      "text/html": [
       "<div>\n",
       "<style scoped>\n",
       "    .dataframe tbody tr th:only-of-type {\n",
       "        vertical-align: middle;\n",
       "    }\n",
       "\n",
       "    .dataframe tbody tr th {\n",
       "        vertical-align: top;\n",
       "    }\n",
       "\n",
       "    .dataframe thead th {\n",
       "        text-align: right;\n",
       "    }\n",
       "</style>\n",
       "<table border=\"1\" class=\"dataframe\">\n",
       "  <thead>\n",
       "    <tr style=\"text-align: right;\">\n",
       "      <th></th>\n",
       "      <th>first_activity_time</th>\n",
       "      <th>age</th>\n",
       "      <th>target_country</th>\n",
       "      <th>gender_-unknown-</th>\n",
       "      <th>gender_FEMALE</th>\n",
       "      <th>gender_MALE</th>\n",
       "      <th>gender_OTHER</th>\n",
       "      <th>language_ca</th>\n",
       "      <th>language_cs</th>\n",
       "      <th>language_da</th>\n",
       "      <th>language_de</th>\n",
       "      <th>language_el</th>\n",
       "      <th>language_en</th>\n",
       "      <th>language_es</th>\n",
       "      <th>language_fi</th>\n",
       "      <th>language_fr</th>\n",
       "      <th>language_hr</th>\n",
       "      <th>language_hu</th>\n",
       "      <th>language_id</th>\n",
       "      <th>language_is</th>\n",
       "      <th>language_it</th>\n",
       "      <th>language_ja</th>\n",
       "      <th>language_ko</th>\n",
       "      <th>language_nl</th>\n",
       "      <th>language_no</th>\n",
       "      <th>language_pl</th>\n",
       "      <th>language_pt</th>\n",
       "      <th>language_ru</th>\n",
       "      <th>language_sv</th>\n",
       "      <th>language_th</th>\n",
       "      <th>language_tr</th>\n",
       "      <th>language_zh</th>\n",
       "      <th>web_browser_-unknown-</th>\n",
       "      <th>web_browser_AOL Explorer</th>\n",
       "      <th>web_browser_Android Browser</th>\n",
       "      <th>web_browser_Apple Mail</th>\n",
       "      <th>web_browser_Arora</th>\n",
       "      <th>web_browser_Avant Browser</th>\n",
       "      <th>web_browser_BlackBerry Browser</th>\n",
       "      <th>web_browser_Camino</th>\n",
       "      <th>...</th>\n",
       "      <th>web_browser_IceDragon</th>\n",
       "      <th>web_browser_IceWeasel</th>\n",
       "      <th>web_browser_Iron</th>\n",
       "      <th>web_browser_Kindle Browser</th>\n",
       "      <th>web_browser_Maxthon</th>\n",
       "      <th>web_browser_Mobile Firefox</th>\n",
       "      <th>web_browser_Mobile Safari</th>\n",
       "      <th>web_browser_Mozilla</th>\n",
       "      <th>web_browser_NetNewsWire</th>\n",
       "      <th>web_browser_OmniWeb</th>\n",
       "      <th>web_browser_Opera</th>\n",
       "      <th>web_browser_Opera Mini</th>\n",
       "      <th>web_browser_Opera Mobile</th>\n",
       "      <th>web_browser_Outlook 2007</th>\n",
       "      <th>web_browser_Pale Moon</th>\n",
       "      <th>web_browser_Palm Pre web browser</th>\n",
       "      <th>web_browser_RockMelt</th>\n",
       "      <th>web_browser_Safari</th>\n",
       "      <th>web_browser_SeaMonkey</th>\n",
       "      <th>web_browser_Silk</th>\n",
       "      <th>web_browser_SiteKiosk</th>\n",
       "      <th>web_browser_SlimBrowser</th>\n",
       "      <th>web_browser_Sogou Explorer</th>\n",
       "      <th>web_browser_TenFourFox</th>\n",
       "      <th>web_browser_TheWorld Browser</th>\n",
       "      <th>web_browser_Yandex.Browser</th>\n",
       "      <th>web_browser_wOSBrowser</th>\n",
       "      <th>app_used_Android</th>\n",
       "      <th>app_used_Moweb</th>\n",
       "      <th>app_used_Web</th>\n",
       "      <th>app_used_iOS</th>\n",
       "      <th>device_used_Android Phone</th>\n",
       "      <th>device_used_Android Tablet</th>\n",
       "      <th>device_used_Desktop (Other)</th>\n",
       "      <th>device_used_Mac Desktop</th>\n",
       "      <th>device_used_Other/Unknown</th>\n",
       "      <th>device_used_SmartPhone (Other)</th>\n",
       "      <th>device_used_Windows Desktop</th>\n",
       "      <th>device_used_iPad</th>\n",
       "      <th>device_used_iPhone</th>\n",
       "    </tr>\n",
       "  </thead>\n",
       "  <tbody>\n",
       "    <tr>\n",
       "      <th>first_activity_time</th>\n",
       "      <td>1.000000</td>\n",
       "      <td>-0.031842</td>\n",
       "      <td>-0.023415</td>\n",
       "      <td>0.130634</td>\n",
       "      <td>-0.082251</td>\n",
       "      <td>-0.062227</td>\n",
       "      <td>-0.009220</td>\n",
       "      <td>0.001189</td>\n",
       "      <td>0.002291</td>\n",
       "      <td>0.002595</td>\n",
       "      <td>-0.000239</td>\n",
       "      <td>0.001076</td>\n",
       "      <td>-0.025256</td>\n",
       "      <td>0.005062</td>\n",
       "      <td>0.000395</td>\n",
       "      <td>-0.000332</td>\n",
       "      <td>-0.000002</td>\n",
       "      <td>-0.002434</td>\n",
       "      <td>0.005969</td>\n",
       "      <td>0.003010</td>\n",
       "      <td>-0.004977</td>\n",
       "      <td>0.005578</td>\n",
       "      <td>0.022266</td>\n",
       "      <td>0.002151</td>\n",
       "      <td>0.000928</td>\n",
       "      <td>0.001302</td>\n",
       "      <td>0.005296</td>\n",
       "      <td>0.003382</td>\n",
       "      <td>0.001073</td>\n",
       "      <td>0.003643</td>\n",
       "      <td>-0.002018</td>\n",
       "      <td>0.027784</td>\n",
       "      <td>0.035442</td>\n",
       "      <td>-0.011082</td>\n",
       "      <td>-0.003379</td>\n",
       "      <td>-0.000431</td>\n",
       "      <td>-0.005590</td>\n",
       "      <td>-0.000164</td>\n",
       "      <td>-0.005934</td>\n",
       "      <td>-0.008950</td>\n",
       "      <td>...</td>\n",
       "      <td>0.002706</td>\n",
       "      <td>0.000800</td>\n",
       "      <td>-0.001669</td>\n",
       "      <td>-0.002912</td>\n",
       "      <td>0.002539</td>\n",
       "      <td>0.000901</td>\n",
       "      <td>0.036877</td>\n",
       "      <td>-0.000063</td>\n",
       "      <td>-0.002717</td>\n",
       "      <td>-0.002770</td>\n",
       "      <td>-0.001548</td>\n",
       "      <td>-0.006441</td>\n",
       "      <td>0.000020</td>\n",
       "      <td>0.002676</td>\n",
       "      <td>0.001538</td>\n",
       "      <td>-0.008467</td>\n",
       "      <td>-0.012269</td>\n",
       "      <td>-0.020231</td>\n",
       "      <td>-0.001397</td>\n",
       "      <td>0.002101</td>\n",
       "      <td>0.004194</td>\n",
       "      <td>-0.000047</td>\n",
       "      <td>0.004971</td>\n",
       "      <td>-0.006313</td>\n",
       "      <td>0.001869</td>\n",
       "      <td>0.004662</td>\n",
       "      <td>-0.003768</td>\n",
       "      <td>0.116071</td>\n",
       "      <td>0.056445</td>\n",
       "      <td>-0.243197</td>\n",
       "      <td>0.201939</td>\n",
       "      <td>0.056728</td>\n",
       "      <td>0.029433</td>\n",
       "      <td>0.016186</td>\n",
       "      <td>-0.050291</td>\n",
       "      <td>-0.134480</td>\n",
       "      <td>-0.003108</td>\n",
       "      <td>-0.005714</td>\n",
       "      <td>0.022254</td>\n",
       "      <td>0.139565</td>\n",
       "    </tr>\n",
       "    <tr>\n",
       "      <th>age</th>\n",
       "      <td>-0.031842</td>\n",
       "      <td>1.000000</td>\n",
       "      <td>0.005858</td>\n",
       "      <td>-0.052193</td>\n",
       "      <td>0.042260</td>\n",
       "      <td>0.014990</td>\n",
       "      <td>0.004122</td>\n",
       "      <td>-0.000503</td>\n",
       "      <td>0.008718</td>\n",
       "      <td>-0.001455</td>\n",
       "      <td>-0.004960</td>\n",
       "      <td>-0.000702</td>\n",
       "      <td>0.008901</td>\n",
       "      <td>0.000618</td>\n",
       "      <td>-0.001005</td>\n",
       "      <td>-0.006388</td>\n",
       "      <td>-0.000546</td>\n",
       "      <td>0.011361</td>\n",
       "      <td>-0.001267</td>\n",
       "      <td>-0.000219</td>\n",
       "      <td>-0.001450</td>\n",
       "      <td>-0.001854</td>\n",
       "      <td>-0.000754</td>\n",
       "      <td>-0.001541</td>\n",
       "      <td>-0.001228</td>\n",
       "      <td>-0.001791</td>\n",
       "      <td>0.000410</td>\n",
       "      <td>-0.000959</td>\n",
       "      <td>-0.001967</td>\n",
       "      <td>-0.000753</td>\n",
       "      <td>-0.001500</td>\n",
       "      <td>-0.007648</td>\n",
       "      <td>-0.013506</td>\n",
       "      <td>0.017074</td>\n",
       "      <td>0.000997</td>\n",
       "      <td>-0.000577</td>\n",
       "      <td>-0.000199</td>\n",
       "      <td>0.000010</td>\n",
       "      <td>-0.001026</td>\n",
       "      <td>-0.000194</td>\n",
       "      <td>...</td>\n",
       "      <td>-0.000199</td>\n",
       "      <td>0.000048</td>\n",
       "      <td>-0.000773</td>\n",
       "      <td>-0.000177</td>\n",
       "      <td>-0.001202</td>\n",
       "      <td>-0.000206</td>\n",
       "      <td>0.001885</td>\n",
       "      <td>-0.000199</td>\n",
       "      <td>0.000018</td>\n",
       "      <td>-0.000199</td>\n",
       "      <td>0.001723</td>\n",
       "      <td>-0.000432</td>\n",
       "      <td>-0.000307</td>\n",
       "      <td>-0.000199</td>\n",
       "      <td>-0.000417</td>\n",
       "      <td>-0.000199</td>\n",
       "      <td>-0.000508</td>\n",
       "      <td>0.005840</td>\n",
       "      <td>-0.000629</td>\n",
       "      <td>-0.000865</td>\n",
       "      <td>-0.000270</td>\n",
       "      <td>-0.000312</td>\n",
       "      <td>-0.001175</td>\n",
       "      <td>-0.000280</td>\n",
       "      <td>-0.000465</td>\n",
       "      <td>-0.001122</td>\n",
       "      <td>-0.000386</td>\n",
       "      <td>-0.008839</td>\n",
       "      <td>-0.003785</td>\n",
       "      <td>0.021676</td>\n",
       "      <td>-0.019565</td>\n",
       "      <td>-0.002892</td>\n",
       "      <td>0.002060</td>\n",
       "      <td>-0.000577</td>\n",
       "      <td>-0.000575</td>\n",
       "      <td>-0.000203</td>\n",
       "      <td>-0.001256</td>\n",
       "      <td>0.008176</td>\n",
       "      <td>0.004499</td>\n",
       "      <td>-0.014967</td>\n",
       "    </tr>\n",
       "    <tr>\n",
       "      <th>target_country</th>\n",
       "      <td>-0.023415</td>\n",
       "      <td>0.005858</td>\n",
       "      <td>1.000000</td>\n",
       "      <td>-0.107762</td>\n",
       "      <td>0.052407</td>\n",
       "      <td>0.067688</td>\n",
       "      <td>0.005258</td>\n",
       "      <td>0.001093</td>\n",
       "      <td>0.000052</td>\n",
       "      <td>-0.002047</td>\n",
       "      <td>-0.007643</td>\n",
       "      <td>-0.006563</td>\n",
       "      <td>0.019612</td>\n",
       "      <td>-0.009998</td>\n",
       "      <td>0.001537</td>\n",
       "      <td>-0.018325</td>\n",
       "      <td>-0.001147</td>\n",
       "      <td>-0.001867</td>\n",
       "      <td>-0.004588</td>\n",
       "      <td>-0.001986</td>\n",
       "      <td>-0.015261</td>\n",
       "      <td>-0.000007</td>\n",
       "      <td>0.000247</td>\n",
       "      <td>0.000388</td>\n",
       "      <td>0.000990</td>\n",
       "      <td>-0.005216</td>\n",
       "      <td>-0.001676</td>\n",
       "      <td>-0.006735</td>\n",
       "      <td>0.002510</td>\n",
       "      <td>-0.001867</td>\n",
       "      <td>-0.000067</td>\n",
       "      <td>0.002242</td>\n",
       "      <td>-0.047761</td>\n",
       "      <td>-0.005470</td>\n",
       "      <td>-0.000949</td>\n",
       "      <td>0.000628</td>\n",
       "      <td>-0.001147</td>\n",
       "      <td>0.002233</td>\n",
       "      <td>0.003582</td>\n",
       "      <td>0.005430</td>\n",
       "      <td>...</td>\n",
       "      <td>-0.001147</td>\n",
       "      <td>0.006753</td>\n",
       "      <td>0.000080</td>\n",
       "      <td>0.004305</td>\n",
       "      <td>0.000418</td>\n",
       "      <td>0.001882</td>\n",
       "      <td>-0.013750</td>\n",
       "      <td>-0.001147</td>\n",
       "      <td>0.002942</td>\n",
       "      <td>-0.001147</td>\n",
       "      <td>-0.000987</td>\n",
       "      <td>0.000374</td>\n",
       "      <td>-0.001147</td>\n",
       "      <td>-0.001147</td>\n",
       "      <td>0.001128</td>\n",
       "      <td>0.004305</td>\n",
       "      <td>0.001567</td>\n",
       "      <td>-0.001959</td>\n",
       "      <td>0.001086</td>\n",
       "      <td>0.001776</td>\n",
       "      <td>-0.001560</td>\n",
       "      <td>0.001269</td>\n",
       "      <td>0.001320</td>\n",
       "      <td>0.003663</td>\n",
       "      <td>-0.001622</td>\n",
       "      <td>-0.001316</td>\n",
       "      <td>0.001702</td>\n",
       "      <td>-0.025396</td>\n",
       "      <td>0.000368</td>\n",
       "      <td>0.035515</td>\n",
       "      <td>-0.029923</td>\n",
       "      <td>-0.012414</td>\n",
       "      <td>-0.005551</td>\n",
       "      <td>0.002803</td>\n",
       "      <td>0.037719</td>\n",
       "      <td>-0.034654</td>\n",
       "      <td>0.003070</td>\n",
       "      <td>0.003230</td>\n",
       "      <td>-0.014120</td>\n",
       "      <td>-0.025145</td>\n",
       "    </tr>\n",
       "    <tr>\n",
       "      <th>gender_-unknown-</th>\n",
       "      <td>0.130634</td>\n",
       "      <td>-0.052193</td>\n",
       "      <td>-0.107762</td>\n",
       "      <td>1.000000</td>\n",
       "      <td>-0.583737</td>\n",
       "      <td>-0.527515</td>\n",
       "      <td>-0.032263</td>\n",
       "      <td>-0.002890</td>\n",
       "      <td>-0.004618</td>\n",
       "      <td>-0.003930</td>\n",
       "      <td>0.004784</td>\n",
       "      <td>-0.007783</td>\n",
       "      <td>0.026616</td>\n",
       "      <td>-0.019274</td>\n",
       "      <td>-0.004559</td>\n",
       "      <td>-0.019647</td>\n",
       "      <td>-0.002333</td>\n",
       "      <td>-0.008412</td>\n",
       "      <td>-0.006731</td>\n",
       "      <td>-0.001038</td>\n",
       "      <td>-0.016092</td>\n",
       "      <td>-0.002424</td>\n",
       "      <td>0.001277</td>\n",
       "      <td>0.001660</td>\n",
       "      <td>-0.006151</td>\n",
       "      <td>-0.006003</td>\n",
       "      <td>-0.012389</td>\n",
       "      <td>-0.014183</td>\n",
       "      <td>-0.004229</td>\n",
       "      <td>-0.006969</td>\n",
       "      <td>-0.004462</td>\n",
       "      <td>0.002973</td>\n",
       "      <td>0.104433</td>\n",
       "      <td>0.003453</td>\n",
       "      <td>-0.001132</td>\n",
       "      <td>-0.000549</td>\n",
       "      <td>0.002869</td>\n",
       "      <td>-0.003299</td>\n",
       "      <td>-0.006769</td>\n",
       "      <td>0.000758</td>\n",
       "      <td>...</td>\n",
       "      <td>0.002869</td>\n",
       "      <td>-0.002240</td>\n",
       "      <td>-0.001778</td>\n",
       "      <td>-0.002333</td>\n",
       "      <td>-0.002219</td>\n",
       "      <td>0.001795</td>\n",
       "      <td>0.016567</td>\n",
       "      <td>-0.002333</td>\n",
       "      <td>-0.002333</td>\n",
       "      <td>0.002869</td>\n",
       "      <td>-0.000891</td>\n",
       "      <td>0.001966</td>\n",
       "      <td>-0.002333</td>\n",
       "      <td>0.002869</td>\n",
       "      <td>-0.001464</td>\n",
       "      <td>-0.002333</td>\n",
       "      <td>-0.006590</td>\n",
       "      <td>-0.029295</td>\n",
       "      <td>0.004903</td>\n",
       "      <td>-0.003171</td>\n",
       "      <td>0.007732</td>\n",
       "      <td>0.000379</td>\n",
       "      <td>0.006166</td>\n",
       "      <td>0.003658</td>\n",
       "      <td>-0.003299</td>\n",
       "      <td>-0.002921</td>\n",
       "      <td>-0.000564</td>\n",
       "      <td>0.058605</td>\n",
       "      <td>0.026460</td>\n",
       "      <td>-0.080273</td>\n",
       "      <td>0.050842</td>\n",
       "      <td>0.019741</td>\n",
       "      <td>0.014515</td>\n",
       "      <td>-0.003532</td>\n",
       "      <td>-0.092617</td>\n",
       "      <td>0.080012</td>\n",
       "      <td>-0.003256</td>\n",
       "      <td>0.009103</td>\n",
       "      <td>0.025346</td>\n",
       "      <td>0.048926</td>\n",
       "    </tr>\n",
       "    <tr>\n",
       "      <th>gender_FEMALE</th>\n",
       "      <td>-0.082251</td>\n",
       "      <td>0.042260</td>\n",
       "      <td>0.052407</td>\n",
       "      <td>-0.583737</td>\n",
       "      <td>1.000000</td>\n",
       "      <td>-0.378644</td>\n",
       "      <td>-0.023158</td>\n",
       "      <td>0.001328</td>\n",
       "      <td>0.003924</td>\n",
       "      <td>0.001002</td>\n",
       "      <td>-0.006873</td>\n",
       "      <td>0.003109</td>\n",
       "      <td>-0.011248</td>\n",
       "      <td>0.012601</td>\n",
       "      <td>0.001313</td>\n",
       "      <td>0.010229</td>\n",
       "      <td>0.003997</td>\n",
       "      <td>0.006546</td>\n",
       "      <td>-0.002445</td>\n",
       "      <td>0.000374</td>\n",
       "      <td>0.005176</td>\n",
       "      <td>0.002038</td>\n",
       "      <td>-0.006096</td>\n",
       "      <td>-0.001511</td>\n",
       "      <td>0.003464</td>\n",
       "      <td>0.003449</td>\n",
       "      <td>0.008719</td>\n",
       "      <td>0.006555</td>\n",
       "      <td>0.002966</td>\n",
       "      <td>0.003400</td>\n",
       "      <td>0.000350</td>\n",
       "      <td>-0.000362</td>\n",
       "      <td>-0.084999</td>\n",
       "      <td>-0.003090</td>\n",
       "      <td>0.003548</td>\n",
       "      <td>-0.002431</td>\n",
       "      <td>-0.001675</td>\n",
       "      <td>0.001642</td>\n",
       "      <td>0.007349</td>\n",
       "      <td>-0.002731</td>\n",
       "      <td>...</td>\n",
       "      <td>-0.001675</td>\n",
       "      <td>-0.000144</td>\n",
       "      <td>-0.001719</td>\n",
       "      <td>-0.001675</td>\n",
       "      <td>-0.006458</td>\n",
       "      <td>-0.002724</td>\n",
       "      <td>0.019550</td>\n",
       "      <td>0.003997</td>\n",
       "      <td>-0.001675</td>\n",
       "      <td>-0.001675</td>\n",
       "      <td>-0.006402</td>\n",
       "      <td>0.000374</td>\n",
       "      <td>-0.001675</td>\n",
       "      <td>-0.001675</td>\n",
       "      <td>-0.005554</td>\n",
       "      <td>0.003997</td>\n",
       "      <td>0.001808</td>\n",
       "      <td>0.046126</td>\n",
       "      <td>-0.001787</td>\n",
       "      <td>0.005429</td>\n",
       "      <td>-0.007300</td>\n",
       "      <td>0.001642</td>\n",
       "      <td>-0.004484</td>\n",
       "      <td>-0.002287</td>\n",
       "      <td>0.005652</td>\n",
       "      <td>0.003284</td>\n",
       "      <td>-0.001208</td>\n",
       "      <td>-0.050465</td>\n",
       "      <td>-0.005708</td>\n",
       "      <td>0.070303</td>\n",
       "      <td>-0.055325</td>\n",
       "      <td>-0.016970</td>\n",
       "      <td>-0.005937</td>\n",
       "      <td>-0.013634</td>\n",
       "      <td>0.068366</td>\n",
       "      <td>-0.059372</td>\n",
       "      <td>0.005805</td>\n",
       "      <td>-0.018523</td>\n",
       "      <td>0.008762</td>\n",
       "      <td>-0.036636</td>\n",
       "    </tr>\n",
       "    <tr>\n",
       "      <th>...</th>\n",
       "      <td>...</td>\n",
       "      <td>...</td>\n",
       "      <td>...</td>\n",
       "      <td>...</td>\n",
       "      <td>...</td>\n",
       "      <td>...</td>\n",
       "      <td>...</td>\n",
       "      <td>...</td>\n",
       "      <td>...</td>\n",
       "      <td>...</td>\n",
       "      <td>...</td>\n",
       "      <td>...</td>\n",
       "      <td>...</td>\n",
       "      <td>...</td>\n",
       "      <td>...</td>\n",
       "      <td>...</td>\n",
       "      <td>...</td>\n",
       "      <td>...</td>\n",
       "      <td>...</td>\n",
       "      <td>...</td>\n",
       "      <td>...</td>\n",
       "      <td>...</td>\n",
       "      <td>...</td>\n",
       "      <td>...</td>\n",
       "      <td>...</td>\n",
       "      <td>...</td>\n",
       "      <td>...</td>\n",
       "      <td>...</td>\n",
       "      <td>...</td>\n",
       "      <td>...</td>\n",
       "      <td>...</td>\n",
       "      <td>...</td>\n",
       "      <td>...</td>\n",
       "      <td>...</td>\n",
       "      <td>...</td>\n",
       "      <td>...</td>\n",
       "      <td>...</td>\n",
       "      <td>...</td>\n",
       "      <td>...</td>\n",
       "      <td>...</td>\n",
       "      <td>...</td>\n",
       "      <td>...</td>\n",
       "      <td>...</td>\n",
       "      <td>...</td>\n",
       "      <td>...</td>\n",
       "      <td>...</td>\n",
       "      <td>...</td>\n",
       "      <td>...</td>\n",
       "      <td>...</td>\n",
       "      <td>...</td>\n",
       "      <td>...</td>\n",
       "      <td>...</td>\n",
       "      <td>...</td>\n",
       "      <td>...</td>\n",
       "      <td>...</td>\n",
       "      <td>...</td>\n",
       "      <td>...</td>\n",
       "      <td>...</td>\n",
       "      <td>...</td>\n",
       "      <td>...</td>\n",
       "      <td>...</td>\n",
       "      <td>...</td>\n",
       "      <td>...</td>\n",
       "      <td>...</td>\n",
       "      <td>...</td>\n",
       "      <td>...</td>\n",
       "      <td>...</td>\n",
       "      <td>...</td>\n",
       "      <td>...</td>\n",
       "      <td>...</td>\n",
       "      <td>...</td>\n",
       "      <td>...</td>\n",
       "      <td>...</td>\n",
       "      <td>...</td>\n",
       "      <td>...</td>\n",
       "      <td>...</td>\n",
       "      <td>...</td>\n",
       "      <td>...</td>\n",
       "      <td>...</td>\n",
       "      <td>...</td>\n",
       "      <td>...</td>\n",
       "    </tr>\n",
       "    <tr>\n",
       "      <th>device_used_Other/Unknown</th>\n",
       "      <td>-0.134480</td>\n",
       "      <td>-0.000203</td>\n",
       "      <td>-0.034654</td>\n",
       "      <td>0.080012</td>\n",
       "      <td>-0.059372</td>\n",
       "      <td>-0.028910</td>\n",
       "      <td>-0.003077</td>\n",
       "      <td>-0.001330</td>\n",
       "      <td>0.002639</td>\n",
       "      <td>-0.001670</td>\n",
       "      <td>-0.002393</td>\n",
       "      <td>-0.002593</td>\n",
       "      <td>-0.000544</td>\n",
       "      <td>0.002121</td>\n",
       "      <td>-0.002225</td>\n",
       "      <td>-0.004124</td>\n",
       "      <td>-0.000595</td>\n",
       "      <td>-0.002144</td>\n",
       "      <td>-0.002379</td>\n",
       "      <td>-0.001030</td>\n",
       "      <td>0.006409</td>\n",
       "      <td>-0.004418</td>\n",
       "      <td>0.009850</td>\n",
       "      <td>-0.002254</td>\n",
       "      <td>-0.000140</td>\n",
       "      <td>-0.003809</td>\n",
       "      <td>0.001986</td>\n",
       "      <td>0.000670</td>\n",
       "      <td>-0.003827</td>\n",
       "      <td>-0.002144</td>\n",
       "      <td>-0.003569</td>\n",
       "      <td>-0.000640</td>\n",
       "      <td>0.593567</td>\n",
       "      <td>-0.007667</td>\n",
       "      <td>0.000788</td>\n",
       "      <td>-0.000908</td>\n",
       "      <td>-0.000595</td>\n",
       "      <td>-0.000841</td>\n",
       "      <td>-0.003519</td>\n",
       "      <td>-0.001682</td>\n",
       "      <td>...</td>\n",
       "      <td>-0.000595</td>\n",
       "      <td>-0.001574</td>\n",
       "      <td>-0.002225</td>\n",
       "      <td>-0.000595</td>\n",
       "      <td>-0.003618</td>\n",
       "      <td>-0.000140</td>\n",
       "      <td>-0.072133</td>\n",
       "      <td>-0.000595</td>\n",
       "      <td>-0.000595</td>\n",
       "      <td>-0.000595</td>\n",
       "      <td>-0.006939</td>\n",
       "      <td>-0.001030</td>\n",
       "      <td>0.011254</td>\n",
       "      <td>-0.000595</td>\n",
       "      <td>-0.001973</td>\n",
       "      <td>0.011254</td>\n",
       "      <td>-0.002593</td>\n",
       "      <td>-0.118815</td>\n",
       "      <td>-0.001457</td>\n",
       "      <td>-0.003190</td>\n",
       "      <td>-0.002593</td>\n",
       "      <td>-0.000841</td>\n",
       "      <td>-0.002852</td>\n",
       "      <td>-0.001574</td>\n",
       "      <td>-0.000841</td>\n",
       "      <td>-0.001682</td>\n",
       "      <td>-0.001330</td>\n",
       "      <td>0.481193</td>\n",
       "      <td>0.055507</td>\n",
       "      <td>-0.262656</td>\n",
       "      <td>0.025174</td>\n",
       "      <td>-0.026838</td>\n",
       "      <td>-0.018095</td>\n",
       "      <td>-0.017140</td>\n",
       "      <td>-0.195306</td>\n",
       "      <td>1.000000</td>\n",
       "      <td>-0.004206</td>\n",
       "      <td>-0.165384</td>\n",
       "      <td>-0.061536</td>\n",
       "      <td>-0.075446</td>\n",
       "    </tr>\n",
       "    <tr>\n",
       "      <th>device_used_SmartPhone (Other)</th>\n",
       "      <td>-0.003108</td>\n",
       "      <td>-0.001256</td>\n",
       "      <td>0.003070</td>\n",
       "      <td>-0.003256</td>\n",
       "      <td>0.005805</td>\n",
       "      <td>-0.002306</td>\n",
       "      <td>-0.000655</td>\n",
       "      <td>-0.000106</td>\n",
       "      <td>-0.000212</td>\n",
       "      <td>-0.000288</td>\n",
       "      <td>-0.001070</td>\n",
       "      <td>-0.000206</td>\n",
       "      <td>0.001346</td>\n",
       "      <td>-0.001189</td>\n",
       "      <td>-0.000177</td>\n",
       "      <td>0.003613</td>\n",
       "      <td>-0.000047</td>\n",
       "      <td>-0.000171</td>\n",
       "      <td>-0.000189</td>\n",
       "      <td>-0.000082</td>\n",
       "      <td>-0.000893</td>\n",
       "      <td>-0.000582</td>\n",
       "      <td>-0.001065</td>\n",
       "      <td>-0.000402</td>\n",
       "      <td>-0.000217</td>\n",
       "      <td>-0.000303</td>\n",
       "      <td>-0.000627</td>\n",
       "      <td>-0.000793</td>\n",
       "      <td>-0.000413</td>\n",
       "      <td>-0.000171</td>\n",
       "      <td>-0.000284</td>\n",
       "      <td>-0.001613</td>\n",
       "      <td>-0.007017</td>\n",
       "      <td>-0.000610</td>\n",
       "      <td>-0.001167</td>\n",
       "      <td>-0.000250</td>\n",
       "      <td>-0.000047</td>\n",
       "      <td>-0.000067</td>\n",
       "      <td>0.669238</td>\n",
       "      <td>-0.000134</td>\n",
       "      <td>...</td>\n",
       "      <td>-0.000047</td>\n",
       "      <td>-0.000125</td>\n",
       "      <td>-0.000177</td>\n",
       "      <td>-0.000047</td>\n",
       "      <td>-0.000288</td>\n",
       "      <td>-0.000217</td>\n",
       "      <td>-0.005741</td>\n",
       "      <td>-0.000047</td>\n",
       "      <td>-0.000047</td>\n",
       "      <td>-0.000047</td>\n",
       "      <td>-0.000552</td>\n",
       "      <td>0.244910</td>\n",
       "      <td>-0.000047</td>\n",
       "      <td>-0.000047</td>\n",
       "      <td>-0.000157</td>\n",
       "      <td>-0.000047</td>\n",
       "      <td>-0.000206</td>\n",
       "      <td>-0.009456</td>\n",
       "      <td>-0.000116</td>\n",
       "      <td>-0.000452</td>\n",
       "      <td>-0.000206</td>\n",
       "      <td>-0.000067</td>\n",
       "      <td>-0.000227</td>\n",
       "      <td>-0.000125</td>\n",
       "      <td>-0.000067</td>\n",
       "      <td>-0.000134</td>\n",
       "      <td>-0.000106</td>\n",
       "      <td>-0.000633</td>\n",
       "      <td>0.029328</td>\n",
       "      <td>-0.011217</td>\n",
       "      <td>-0.003180</td>\n",
       "      <td>-0.002136</td>\n",
       "      <td>-0.001440</td>\n",
       "      <td>-0.001364</td>\n",
       "      <td>-0.015544</td>\n",
       "      <td>-0.004206</td>\n",
       "      <td>1.000000</td>\n",
       "      <td>-0.013162</td>\n",
       "      <td>-0.004897</td>\n",
       "      <td>-0.006005</td>\n",
       "    </tr>\n",
       "    <tr>\n",
       "      <th>device_used_Windows Desktop</th>\n",
       "      <td>-0.005714</td>\n",
       "      <td>0.008176</td>\n",
       "      <td>0.003230</td>\n",
       "      <td>0.009103</td>\n",
       "      <td>-0.018523</td>\n",
       "      <td>0.009069</td>\n",
       "      <td>-0.000845</td>\n",
       "      <td>-0.004162</td>\n",
       "      <td>0.003880</td>\n",
       "      <td>-0.002350</td>\n",
       "      <td>0.011245</td>\n",
       "      <td>0.005659</td>\n",
       "      <td>-0.047885</td>\n",
       "      <td>0.018511</td>\n",
       "      <td>-0.002588</td>\n",
       "      <td>0.009210</td>\n",
       "      <td>0.003596</td>\n",
       "      <td>0.002371</td>\n",
       "      <td>0.014385</td>\n",
       "      <td>-0.000073</td>\n",
       "      <td>0.021148</td>\n",
       "      <td>0.001556</td>\n",
       "      <td>0.028405</td>\n",
       "      <td>0.002216</td>\n",
       "      <td>-0.004957</td>\n",
       "      <td>0.009391</td>\n",
       "      <td>0.002195</td>\n",
       "      <td>0.010612</td>\n",
       "      <td>-0.004959</td>\n",
       "      <td>0.003885</td>\n",
       "      <td>0.005205</td>\n",
       "      <td>0.027781</td>\n",
       "      <td>-0.275604</td>\n",
       "      <td>0.046358</td>\n",
       "      <td>-0.045871</td>\n",
       "      <td>-0.009849</td>\n",
       "      <td>-0.001861</td>\n",
       "      <td>0.005086</td>\n",
       "      <td>-0.011012</td>\n",
       "      <td>-0.005264</td>\n",
       "      <td>...</td>\n",
       "      <td>0.003596</td>\n",
       "      <td>-0.004924</td>\n",
       "      <td>0.010539</td>\n",
       "      <td>-0.001861</td>\n",
       "      <td>0.019185</td>\n",
       "      <td>-0.008529</td>\n",
       "      <td>-0.225732</td>\n",
       "      <td>0.003596</td>\n",
       "      <td>-0.001861</td>\n",
       "      <td>-0.001861</td>\n",
       "      <td>0.031656</td>\n",
       "      <td>-0.003224</td>\n",
       "      <td>-0.001861</td>\n",
       "      <td>0.003596</td>\n",
       "      <td>0.011927</td>\n",
       "      <td>-0.001861</td>\n",
       "      <td>-0.003105</td>\n",
       "      <td>-0.366591</td>\n",
       "      <td>0.006581</td>\n",
       "      <td>-0.017760</td>\n",
       "      <td>0.015676</td>\n",
       "      <td>0.005086</td>\n",
       "      <td>0.017247</td>\n",
       "      <td>-0.004924</td>\n",
       "      <td>0.005086</td>\n",
       "      <td>0.010171</td>\n",
       "      <td>-0.004162</td>\n",
       "      <td>-0.106116</td>\n",
       "      <td>-0.076052</td>\n",
       "      <td>0.243376</td>\n",
       "      <td>-0.196059</td>\n",
       "      <td>-0.083986</td>\n",
       "      <td>-0.056626</td>\n",
       "      <td>-0.053638</td>\n",
       "      <td>-0.611188</td>\n",
       "      <td>-0.165384</td>\n",
       "      <td>-0.013162</td>\n",
       "      <td>1.000000</td>\n",
       "      <td>-0.192570</td>\n",
       "      <td>-0.236099</td>\n",
       "    </tr>\n",
       "    <tr>\n",
       "      <th>device_used_iPad</th>\n",
       "      <td>0.022254</td>\n",
       "      <td>0.004499</td>\n",
       "      <td>-0.014120</td>\n",
       "      <td>0.025346</td>\n",
       "      <td>0.008762</td>\n",
       "      <td>-0.037924</td>\n",
       "      <td>-0.002078</td>\n",
       "      <td>0.007715</td>\n",
       "      <td>-0.000781</td>\n",
       "      <td>-0.002510</td>\n",
       "      <td>0.004124</td>\n",
       "      <td>0.001734</td>\n",
       "      <td>-0.006968</td>\n",
       "      <td>0.000419</td>\n",
       "      <td>0.000177</td>\n",
       "      <td>0.003095</td>\n",
       "      <td>-0.000692</td>\n",
       "      <td>0.003248</td>\n",
       "      <td>-0.002770</td>\n",
       "      <td>-0.001199</td>\n",
       "      <td>-0.002606</td>\n",
       "      <td>-0.000081</td>\n",
       "      <td>-0.000815</td>\n",
       "      <td>0.002669</td>\n",
       "      <td>0.001347</td>\n",
       "      <td>-0.004435</td>\n",
       "      <td>0.002585</td>\n",
       "      <td>0.008227</td>\n",
       "      <td>0.001092</td>\n",
       "      <td>0.000376</td>\n",
       "      <td>-0.000703</td>\n",
       "      <td>0.005200</td>\n",
       "      <td>-0.052808</td>\n",
       "      <td>-0.008927</td>\n",
       "      <td>-0.017068</td>\n",
       "      <td>-0.003665</td>\n",
       "      <td>-0.000692</td>\n",
       "      <td>-0.000979</td>\n",
       "      <td>-0.004097</td>\n",
       "      <td>-0.001959</td>\n",
       "      <td>...</td>\n",
       "      <td>-0.000692</td>\n",
       "      <td>-0.001832</td>\n",
       "      <td>-0.002591</td>\n",
       "      <td>-0.000692</td>\n",
       "      <td>-0.004213</td>\n",
       "      <td>-0.003174</td>\n",
       "      <td>0.764824</td>\n",
       "      <td>-0.000692</td>\n",
       "      <td>-0.000692</td>\n",
       "      <td>-0.000692</td>\n",
       "      <td>-0.008079</td>\n",
       "      <td>-0.001199</td>\n",
       "      <td>-0.000692</td>\n",
       "      <td>-0.000692</td>\n",
       "      <td>-0.002297</td>\n",
       "      <td>-0.000692</td>\n",
       "      <td>-0.003019</td>\n",
       "      <td>-0.138346</td>\n",
       "      <td>-0.001696</td>\n",
       "      <td>-0.006608</td>\n",
       "      <td>-0.003019</td>\n",
       "      <td>-0.000979</td>\n",
       "      <td>-0.003321</td>\n",
       "      <td>-0.001832</td>\n",
       "      <td>-0.000979</td>\n",
       "      <td>-0.001959</td>\n",
       "      <td>-0.001548</td>\n",
       "      <td>-0.041552</td>\n",
       "      <td>-0.017836</td>\n",
       "      <td>0.039876</td>\n",
       "      <td>-0.015626</td>\n",
       "      <td>-0.031250</td>\n",
       "      <td>-0.021069</td>\n",
       "      <td>-0.019958</td>\n",
       "      <td>-0.227411</td>\n",
       "      <td>-0.061536</td>\n",
       "      <td>-0.004897</td>\n",
       "      <td>-0.192570</td>\n",
       "      <td>1.000000</td>\n",
       "      <td>-0.087848</td>\n",
       "    </tr>\n",
       "    <tr>\n",
       "      <th>device_used_iPhone</th>\n",
       "      <td>0.139565</td>\n",
       "      <td>-0.014967</td>\n",
       "      <td>-0.025145</td>\n",
       "      <td>0.048926</td>\n",
       "      <td>-0.036636</td>\n",
       "      <td>-0.017352</td>\n",
       "      <td>-0.001626</td>\n",
       "      <td>0.002007</td>\n",
       "      <td>0.000108</td>\n",
       "      <td>-0.000858</td>\n",
       "      <td>-0.006006</td>\n",
       "      <td>0.004312</td>\n",
       "      <td>0.010467</td>\n",
       "      <td>-0.006307</td>\n",
       "      <td>-0.000843</td>\n",
       "      <td>-0.004062</td>\n",
       "      <td>-0.000849</td>\n",
       "      <td>-0.003061</td>\n",
       "      <td>-0.003396</td>\n",
       "      <td>-0.001471</td>\n",
       "      <td>-0.003024</td>\n",
       "      <td>-0.006173</td>\n",
       "      <td>-0.010160</td>\n",
       "      <td>-0.001030</td>\n",
       "      <td>0.005637</td>\n",
       "      <td>-0.004073</td>\n",
       "      <td>-0.002652</td>\n",
       "      <td>-0.003252</td>\n",
       "      <td>-0.001392</td>\n",
       "      <td>-0.003061</td>\n",
       "      <td>-0.000728</td>\n",
       "      <td>0.005420</td>\n",
       "      <td>0.555208</td>\n",
       "      <td>-0.010945</td>\n",
       "      <td>-0.020926</td>\n",
       "      <td>-0.004493</td>\n",
       "      <td>-0.000849</td>\n",
       "      <td>-0.001201</td>\n",
       "      <td>-0.005023</td>\n",
       "      <td>-0.002401</td>\n",
       "      <td>...</td>\n",
       "      <td>-0.000849</td>\n",
       "      <td>-0.002246</td>\n",
       "      <td>-0.003177</td>\n",
       "      <td>-0.000849</td>\n",
       "      <td>-0.005165</td>\n",
       "      <td>-0.003891</td>\n",
       "      <td>0.240477</td>\n",
       "      <td>-0.000849</td>\n",
       "      <td>-0.000849</td>\n",
       "      <td>-0.000849</td>\n",
       "      <td>-0.009906</td>\n",
       "      <td>-0.001471</td>\n",
       "      <td>-0.000849</td>\n",
       "      <td>-0.000849</td>\n",
       "      <td>-0.002816</td>\n",
       "      <td>-0.000849</td>\n",
       "      <td>-0.003701</td>\n",
       "      <td>-0.169618</td>\n",
       "      <td>-0.002080</td>\n",
       "      <td>-0.008102</td>\n",
       "      <td>-0.003701</td>\n",
       "      <td>-0.001201</td>\n",
       "      <td>-0.004072</td>\n",
       "      <td>-0.002246</td>\n",
       "      <td>-0.001201</td>\n",
       "      <td>-0.002401</td>\n",
       "      <td>-0.001899</td>\n",
       "      <td>-0.051883</td>\n",
       "      <td>0.178800</td>\n",
       "      <td>-0.618030</td>\n",
       "      <td>0.683481</td>\n",
       "      <td>-0.038313</td>\n",
       "      <td>-0.025832</td>\n",
       "      <td>-0.024469</td>\n",
       "      <td>-0.278815</td>\n",
       "      <td>-0.075446</td>\n",
       "      <td>-0.006005</td>\n",
       "      <td>-0.236099</td>\n",
       "      <td>-0.087848</td>\n",
       "      <td>1.000000</td>\n",
       "    </tr>\n",
       "  </tbody>\n",
       "</table>\n",
       "<p>94 rows × 94 columns</p>\n",
       "</div>"
      ],
      "text/plain": [
       "                                first_activity_time  ...  device_used_iPhone\n",
       "first_activity_time                        1.000000  ...            0.139565\n",
       "age                                       -0.031842  ...           -0.014967\n",
       "target_country                            -0.023415  ...           -0.025145\n",
       "gender_-unknown-                           0.130634  ...            0.048926\n",
       "gender_FEMALE                             -0.082251  ...           -0.036636\n",
       "...                                             ...  ...                 ...\n",
       "device_used_Other/Unknown                 -0.134480  ...           -0.075446\n",
       "device_used_SmartPhone (Other)            -0.003108  ...           -0.006005\n",
       "device_used_Windows Desktop               -0.005714  ...           -0.236099\n",
       "device_used_iPad                           0.022254  ...           -0.087848\n",
       "device_used_iPhone                         0.139565  ...            1.000000\n",
       "\n",
       "[94 rows x 94 columns]"
      ]
     },
     "execution_count": 512,
     "metadata": {},
     "output_type": "execute_result"
    }
   ],
   "source": [
    "train_df.corr() #### after that finding the correlation between each pair to check which features are highly corealtred or what ..."
   ]
  },
  {
   "cell_type": "code",
   "execution_count": 559,
   "id": "Rqw_uhoLPyL9",
   "metadata": {
    "colab": {
     "base_uri": "https://localhost:8080/"
    },
    "id": "Rqw_uhoLPyL9",
    "outputId": "57279fdd-fd54-472b-cacb-a223d278c5da"
   },
   "outputs": [
    {
     "name": "stderr",
     "output_type": "stream",
     "text": [
      "/usr/local/lib/python3.7/dist-packages/sklearn/utils/validation.py:760: DataConversionWarning: A column-vector y was passed when a 1d array was expected. Please change the shape of y to (n_samples, ), for example using ravel().\n",
      "  y = column_or_1d(y, warn=True)\n"
     ]
    },
    {
     "data": {
      "text/plain": [
       "LogisticRegression(C=1.0, class_weight=None, dual=False, fit_intercept=True,\n",
       "                   intercept_scaling=1, l1_ratio=None, max_iter=100,\n",
       "                   multi_class='ovr', n_jobs=None, penalty='l2',\n",
       "                   random_state=None, solver='liblinear', tol=0.0001, verbose=0,\n",
       "                   warm_start=False)"
      ]
     },
     "execution_count": 559,
     "metadata": {},
     "output_type": "execute_result"
    }
   ],
   "source": [
    "\n",
    "from sklearn import model_selection\n",
    "from sklearn import linear_model\n",
    "from sklearn import metrics\n",
    "\n",
    "\n",
    "#######   NOW HERE I AM APPLYING LOGISTIC REGRESSION MODEL AND THEN PREDICTING THE TARGET COUNTRY USING THIS MODEL I AM USING HERE IS LIBLINEAR SOLVER \n",
    "##########  BECAUSE it is beneficial  with huge dimension of datsets\n",
    "\n",
    "\n",
    "##### and  OVR means == one verses the rest   i am using because  of multi class classification\n",
    "\n",
    "\n",
    "\n",
    "lm = linear_model.LogisticRegression(multi_class='ovr', solver='liblinear')\n",
    "lm.fit(train_X, train_Y)"
   ]
  },
  {
   "cell_type": "code",
   "execution_count": 560,
   "id": "WQbUwWcZT-d-",
   "metadata": {
    "colab": {
     "base_uri": "https://localhost:8080/"
    },
    "id": "WQbUwWcZT-d-",
    "outputId": "9985be9d-b590-475c-8af0-ca109dd078f2"
   },
   "outputs": [
    {
     "data": {
      "text/plain": [
       "0.5827997769102063"
      ]
     },
     "execution_count": 560,
     "metadata": {},
     "output_type": "execute_result"
    }
   ],
   "source": [
    "lm.predict(test_X)\n",
    "\n",
    "#### here i am predicting  the test_X data and the i am comparing the predicted y with thr truth y value and the finding the score \n",
    "\n",
    "### so accuracy we are finding here is about 58%\n",
    "\n",
    "lm.score(test_X, test_Y)"
   ]
  },
  {
   "cell_type": "code",
   "execution_count": 515,
   "id": "oc0xPc6GVWeB",
   "metadata": {
    "id": "oc0xPc6GVWeB"
   },
   "outputs": [],
   "source": [
    "Y_predicted = lm.predict(test_df) \n",
    "\n",
    "\n",
    "###  and after that we are predicting y that is target country on whole the test data "
   ]
  },
  {
   "cell_type": "code",
   "execution_count": 516,
   "id": "JcdisxDASB1P",
   "metadata": {
    "colab": {
     "base_uri": "https://localhost:8080/",
     "height": 269
    },
    "id": "JcdisxDASB1P",
    "outputId": "714809cd-1db3-410a-ffd4-c78df006abd2"
   },
   "outputs": [
    {
     "data": {
      "text/html": [
       "<div>\n",
       "<style scoped>\n",
       "    .dataframe tbody tr th:only-of-type {\n",
       "        vertical-align: middle;\n",
       "    }\n",
       "\n",
       "    .dataframe tbody tr th {\n",
       "        vertical-align: top;\n",
       "    }\n",
       "\n",
       "    .dataframe thead th {\n",
       "        text-align: right;\n",
       "    }\n",
       "</style>\n",
       "<table border=\"1\" class=\"dataframe\">\n",
       "  <thead>\n",
       "    <tr style=\"text-align: right;\">\n",
       "      <th></th>\n",
       "      <th>first_activity_time</th>\n",
       "      <th>age</th>\n",
       "      <th>gender_-unknown-</th>\n",
       "      <th>gender_FEMALE</th>\n",
       "      <th>gender_MALE</th>\n",
       "      <th>gender_OTHER</th>\n",
       "      <th>language_cs</th>\n",
       "      <th>language_da</th>\n",
       "      <th>language_de</th>\n",
       "      <th>language_el</th>\n",
       "      <th>language_en</th>\n",
       "      <th>language_es</th>\n",
       "      <th>language_fr</th>\n",
       "      <th>language_hr</th>\n",
       "      <th>language_hu</th>\n",
       "      <th>language_id</th>\n",
       "      <th>language_is</th>\n",
       "      <th>language_it</th>\n",
       "      <th>language_ja</th>\n",
       "      <th>language_ko</th>\n",
       "      <th>language_nl</th>\n",
       "      <th>language_no</th>\n",
       "      <th>language_pl</th>\n",
       "      <th>language_pt</th>\n",
       "      <th>language_ru</th>\n",
       "      <th>language_sv</th>\n",
       "      <th>language_th</th>\n",
       "      <th>language_tr</th>\n",
       "      <th>language_zh</th>\n",
       "      <th>web_browser_-unknown-</th>\n",
       "      <th>web_browser_AOL Explorer</th>\n",
       "      <th>web_browser_Android Browser</th>\n",
       "      <th>web_browser_Apple Mail</th>\n",
       "      <th>web_browser_Avant Browser</th>\n",
       "      <th>web_browser_BlackBerry Browser</th>\n",
       "      <th>web_browser_Camino</th>\n",
       "      <th>web_browser_Chrome</th>\n",
       "      <th>web_browser_Chrome Mobile</th>\n",
       "      <th>web_browser_Chromium</th>\n",
       "      <th>web_browser_CometBird</th>\n",
       "      <th>...</th>\n",
       "      <th>web_browser_Opera</th>\n",
       "      <th>web_browser_Opera Mini</th>\n",
       "      <th>web_browser_Opera Mobile</th>\n",
       "      <th>web_browser_Pale Moon</th>\n",
       "      <th>web_browser_RockMelt</th>\n",
       "      <th>web_browser_Safari</th>\n",
       "      <th>web_browser_SeaMonkey</th>\n",
       "      <th>web_browser_Silk</th>\n",
       "      <th>web_browser_SiteKiosk</th>\n",
       "      <th>web_browser_Sogou Explorer</th>\n",
       "      <th>web_browser_TenFourFox</th>\n",
       "      <th>web_browser_Yandex.Browser</th>\n",
       "      <th>web_browser_wOSBrowser</th>\n",
       "      <th>app_used_Android</th>\n",
       "      <th>app_used_Moweb</th>\n",
       "      <th>app_used_Web</th>\n",
       "      <th>app_used_iOS</th>\n",
       "      <th>device_used_Android Phone</th>\n",
       "      <th>device_used_Android Tablet</th>\n",
       "      <th>device_used_Desktop (Other)</th>\n",
       "      <th>device_used_Mac Desktop</th>\n",
       "      <th>device_used_Other/Unknown</th>\n",
       "      <th>device_used_SmartPhone (Other)</th>\n",
       "      <th>device_used_Windows Desktop</th>\n",
       "      <th>device_used_iPad</th>\n",
       "      <th>device_used_iPhone</th>\n",
       "      <th>language_ca</th>\n",
       "      <th>language_fi</th>\n",
       "      <th>web_browser_Arora</th>\n",
       "      <th>web_browser_Epic</th>\n",
       "      <th>web_browser_Flock</th>\n",
       "      <th>web_browser_Google Earth</th>\n",
       "      <th>web_browser_Googlebot</th>\n",
       "      <th>web_browser_IceDragon</th>\n",
       "      <th>web_browser_Kindle Browser</th>\n",
       "      <th>web_browser_NetNewsWire</th>\n",
       "      <th>web_browser_Outlook 2007</th>\n",
       "      <th>web_browser_Palm Pre web browser</th>\n",
       "      <th>web_browser_SlimBrowser</th>\n",
       "      <th>web_browser_TheWorld Browser</th>\n",
       "    </tr>\n",
       "  </thead>\n",
       "  <tbody>\n",
       "    <tr>\n",
       "      <th>0</th>\n",
       "      <td>20140217005503</td>\n",
       "      <td>27.0</td>\n",
       "      <td>0</td>\n",
       "      <td>1</td>\n",
       "      <td>0</td>\n",
       "      <td>0</td>\n",
       "      <td>0</td>\n",
       "      <td>0</td>\n",
       "      <td>0</td>\n",
       "      <td>0</td>\n",
       "      <td>1</td>\n",
       "      <td>0</td>\n",
       "      <td>0</td>\n",
       "      <td>0</td>\n",
       "      <td>0</td>\n",
       "      <td>0</td>\n",
       "      <td>0</td>\n",
       "      <td>0</td>\n",
       "      <td>0</td>\n",
       "      <td>0</td>\n",
       "      <td>0</td>\n",
       "      <td>0</td>\n",
       "      <td>0</td>\n",
       "      <td>0</td>\n",
       "      <td>0</td>\n",
       "      <td>0</td>\n",
       "      <td>0</td>\n",
       "      <td>0</td>\n",
       "      <td>0</td>\n",
       "      <td>0</td>\n",
       "      <td>0</td>\n",
       "      <td>0</td>\n",
       "      <td>0</td>\n",
       "      <td>0</td>\n",
       "      <td>0</td>\n",
       "      <td>0</td>\n",
       "      <td>0</td>\n",
       "      <td>0</td>\n",
       "      <td>0</td>\n",
       "      <td>0</td>\n",
       "      <td>...</td>\n",
       "      <td>0</td>\n",
       "      <td>0</td>\n",
       "      <td>0</td>\n",
       "      <td>0</td>\n",
       "      <td>0</td>\n",
       "      <td>0</td>\n",
       "      <td>0</td>\n",
       "      <td>0</td>\n",
       "      <td>0</td>\n",
       "      <td>0</td>\n",
       "      <td>0</td>\n",
       "      <td>0</td>\n",
       "      <td>0</td>\n",
       "      <td>0</td>\n",
       "      <td>0</td>\n",
       "      <td>1</td>\n",
       "      <td>0</td>\n",
       "      <td>0</td>\n",
       "      <td>0</td>\n",
       "      <td>0</td>\n",
       "      <td>0</td>\n",
       "      <td>0</td>\n",
       "      <td>0</td>\n",
       "      <td>1</td>\n",
       "      <td>0</td>\n",
       "      <td>0</td>\n",
       "      <td>0</td>\n",
       "      <td>0</td>\n",
       "      <td>0</td>\n",
       "      <td>0</td>\n",
       "      <td>0</td>\n",
       "      <td>0</td>\n",
       "      <td>0</td>\n",
       "      <td>0</td>\n",
       "      <td>0</td>\n",
       "      <td>0</td>\n",
       "      <td>0</td>\n",
       "      <td>0</td>\n",
       "      <td>0</td>\n",
       "      <td>0</td>\n",
       "    </tr>\n",
       "    <tr>\n",
       "      <th>1</th>\n",
       "      <td>20140311181449</td>\n",
       "      <td>34.0</td>\n",
       "      <td>1</td>\n",
       "      <td>0</td>\n",
       "      <td>0</td>\n",
       "      <td>0</td>\n",
       "      <td>0</td>\n",
       "      <td>0</td>\n",
       "      <td>0</td>\n",
       "      <td>0</td>\n",
       "      <td>1</td>\n",
       "      <td>0</td>\n",
       "      <td>0</td>\n",
       "      <td>0</td>\n",
       "      <td>0</td>\n",
       "      <td>0</td>\n",
       "      <td>0</td>\n",
       "      <td>0</td>\n",
       "      <td>0</td>\n",
       "      <td>0</td>\n",
       "      <td>0</td>\n",
       "      <td>0</td>\n",
       "      <td>0</td>\n",
       "      <td>0</td>\n",
       "      <td>0</td>\n",
       "      <td>0</td>\n",
       "      <td>0</td>\n",
       "      <td>0</td>\n",
       "      <td>0</td>\n",
       "      <td>0</td>\n",
       "      <td>0</td>\n",
       "      <td>0</td>\n",
       "      <td>0</td>\n",
       "      <td>0</td>\n",
       "      <td>0</td>\n",
       "      <td>0</td>\n",
       "      <td>1</td>\n",
       "      <td>0</td>\n",
       "      <td>0</td>\n",
       "      <td>0</td>\n",
       "      <td>...</td>\n",
       "      <td>0</td>\n",
       "      <td>0</td>\n",
       "      <td>0</td>\n",
       "      <td>0</td>\n",
       "      <td>0</td>\n",
       "      <td>0</td>\n",
       "      <td>0</td>\n",
       "      <td>0</td>\n",
       "      <td>0</td>\n",
       "      <td>0</td>\n",
       "      <td>0</td>\n",
       "      <td>0</td>\n",
       "      <td>0</td>\n",
       "      <td>0</td>\n",
       "      <td>0</td>\n",
       "      <td>1</td>\n",
       "      <td>0</td>\n",
       "      <td>0</td>\n",
       "      <td>0</td>\n",
       "      <td>0</td>\n",
       "      <td>1</td>\n",
       "      <td>0</td>\n",
       "      <td>0</td>\n",
       "      <td>0</td>\n",
       "      <td>0</td>\n",
       "      <td>0</td>\n",
       "      <td>0</td>\n",
       "      <td>0</td>\n",
       "      <td>0</td>\n",
       "      <td>0</td>\n",
       "      <td>0</td>\n",
       "      <td>0</td>\n",
       "      <td>0</td>\n",
       "      <td>0</td>\n",
       "      <td>0</td>\n",
       "      <td>0</td>\n",
       "      <td>0</td>\n",
       "      <td>0</td>\n",
       "      <td>0</td>\n",
       "      <td>0</td>\n",
       "    </tr>\n",
       "    <tr>\n",
       "      <th>2</th>\n",
       "      <td>20130604060604</td>\n",
       "      <td>52.0</td>\n",
       "      <td>0</td>\n",
       "      <td>0</td>\n",
       "      <td>1</td>\n",
       "      <td>0</td>\n",
       "      <td>0</td>\n",
       "      <td>0</td>\n",
       "      <td>0</td>\n",
       "      <td>0</td>\n",
       "      <td>1</td>\n",
       "      <td>0</td>\n",
       "      <td>0</td>\n",
       "      <td>0</td>\n",
       "      <td>0</td>\n",
       "      <td>0</td>\n",
       "      <td>0</td>\n",
       "      <td>0</td>\n",
       "      <td>0</td>\n",
       "      <td>0</td>\n",
       "      <td>0</td>\n",
       "      <td>0</td>\n",
       "      <td>0</td>\n",
       "      <td>0</td>\n",
       "      <td>0</td>\n",
       "      <td>0</td>\n",
       "      <td>0</td>\n",
       "      <td>0</td>\n",
       "      <td>0</td>\n",
       "      <td>0</td>\n",
       "      <td>0</td>\n",
       "      <td>0</td>\n",
       "      <td>0</td>\n",
       "      <td>0</td>\n",
       "      <td>0</td>\n",
       "      <td>0</td>\n",
       "      <td>0</td>\n",
       "      <td>0</td>\n",
       "      <td>0</td>\n",
       "      <td>0</td>\n",
       "      <td>...</td>\n",
       "      <td>0</td>\n",
       "      <td>0</td>\n",
       "      <td>0</td>\n",
       "      <td>0</td>\n",
       "      <td>0</td>\n",
       "      <td>1</td>\n",
       "      <td>0</td>\n",
       "      <td>0</td>\n",
       "      <td>0</td>\n",
       "      <td>0</td>\n",
       "      <td>0</td>\n",
       "      <td>0</td>\n",
       "      <td>0</td>\n",
       "      <td>0</td>\n",
       "      <td>0</td>\n",
       "      <td>1</td>\n",
       "      <td>0</td>\n",
       "      <td>0</td>\n",
       "      <td>0</td>\n",
       "      <td>0</td>\n",
       "      <td>1</td>\n",
       "      <td>0</td>\n",
       "      <td>0</td>\n",
       "      <td>0</td>\n",
       "      <td>0</td>\n",
       "      <td>0</td>\n",
       "      <td>0</td>\n",
       "      <td>0</td>\n",
       "      <td>0</td>\n",
       "      <td>0</td>\n",
       "      <td>0</td>\n",
       "      <td>0</td>\n",
       "      <td>0</td>\n",
       "      <td>0</td>\n",
       "      <td>0</td>\n",
       "      <td>0</td>\n",
       "      <td>0</td>\n",
       "      <td>0</td>\n",
       "      <td>0</td>\n",
       "      <td>0</td>\n",
       "    </tr>\n",
       "    <tr>\n",
       "      <th>3</th>\n",
       "      <td>20120816172708</td>\n",
       "      <td>45.0</td>\n",
       "      <td>0</td>\n",
       "      <td>1</td>\n",
       "      <td>0</td>\n",
       "      <td>0</td>\n",
       "      <td>0</td>\n",
       "      <td>0</td>\n",
       "      <td>0</td>\n",
       "      <td>0</td>\n",
       "      <td>1</td>\n",
       "      <td>0</td>\n",
       "      <td>0</td>\n",
       "      <td>0</td>\n",
       "      <td>0</td>\n",
       "      <td>0</td>\n",
       "      <td>0</td>\n",
       "      <td>0</td>\n",
       "      <td>0</td>\n",
       "      <td>0</td>\n",
       "      <td>0</td>\n",
       "      <td>0</td>\n",
       "      <td>0</td>\n",
       "      <td>0</td>\n",
       "      <td>0</td>\n",
       "      <td>0</td>\n",
       "      <td>0</td>\n",
       "      <td>0</td>\n",
       "      <td>0</td>\n",
       "      <td>0</td>\n",
       "      <td>0</td>\n",
       "      <td>0</td>\n",
       "      <td>0</td>\n",
       "      <td>0</td>\n",
       "      <td>0</td>\n",
       "      <td>0</td>\n",
       "      <td>0</td>\n",
       "      <td>0</td>\n",
       "      <td>0</td>\n",
       "      <td>0</td>\n",
       "      <td>...</td>\n",
       "      <td>0</td>\n",
       "      <td>0</td>\n",
       "      <td>0</td>\n",
       "      <td>0</td>\n",
       "      <td>0</td>\n",
       "      <td>1</td>\n",
       "      <td>0</td>\n",
       "      <td>0</td>\n",
       "      <td>0</td>\n",
       "      <td>0</td>\n",
       "      <td>0</td>\n",
       "      <td>0</td>\n",
       "      <td>0</td>\n",
       "      <td>0</td>\n",
       "      <td>0</td>\n",
       "      <td>1</td>\n",
       "      <td>0</td>\n",
       "      <td>0</td>\n",
       "      <td>0</td>\n",
       "      <td>0</td>\n",
       "      <td>1</td>\n",
       "      <td>0</td>\n",
       "      <td>0</td>\n",
       "      <td>0</td>\n",
       "      <td>0</td>\n",
       "      <td>0</td>\n",
       "      <td>0</td>\n",
       "      <td>0</td>\n",
       "      <td>0</td>\n",
       "      <td>0</td>\n",
       "      <td>0</td>\n",
       "      <td>0</td>\n",
       "      <td>0</td>\n",
       "      <td>0</td>\n",
       "      <td>0</td>\n",
       "      <td>0</td>\n",
       "      <td>0</td>\n",
       "      <td>0</td>\n",
       "      <td>0</td>\n",
       "      <td>0</td>\n",
       "    </tr>\n",
       "    <tr>\n",
       "      <th>4</th>\n",
       "      <td>20130502074337</td>\n",
       "      <td>35.0</td>\n",
       "      <td>0</td>\n",
       "      <td>1</td>\n",
       "      <td>0</td>\n",
       "      <td>0</td>\n",
       "      <td>0</td>\n",
       "      <td>0</td>\n",
       "      <td>0</td>\n",
       "      <td>0</td>\n",
       "      <td>1</td>\n",
       "      <td>0</td>\n",
       "      <td>0</td>\n",
       "      <td>0</td>\n",
       "      <td>0</td>\n",
       "      <td>0</td>\n",
       "      <td>0</td>\n",
       "      <td>0</td>\n",
       "      <td>0</td>\n",
       "      <td>0</td>\n",
       "      <td>0</td>\n",
       "      <td>0</td>\n",
       "      <td>0</td>\n",
       "      <td>0</td>\n",
       "      <td>0</td>\n",
       "      <td>0</td>\n",
       "      <td>0</td>\n",
       "      <td>0</td>\n",
       "      <td>0</td>\n",
       "      <td>0</td>\n",
       "      <td>0</td>\n",
       "      <td>0</td>\n",
       "      <td>0</td>\n",
       "      <td>0</td>\n",
       "      <td>0</td>\n",
       "      <td>0</td>\n",
       "      <td>0</td>\n",
       "      <td>0</td>\n",
       "      <td>0</td>\n",
       "      <td>0</td>\n",
       "      <td>...</td>\n",
       "      <td>0</td>\n",
       "      <td>0</td>\n",
       "      <td>0</td>\n",
       "      <td>0</td>\n",
       "      <td>0</td>\n",
       "      <td>0</td>\n",
       "      <td>0</td>\n",
       "      <td>0</td>\n",
       "      <td>0</td>\n",
       "      <td>0</td>\n",
       "      <td>0</td>\n",
       "      <td>0</td>\n",
       "      <td>0</td>\n",
       "      <td>0</td>\n",
       "      <td>0</td>\n",
       "      <td>1</td>\n",
       "      <td>0</td>\n",
       "      <td>0</td>\n",
       "      <td>0</td>\n",
       "      <td>0</td>\n",
       "      <td>1</td>\n",
       "      <td>0</td>\n",
       "      <td>0</td>\n",
       "      <td>0</td>\n",
       "      <td>0</td>\n",
       "      <td>0</td>\n",
       "      <td>0</td>\n",
       "      <td>0</td>\n",
       "      <td>0</td>\n",
       "      <td>0</td>\n",
       "      <td>0</td>\n",
       "      <td>0</td>\n",
       "      <td>0</td>\n",
       "      <td>0</td>\n",
       "      <td>0</td>\n",
       "      <td>0</td>\n",
       "      <td>0</td>\n",
       "      <td>0</td>\n",
       "      <td>0</td>\n",
       "      <td>0</td>\n",
       "    </tr>\n",
       "  </tbody>\n",
       "</table>\n",
       "<p>5 rows × 93 columns</p>\n",
       "</div>"
      ],
      "text/plain": [
       "   first_activity_time  ...  web_browser_TheWorld Browser\n",
       "0       20140217005503  ...                             0\n",
       "1       20140311181449  ...                             0\n",
       "2       20130604060604  ...                             0\n",
       "3       20120816172708  ...                             0\n",
       "4       20130502074337  ...                             0\n",
       "\n",
       "[5 rows x 93 columns]"
      ]
     },
     "execution_count": 516,
     "metadata": {},
     "output_type": "execute_result"
    }
   ],
   "source": [
    "test_df.head()"
   ]
  },
  {
   "cell_type": "code",
   "execution_count": 517,
   "id": "rU3WuoMMwT1e",
   "metadata": {
    "id": "rU3WuoMMwT1e"
   },
   "outputs": [],
   "source": [
    "Y_predicted=Y_predicted.astype('int64')  #### here i am converting float into int because some conversion error was coming "
   ]
  },
  {
   "cell_type": "code",
   "execution_count": 518,
   "id": "XQYm4Gcfu9nr",
   "metadata": {
    "id": "XQYm4Gcfu9nr"
   },
   "outputs": [],
   "source": [
    "Y_predicted = label_encoder.inverse_transform(Y_predicted)  ####  after we are now inversde transforming with the sam dat with the actual value which was in the actual data of train at the place of target_ country "
   ]
  },
  {
   "cell_type": "code",
   "execution_count": 519,
   "id": "CgGP_oLxx8sg",
   "metadata": {
    "colab": {
     "base_uri": "https://localhost:8080/"
    },
    "id": "CgGP_oLxx8sg",
    "outputId": "a78a47e9-159c-49e2-c0a3-062979250d74"
   },
   "outputs": [
    {
     "data": {
      "text/plain": [
       "array(['NB', 'NB', 'NB', ..., 'NB', 'NB', 'NB'], dtype=object)"
      ]
     },
     "execution_count": 519,
     "metadata": {},
     "output_type": "execute_result"
    }
   ],
   "source": [
    "Y_predicted"
   ]
  },
  {
   "cell_type": "code",
   "execution_count": 520,
   "id": "PiON41uEdXLk",
   "metadata": {
    "colab": {
     "base_uri": "https://localhost:8080/"
    },
    "id": "PiON41uEdXLk",
    "outputId": "6a312beb-1e27-404c-ffdc-112786ff370a"
   },
   "outputs": [
    {
     "name": "stdout",
     "output_type": "stream",
     "text": [
      "<class 'numpy.ndarray'>\n"
     ]
    }
   ],
   "source": [
    "print(type(Y_predicted))"
   ]
  },
  {
   "cell_type": "code",
   "execution_count": 521,
   "id": "9omqAOtCrCdo",
   "metadata": {
    "id": "9omqAOtCrCdo"
   },
   "outputs": [],
   "source": [
    "result = pd.DataFrame({'user_id':X_id,'target_country':Y_predicted}) ## now here i am preapring submission file "
   ]
  },
  {
   "cell_type": "code",
   "execution_count": 522,
   "id": "F7-s0FhyrSVU",
   "metadata": {
    "colab": {
     "base_uri": "https://localhost:8080/",
     "height": 203
    },
    "id": "F7-s0FhyrSVU",
    "outputId": "42faa97c-8bba-40de-c24b-a751729ffb58"
   },
   "outputs": [
    {
     "data": {
      "text/html": [
       "<div>\n",
       "<style scoped>\n",
       "    .dataframe tbody tr th:only-of-type {\n",
       "        vertical-align: middle;\n",
       "    }\n",
       "\n",
       "    .dataframe tbody tr th {\n",
       "        vertical-align: top;\n",
       "    }\n",
       "\n",
       "    .dataframe thead th {\n",
       "        text-align: right;\n",
       "    }\n",
       "</style>\n",
       "<table border=\"1\" class=\"dataframe\">\n",
       "  <thead>\n",
       "    <tr style=\"text-align: right;\">\n",
       "      <th></th>\n",
       "      <th>user_id</th>\n",
       "      <th>target_country</th>\n",
       "    </tr>\n",
       "  </thead>\n",
       "  <tbody>\n",
       "    <tr>\n",
       "      <th>0</th>\n",
       "      <td>q9pfrw6si7</td>\n",
       "      <td>NB</td>\n",
       "    </tr>\n",
       "    <tr>\n",
       "      <th>1</th>\n",
       "      <td>9bzevnmq4v</td>\n",
       "      <td>NB</td>\n",
       "    </tr>\n",
       "    <tr>\n",
       "      <th>2</th>\n",
       "      <td>kux37wpcfo</td>\n",
       "      <td>NB</td>\n",
       "    </tr>\n",
       "    <tr>\n",
       "      <th>3</th>\n",
       "      <td>qqnj6ohayo</td>\n",
       "      <td>NB</td>\n",
       "    </tr>\n",
       "    <tr>\n",
       "      <th>4</th>\n",
       "      <td>nw97iy2dzi</td>\n",
       "      <td>NB</td>\n",
       "    </tr>\n",
       "  </tbody>\n",
       "</table>\n",
       "</div>"
      ],
      "text/plain": [
       "      user_id target_country\n",
       "0  q9pfrw6si7             NB\n",
       "1  9bzevnmq4v             NB\n",
       "2  kux37wpcfo             NB\n",
       "3  qqnj6ohayo             NB\n",
       "4  nw97iy2dzi             NB"
      ]
     },
     "execution_count": 522,
     "metadata": {},
     "output_type": "execute_result"
    }
   ],
   "source": [
    "result.head()"
   ]
  },
  {
   "cell_type": "code",
   "execution_count": 523,
   "id": "Xz_p72bArawS",
   "metadata": {
    "id": "Xz_p72bArawS"
   },
   "outputs": [],
   "source": [
    "#result.to_csv('predictions3.csv',index=False,header=True)  and changing this dataframe into csv file "
   ]
  },
  {
   "cell_type": "code",
   "execution_count": 523,
   "id": "-zXswWf_UUlJ",
   "metadata": {
    "id": "-zXswWf_UUlJ"
   },
   "outputs": [],
   "source": []
  },
  {
   "cell_type": "markdown",
   "id": "TdY65CQ8WYC6",
   "metadata": {
    "id": "TdY65CQ8WYC6"
   },
   "source": [
    "I  took the another classifier that is K-Nearest-Neighbour and chosen 60  neighbours to calculate tyhe eucledian distance and got some enhancement in the score ."
   ]
  },
  {
   "cell_type": "code",
   "execution_count": 564,
   "id": "I50awR0lJ7Rz",
   "metadata": {
    "colab": {
     "base_uri": "https://localhost:8080/"
    },
    "id": "I50awR0lJ7Rz",
    "outputId": "29d1b1a5-b2d8-439c-e843-9034864cddc0"
   },
   "outputs": [
    {
     "name": "stderr",
     "output_type": "stream",
     "text": [
      "/usr/local/lib/python3.7/dist-packages/ipykernel_launcher.py:5: DataConversionWarning: A column-vector y was passed when a 1d array was expected. Please change the shape of y to (n_samples, ), for example using ravel().\n",
      "  \"\"\"\n"
     ]
    },
    {
     "name": "stdout",
     "output_type": "stream",
     "text": [
      "0.5842275515895148\n"
     ]
    }
   ],
   "source": [
    "## lets take another classsifier\n",
    "\n",
    "\n",
    "from sklearn.neighbors import KNeighborsClassifier\n",
    "knn = KNeighborsClassifier(n_neighbors = 60).fit(train_X, train_Y)\n",
    " \n",
    "# accuracy on X_test\n",
    "\n",
    "\n",
    "accuracy = knn.score(test_X, test_Y)\n",
    "print (accuracy)"
   ]
  },
  {
   "cell_type": "code",
   "execution_count": 525,
   "id": "GSVwDgMuR6g7",
   "metadata": {
    "id": "GSVwDgMuR6g7"
   },
   "outputs": [],
   "source": [
    "Y_predicted_knn = knn.predict(test_df)"
   ]
  },
  {
   "cell_type": "code",
   "execution_count": 526,
   "id": "uaCwhmmoUm0W",
   "metadata": {
    "id": "uaCwhmmoUm0W"
   },
   "outputs": [],
   "source": [
    "Y_predicted_knn=Y_predicted_knn.astype('int64')"
   ]
  },
  {
   "cell_type": "code",
   "execution_count": 527,
   "id": "Av7RkfCQUmpA",
   "metadata": {
    "id": "Av7RkfCQUmpA"
   },
   "outputs": [],
   "source": [
    "Y_predicted_knn = label_encoder.inverse_transform(Y_predicted_knn)"
   ]
  },
  {
   "cell_type": "code",
   "execution_count": 528,
   "id": "cHB9NK6uUmXc",
   "metadata": {
    "id": "cHB9NK6uUmXc"
   },
   "outputs": [],
   "source": [
    "result = pd.DataFrame({'user_id':X_id,'target_country':Y_predicted_knn})"
   ]
  },
  {
   "cell_type": "code",
   "execution_count": 529,
   "id": "D30hijK1VX6l",
   "metadata": {
    "id": "D30hijK1VX6l"
   },
   "outputs": [],
   "source": [
    "#result.to_csv('predictions_knn.csv',index=False,header=True)"
   ]
  },
  {
   "cell_type": "markdown",
   "id": "Vu53VoFQZIRm",
   "metadata": {
    "id": "Vu53VoFQZIRm"
   },
   "source": [
    "NOW I AM APPLYING ANOTHER ALGO  LETS DIVE INTO IT :-\n",
    "\n",
    "\n",
    "hurray...........\n",
    "\n"
   ]
  },
  {
   "cell_type": "code",
   "execution_count": 530,
   "id": "zRCcoVwIW2eU",
   "metadata": {
    "id": "zRCcoVwIW2eU"
   },
   "outputs": [],
   "source": [
    "###  NOW HERE I AM USING PCA CLASSIFIER TO TRAIN MY MODEL\n",
    "\n",
    "\n",
    "from sklearn.preprocessing import StandardScaler\n",
    "scaler = StandardScaler()\n",
    "#Fit on training set only.\n",
    "\n",
    "\n",
    "scaler.fit(train_X)\n",
    "\n",
    "\n",
    "# Apply transform to both the training set and the test set.\n",
    "train_X = scaler.transform(train_X)\n",
    "test_X = scaler.transform(test_X)"
   ]
  },
  {
   "cell_type": "code",
   "execution_count": 531,
   "id": "ncpnswV7W2Tu",
   "metadata": {
    "id": "ncpnswV7W2Tu"
   },
   "outputs": [],
   "source": [
    "from sklearn.decomposition import PCA\n",
    "# Make an instance of the Model\n",
    "pca = PCA(.95)"
   ]
  },
  {
   "cell_type": "code",
   "execution_count": 532,
   "id": "V54tP7NNZ5MW",
   "metadata": {
    "id": "V54tP7NNZ5MW"
   },
   "outputs": [],
   "source": [
    "pca.fit(train_X)"
   ]
  },
  {
   "cell_type": "code",
   "execution_count": 533,
   "id": "vqJv9jUNaFtM",
   "metadata": {
    "id": "vqJv9jUNaFtM"
   },
   "outputs": [],
   "source": [
    "train_X = pca.transform(train_X)\n",
    "test_X = pca.transform(test_X)"
   ]
  },
  {
   "cell_type": "code",
   "execution_count": 534,
   "id": "TV39IN_qaPqr",
   "metadata": {
    "id": "TV39IN_qaPqr"
   },
   "outputs": [],
   "source": [
    "from sklearn.linear_model import LogisticRegression"
   ]
  },
  {
   "cell_type": "code",
   "execution_count": 535,
   "id": "CaHhF6mWaUZZ",
   "metadata": {
    "id": "CaHhF6mWaUZZ"
   },
   "outputs": [],
   "source": [
    "\n",
    "# default solver is incredibly slow which is why it was changed to 'lbfgs'\n",
    "\n",
    "\n",
    "logisticRegr = LogisticRegression(solver = 'lbfgs')"
   ]
  },
  {
   "cell_type": "code",
   "execution_count": 536,
   "id": "DW7oUD-XaUOv",
   "metadata": {
    "id": "DW7oUD-XaUOv"
   },
   "outputs": [],
   "source": [
    "logisticRegr.fit(train_X, train_Y)"
   ]
  },
  {
   "cell_type": "code",
   "execution_count": 537,
   "id": "6keAJj1LbIPz",
   "metadata": {
    "id": "6keAJj1LbIPz"
   },
   "outputs": [],
   "source": [
    "logisticRegr.predict(test_X)"
   ]
  },
  {
   "cell_type": "code",
   "execution_count": 538,
   "id": "vfhZGg41a6AU",
   "metadata": {
    "id": "vfhZGg41a6AU"
   },
   "outputs": [],
   "source": [
    "logisticRegr.score(test_X, test_Y)    ### but here also i am getting about the same score "
   ]
  },
  {
   "cell_type": "markdown",
   "id": "z0-ocildg5hb",
   "metadata": {
    "id": "z0-ocildg5hb"
   },
   "source": [
    "NOW I am using  DECISION_TREE_CLASSIFIER algorithm to train my MODEL and then i have predicted my target country by using this MODEL i am using this becauuse i studied while exploring through google and medium articles and seems interesting to me so i used it for just checking purpose and mostly because of the curiosity and i have increased some accuracy by using this classifier"
   ]
  },
  {
   "cell_type": "code",
   "execution_count": 580,
   "id": "YYyWgc--beL3",
   "metadata": {
    "colab": {
     "base_uri": "https://localhost:8080/"
    },
    "id": "YYyWgc--beL3",
    "outputId": "3ec7849b-b6e4-45ac-b31d-f69c7a125e73"
   },
   "outputs": [
    {
     "data": {
      "text/plain": [
       "0.6061349693251534"
      ]
     },
     "execution_count": 580,
     "metadata": {},
     "output_type": "execute_result"
    }
   ],
   "source": [
    "\n",
    "\n",
    "##### SO HERE I AM JUST FORMALLY EXPLORING THE DESCISION TREE CLASSIFIER TO TRAIN OUR MODEL\n",
    "\n",
    "\n",
    "\n",
    "from sklearn.tree import DecisionTreeClassifier\n",
    "dtree_model = DecisionTreeClassifier(max_depth =9).fit(train_X, train_Y)   ###fitting opur train data \n",
    "dtree_model.predict(test_X)\n",
    "\n",
    "dtree_model.score(test_X,test_Y)   #### calculating the accuracy"
   ]
  },
  {
   "cell_type": "code",
   "execution_count": null,
   "id": "3F9C3gELiXgP",
   "metadata": {
    "id": "3F9C3gELiXgP"
   },
   "outputs": [],
   "source": []
  },
  {
   "cell_type": "code",
   "execution_count": 540,
   "id": "D8_par-_eO0I",
   "metadata": {
    "id": "D8_par-_eO0I"
   },
   "outputs": [],
   "source": [
    "Y_predicted_DT = dtree_model.predict(test_df)"
   ]
  },
  {
   "cell_type": "code",
   "execution_count": 541,
   "id": "m3Mo_qyMfXfV",
   "metadata": {
    "id": "m3Mo_qyMfXfV"
   },
   "outputs": [],
   "source": [
    "Y_predicted_DT=Y_predicted_DT.astype('int64')"
   ]
  },
  {
   "cell_type": "code",
   "execution_count": 542,
   "id": "0wQ_kuXmfeeD",
   "metadata": {
    "id": "0wQ_kuXmfeeD"
   },
   "outputs": [],
   "source": [
    "Y_predicted_DT = label_encoder.inverse_transform(Y_predicted_DT)  ### same doing inverse transform for replacing with the origional values"
   ]
  },
  {
   "cell_type": "code",
   "execution_count": 543,
   "id": "Rvmipdd5flyz",
   "metadata": {
    "id": "Rvmipdd5flyz"
   },
   "outputs": [],
   "source": [
    "result = pd.DataFrame({'user_id':X_id,'target_country':Y_predicted_DT}) ### then making the result datframe"
   ]
  },
  {
   "cell_type": "code",
   "execution_count": 544,
   "id": "noNHsk_9fsG1",
   "metadata": {
    "id": "noNHsk_9fsG1"
   },
   "outputs": [],
   "source": [
    "#result.to_csv('predictions_DT_again.csv',index=False,header=True)  "
   ]
  },
  {
   "cell_type": "code",
   "execution_count": 584,
   "id": "F2V0iE0Bijct",
   "metadata": {
    "colab": {
     "base_uri": "https://localhost:8080/"
    },
    "id": "F2V0iE0Bijct",
    "outputId": "3609a472-408c-47ed-8fab-54af94e4139c"
   },
   "outputs": [
    {
     "name": "stderr",
     "output_type": "stream",
     "text": [
      "/usr/local/lib/python3.7/dist-packages/sklearn/utils/validation.py:760: DataConversionWarning: A column-vector y was passed when a 1d array was expected. Please change the shape of y to (n_samples, ), for example using ravel().\n",
      "  y = column_or_1d(y, warn=True)\n"
     ]
    },
    {
     "data": {
      "text/plain": [
       "LogisticRegression(C=140, class_weight=None, dual=False, fit_intercept=True,\n",
       "                   intercept_scaling=1, l1_ratio=None, max_iter=100,\n",
       "                   multi_class='multinomial', n_jobs=None, penalty='l2',\n",
       "                   random_state=None, solver='lbfgs', tol=0.0001, verbose=0,\n",
       "                   warm_start=False)"
      ]
     },
     "execution_count": 584,
     "metadata": {},
     "output_type": "execute_result"
    }
   ],
   "source": [
    "\n",
    "###  here using ssoftmax regression classifier using solver as lbfgs\n",
    "\n",
    "from sklearn.linear_model import LogisticRegression\n",
    "\n",
    "\n",
    "\n",
    "softmax_reg = LogisticRegression(multi_class=\"multinomial\",solver=\"lbfgs\", C=140)\n",
    "softmax_reg.fit(train_X,train_Y)"
   ]
  },
  {
   "cell_type": "code",
   "execution_count": 585,
   "id": "UsdIRRQKr4UZ",
   "metadata": {
    "colab": {
     "base_uri": "https://localhost:8080/"
    },
    "id": "UsdIRRQKr4UZ",
    "outputId": "b8b408b7-a096-4def-9cd4-91251d533cfb"
   },
   "outputs": [
    {
     "data": {
      "text/plain": [
       "0.5827997769102063"
      ]
     },
     "execution_count": 585,
     "metadata": {},
     "output_type": "execute_result"
    }
   ],
   "source": [
    "softmax_reg.predict(test_X)\n",
    "\n",
    "softmax_reg.score(test_X,test_Y)"
   ]
  }
 ],
 "metadata": {
  "colab": {
   "collapsed_sections": [],
   "name": "CLASSIFICATION.ipynb",
   "provenance": []
  },
  "kernelspec": {
   "display_name": "Python 3 (ipykernel)",
   "language": "python",
   "name": "python3"
  },
  "language_info": {
   "codemirror_mode": {
    "name": "ipython",
    "version": 3
   },
   "file_extension": ".py",
   "mimetype": "text/x-python",
   "name": "python",
   "nbconvert_exporter": "python",
   "pygments_lexer": "ipython3",
   "version": "3.9.5"
  }
 },
 "nbformat": 4,
 "nbformat_minor": 5
}
