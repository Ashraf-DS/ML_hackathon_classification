{
 "cells": [
  {
   "cell_type": "markdown",
   "id": "a9c14024",
   "metadata": {},
   "source": [
    "# Regression"
   ]
  },
  {
   "cell_type": "code",
   "execution_count": 1,
   "id": "9414ef31",
   "metadata": {},
   "outputs": [],
   "source": [
    "import pandas as pd\n",
    "import numpy as np\n",
    "import sklearn.preprocessing as preprocessing \n",
    "from sklearn.model_selection import train_test_split \n",
    "from sklearn.svm import SVC\n",
    "from sklearn.decomposition import PCA\n",
    "import matplotlib.pyplot as plt \n",
    "import seaborn as sns \n",
    "from sklearn.linear_model import LinearRegression\n",
    "# Fit the classifier\n",
    "from sklearn.model_selection import train_test_split\n",
    "from sklearn.linear_model import LogisticRegression\n",
    "from sklearn.metrics import accuracy_score\n",
    "df = pd.read_csv(\"train_data.csv\")"
   ]
  },
  {
   "cell_type": "markdown",
   "id": "9c6112de",
   "metadata": {},
   "source": [
    "## concat Test and Train"
   ]
  },
  {
   "cell_type": "code",
   "execution_count": 2,
   "id": "82216d2d",
   "metadata": {},
   "outputs": [],
   "source": [
    "test = pd.read_csv(\"test_data.csv\")\n",
    "df = pd.concat([df,test])"
   ]
  },
  {
   "cell_type": "code",
   "execution_count": 3,
   "id": "61c46ed4",
   "metadata": {
    "scrolled": true
   },
   "outputs": [
    {
     "data": {
      "text/html": [
       "<div>\n",
       "<style scoped>\n",
       "    .dataframe tbody tr th:only-of-type {\n",
       "        vertical-align: middle;\n",
       "    }\n",
       "\n",
       "    .dataframe tbody tr th {\n",
       "        vertical-align: top;\n",
       "    }\n",
       "\n",
       "    .dataframe thead th {\n",
       "        text-align: right;\n",
       "    }\n",
       "</style>\n",
       "<table border=\"1\" class=\"dataframe\">\n",
       "  <thead>\n",
       "    <tr style=\"text-align: right;\">\n",
       "      <th></th>\n",
       "      <th>x-inv</th>\n",
       "      <th>y-inv</th>\n",
       "      <th>force</th>\n",
       "      <th>Id</th>\n",
       "    </tr>\n",
       "  </thead>\n",
       "  <tbody>\n",
       "    <tr>\n",
       "      <th>0</th>\n",
       "      <td>-22.252252</td>\n",
       "      <td>-50.000000</td>\n",
       "      <td>112.929447</td>\n",
       "      <td>NaN</td>\n",
       "    </tr>\n",
       "    <tr>\n",
       "      <th>1</th>\n",
       "      <td>28.738739</td>\n",
       "      <td>-49.899900</td>\n",
       "      <td>131.239658</td>\n",
       "      <td>NaN</td>\n",
       "    </tr>\n",
       "    <tr>\n",
       "      <th>2</th>\n",
       "      <td>-9.879880</td>\n",
       "      <td>-49.799800</td>\n",
       "      <td>120.853539</td>\n",
       "      <td>NaN</td>\n",
       "    </tr>\n",
       "    <tr>\n",
       "      <th>3</th>\n",
       "      <td>15.765766</td>\n",
       "      <td>-49.699700</td>\n",
       "      <td>112.687437</td>\n",
       "      <td>NaN</td>\n",
       "    </tr>\n",
       "    <tr>\n",
       "      <th>4</th>\n",
       "      <td>5.975976</td>\n",
       "      <td>-49.599600</td>\n",
       "      <td>132.562004</td>\n",
       "      <td>NaN</td>\n",
       "    </tr>\n",
       "    <tr>\n",
       "      <th>...</th>\n",
       "      <td>...</td>\n",
       "      <td>...</td>\n",
       "      <td>...</td>\n",
       "      <td>...</td>\n",
       "    </tr>\n",
       "    <tr>\n",
       "      <th>9995</th>\n",
       "      <td>29.837984</td>\n",
       "      <td>49.959996</td>\n",
       "      <td>NaN</td>\n",
       "      <td>9995.0</td>\n",
       "    </tr>\n",
       "    <tr>\n",
       "      <th>9996</th>\n",
       "      <td>15.616562</td>\n",
       "      <td>49.969997</td>\n",
       "      <td>NaN</td>\n",
       "      <td>9996.0</td>\n",
       "    </tr>\n",
       "    <tr>\n",
       "      <th>9997</th>\n",
       "      <td>24.869487</td>\n",
       "      <td>49.979998</td>\n",
       "      <td>NaN</td>\n",
       "      <td>9997.0</td>\n",
       "    </tr>\n",
       "    <tr>\n",
       "      <th>9998</th>\n",
       "      <td>18.310831</td>\n",
       "      <td>49.989999</td>\n",
       "      <td>NaN</td>\n",
       "      <td>9998.0</td>\n",
       "    </tr>\n",
       "    <tr>\n",
       "      <th>9999</th>\n",
       "      <td>-21.773177</td>\n",
       "      <td>50.000000</td>\n",
       "      <td>NaN</td>\n",
       "      <td>9999.0</td>\n",
       "    </tr>\n",
       "  </tbody>\n",
       "</table>\n",
       "<p>11000 rows × 4 columns</p>\n",
       "</div>"
      ],
      "text/plain": [
       "          x-inv      y-inv       force      Id\n",
       "0    -22.252252 -50.000000  112.929447     NaN\n",
       "1     28.738739 -49.899900  131.239658     NaN\n",
       "2     -9.879880 -49.799800  120.853539     NaN\n",
       "3     15.765766 -49.699700  112.687437     NaN\n",
       "4      5.975976 -49.599600  132.562004     NaN\n",
       "...         ...        ...         ...     ...\n",
       "9995  29.837984  49.959996         NaN  9995.0\n",
       "9996  15.616562  49.969997         NaN  9996.0\n",
       "9997  24.869487  49.979998         NaN  9997.0\n",
       "9998  18.310831  49.989999         NaN  9998.0\n",
       "9999 -21.773177  50.000000         NaN  9999.0\n",
       "\n",
       "[11000 rows x 4 columns]"
      ]
     },
     "execution_count": 3,
     "metadata": {},
     "output_type": "execute_result"
    }
   ],
   "source": [
    "df = df.drop(\"Unnamed: 0\", axis = 1)\n",
    "df"
   ]
  },
  {
   "cell_type": "code",
   "execution_count": 4,
   "id": "567d53c0",
   "metadata": {},
   "outputs": [],
   "source": [
    "df.iloc[:,0:2]\n",
    "df = df.abs()"
   ]
  },
  {
   "cell_type": "code",
   "execution_count": 5,
   "id": "75290dcf",
   "metadata": {
    "scrolled": true
   },
   "outputs": [
    {
     "data": {
      "text/html": [
       "<div>\n",
       "<style scoped>\n",
       "    .dataframe tbody tr th:only-of-type {\n",
       "        vertical-align: middle;\n",
       "    }\n",
       "\n",
       "    .dataframe tbody tr th {\n",
       "        vertical-align: top;\n",
       "    }\n",
       "\n",
       "    .dataframe thead th {\n",
       "        text-align: right;\n",
       "    }\n",
       "</style>\n",
       "<table border=\"1\" class=\"dataframe\">\n",
       "  <thead>\n",
       "    <tr style=\"text-align: right;\">\n",
       "      <th></th>\n",
       "      <th>x-inv</th>\n",
       "      <th>y-inv</th>\n",
       "    </tr>\n",
       "  </thead>\n",
       "  <tbody>\n",
       "    <tr>\n",
       "      <th>0</th>\n",
       "      <td>21.995200</td>\n",
       "      <td>-50.000000</td>\n",
       "    </tr>\n",
       "    <tr>\n",
       "      <th>1</th>\n",
       "      <td>28.643864</td>\n",
       "      <td>-49.989999</td>\n",
       "    </tr>\n",
       "    <tr>\n",
       "      <th>2</th>\n",
       "      <td>-29.369937</td>\n",
       "      <td>-49.979998</td>\n",
       "    </tr>\n",
       "    <tr>\n",
       "      <th>3</th>\n",
       "      <td>-12.772277</td>\n",
       "      <td>-49.969997</td>\n",
       "    </tr>\n",
       "    <tr>\n",
       "      <th>4</th>\n",
       "      <td>22.367237</td>\n",
       "      <td>-49.959996</td>\n",
       "    </tr>\n",
       "    <tr>\n",
       "      <th>...</th>\n",
       "      <td>...</td>\n",
       "      <td>...</td>\n",
       "    </tr>\n",
       "    <tr>\n",
       "      <th>9995</th>\n",
       "      <td>29.837984</td>\n",
       "      <td>49.959996</td>\n",
       "    </tr>\n",
       "    <tr>\n",
       "      <th>9996</th>\n",
       "      <td>15.616562</td>\n",
       "      <td>49.969997</td>\n",
       "    </tr>\n",
       "    <tr>\n",
       "      <th>9997</th>\n",
       "      <td>24.869487</td>\n",
       "      <td>49.979998</td>\n",
       "    </tr>\n",
       "    <tr>\n",
       "      <th>9998</th>\n",
       "      <td>18.310831</td>\n",
       "      <td>49.989999</td>\n",
       "    </tr>\n",
       "    <tr>\n",
       "      <th>9999</th>\n",
       "      <td>-21.773177</td>\n",
       "      <td>50.000000</td>\n",
       "    </tr>\n",
       "  </tbody>\n",
       "</table>\n",
       "<p>10000 rows × 2 columns</p>\n",
       "</div>"
      ],
      "text/plain": [
       "          x-inv      y-inv\n",
       "0     21.995200 -50.000000\n",
       "1     28.643864 -49.989999\n",
       "2    -29.369937 -49.979998\n",
       "3    -12.772277 -49.969997\n",
       "4     22.367237 -49.959996\n",
       "...         ...        ...\n",
       "9995  29.837984  49.959996\n",
       "9996  15.616562  49.969997\n",
       "9997  24.869487  49.979998\n",
       "9998  18.310831  49.989999\n",
       "9999 -21.773177  50.000000\n",
       "\n",
       "[10000 rows x 2 columns]"
      ]
     },
     "execution_count": 5,
     "metadata": {},
     "output_type": "execute_result"
    }
   ],
   "source": [
    "# df = df.drop(\"Id\", axis = 1)\n",
    "df\n",
    "ID = test[\"Id\"]\n",
    "test = test.drop(\"Id\", axis = 1)\n",
    "test"
   ]
  },
  {
   "cell_type": "markdown",
   "id": "e3d1c083",
   "metadata": {},
   "source": [
    "## removing null values"
   ]
  },
  {
   "cell_type": "code",
   "execution_count": 6,
   "id": "3cabb14b",
   "metadata": {},
   "outputs": [],
   "source": [
    "df[\"force\"].fillna(df[\"force\"].mean(), inplace=True)"
   ]
  },
  {
   "cell_type": "code",
   "execution_count": 7,
   "id": "223210f2",
   "metadata": {},
   "outputs": [
    {
     "data": {
      "text/plain": [
       "x-inv       0\n",
       "y-inv       0\n",
       "force       0\n",
       "Id       1000\n",
       "dtype: int64"
      ]
     },
     "execution_count": 7,
     "metadata": {},
     "output_type": "execute_result"
    }
   ],
   "source": [
    "df.isna().sum()"
   ]
  },
  {
   "cell_type": "code",
   "execution_count": 8,
   "id": "9ef45ac0",
   "metadata": {},
   "outputs": [
    {
     "data": {
      "text/plain": [
       "0"
      ]
     },
     "execution_count": 8,
     "metadata": {},
     "output_type": "execute_result"
    }
   ],
   "source": [
    "(df[\"x-inv\"] == '?').sum()"
   ]
  },
  {
   "cell_type": "code",
   "execution_count": 9,
   "id": "2e3a254f",
   "metadata": {},
   "outputs": [
    {
     "data": {
      "text/plain": [
       "0"
      ]
     },
     "execution_count": 9,
     "metadata": {},
     "output_type": "execute_result"
    }
   ],
   "source": [
    "(df[\"y-inv\"] == '?').sum()"
   ]
  },
  {
   "cell_type": "markdown",
   "id": "594c3132",
   "metadata": {},
   "source": [
    "##  Droping "
   ]
  },
  {
   "cell_type": "code",
   "execution_count": 10,
   "id": "3af16fc3",
   "metadata": {},
   "outputs": [],
   "source": [
    "df.dropna(inplace = True)"
   ]
  },
  {
   "cell_type": "code",
   "execution_count": 11,
   "id": "56da6096",
   "metadata": {},
   "outputs": [
    {
     "data": {
      "text/plain": [
       "x-inv    0\n",
       "y-inv    0\n",
       "force    0\n",
       "Id       0\n",
       "dtype: int64"
      ]
     },
     "execution_count": 11,
     "metadata": {},
     "output_type": "execute_result"
    }
   ],
   "source": [
    "df.isna().sum()"
   ]
  },
  {
   "cell_type": "code",
   "execution_count": 12,
   "id": "ae76ddc0",
   "metadata": {
    "scrolled": true
   },
   "outputs": [
    {
     "data": {
      "text/html": [
       "<div>\n",
       "<style scoped>\n",
       "    .dataframe tbody tr th:only-of-type {\n",
       "        vertical-align: middle;\n",
       "    }\n",
       "\n",
       "    .dataframe tbody tr th {\n",
       "        vertical-align: top;\n",
       "    }\n",
       "\n",
       "    .dataframe thead th {\n",
       "        text-align: right;\n",
       "    }\n",
       "</style>\n",
       "<table border=\"1\" class=\"dataframe\">\n",
       "  <thead>\n",
       "    <tr style=\"text-align: right;\">\n",
       "      <th></th>\n",
       "      <th>x-inv</th>\n",
       "      <th>y-inv</th>\n",
       "      <th>force</th>\n",
       "      <th>Id</th>\n",
       "    </tr>\n",
       "  </thead>\n",
       "  <tbody>\n",
       "    <tr>\n",
       "      <th>0</th>\n",
       "      <td>21.995200</td>\n",
       "      <td>50.000000</td>\n",
       "      <td>42.963183</td>\n",
       "      <td>0.0</td>\n",
       "    </tr>\n",
       "    <tr>\n",
       "      <th>1</th>\n",
       "      <td>28.643864</td>\n",
       "      <td>49.989999</td>\n",
       "      <td>42.963183</td>\n",
       "      <td>1.0</td>\n",
       "    </tr>\n",
       "    <tr>\n",
       "      <th>2</th>\n",
       "      <td>29.369937</td>\n",
       "      <td>49.979998</td>\n",
       "      <td>42.963183</td>\n",
       "      <td>2.0</td>\n",
       "    </tr>\n",
       "    <tr>\n",
       "      <th>3</th>\n",
       "      <td>12.772277</td>\n",
       "      <td>49.969997</td>\n",
       "      <td>42.963183</td>\n",
       "      <td>3.0</td>\n",
       "    </tr>\n",
       "    <tr>\n",
       "      <th>4</th>\n",
       "      <td>22.367237</td>\n",
       "      <td>49.959996</td>\n",
       "      <td>42.963183</td>\n",
       "      <td>4.0</td>\n",
       "    </tr>\n",
       "    <tr>\n",
       "      <th>...</th>\n",
       "      <td>...</td>\n",
       "      <td>...</td>\n",
       "      <td>...</td>\n",
       "      <td>...</td>\n",
       "    </tr>\n",
       "    <tr>\n",
       "      <th>9995</th>\n",
       "      <td>29.837984</td>\n",
       "      <td>49.959996</td>\n",
       "      <td>42.963183</td>\n",
       "      <td>9995.0</td>\n",
       "    </tr>\n",
       "    <tr>\n",
       "      <th>9996</th>\n",
       "      <td>15.616562</td>\n",
       "      <td>49.969997</td>\n",
       "      <td>42.963183</td>\n",
       "      <td>9996.0</td>\n",
       "    </tr>\n",
       "    <tr>\n",
       "      <th>9997</th>\n",
       "      <td>24.869487</td>\n",
       "      <td>49.979998</td>\n",
       "      <td>42.963183</td>\n",
       "      <td>9997.0</td>\n",
       "    </tr>\n",
       "    <tr>\n",
       "      <th>9998</th>\n",
       "      <td>18.310831</td>\n",
       "      <td>49.989999</td>\n",
       "      <td>42.963183</td>\n",
       "      <td>9998.0</td>\n",
       "    </tr>\n",
       "    <tr>\n",
       "      <th>9999</th>\n",
       "      <td>21.773177</td>\n",
       "      <td>50.000000</td>\n",
       "      <td>42.963183</td>\n",
       "      <td>9999.0</td>\n",
       "    </tr>\n",
       "  </tbody>\n",
       "</table>\n",
       "<p>10000 rows × 4 columns</p>\n",
       "</div>"
      ],
      "text/plain": [
       "          x-inv      y-inv      force      Id\n",
       "0     21.995200  50.000000  42.963183     0.0\n",
       "1     28.643864  49.989999  42.963183     1.0\n",
       "2     29.369937  49.979998  42.963183     2.0\n",
       "3     12.772277  49.969997  42.963183     3.0\n",
       "4     22.367237  49.959996  42.963183     4.0\n",
       "...         ...        ...        ...     ...\n",
       "9995  29.837984  49.959996  42.963183  9995.0\n",
       "9996  15.616562  49.969997  42.963183  9996.0\n",
       "9997  24.869487  49.979998  42.963183  9997.0\n",
       "9998  18.310831  49.989999  42.963183  9998.0\n",
       "9999  21.773177  50.000000  42.963183  9999.0\n",
       "\n",
       "[10000 rows x 4 columns]"
      ]
     },
     "execution_count": 12,
     "metadata": {},
     "output_type": "execute_result"
    }
   ],
   "source": [
    "df"
   ]
  },
  {
   "cell_type": "code",
   "execution_count": 13,
   "id": "fcfd6e78",
   "metadata": {},
   "outputs": [
    {
     "data": {
      "text/html": [
       "<div>\n",
       "<style scoped>\n",
       "    .dataframe tbody tr th:only-of-type {\n",
       "        vertical-align: middle;\n",
       "    }\n",
       "\n",
       "    .dataframe tbody tr th {\n",
       "        vertical-align: top;\n",
       "    }\n",
       "\n",
       "    .dataframe thead th {\n",
       "        text-align: right;\n",
       "    }\n",
       "</style>\n",
       "<table border=\"1\" class=\"dataframe\">\n",
       "  <thead>\n",
       "    <tr style=\"text-align: right;\">\n",
       "      <th></th>\n",
       "      <th>x-inv</th>\n",
       "      <th>y-inv</th>\n",
       "    </tr>\n",
       "  </thead>\n",
       "  <tbody>\n",
       "    <tr>\n",
       "      <th>0</th>\n",
       "      <td>21.995200</td>\n",
       "      <td>-50.000000</td>\n",
       "    </tr>\n",
       "    <tr>\n",
       "      <th>1</th>\n",
       "      <td>28.643864</td>\n",
       "      <td>-49.989999</td>\n",
       "    </tr>\n",
       "    <tr>\n",
       "      <th>2</th>\n",
       "      <td>-29.369937</td>\n",
       "      <td>-49.979998</td>\n",
       "    </tr>\n",
       "    <tr>\n",
       "      <th>3</th>\n",
       "      <td>-12.772277</td>\n",
       "      <td>-49.969997</td>\n",
       "    </tr>\n",
       "    <tr>\n",
       "      <th>4</th>\n",
       "      <td>22.367237</td>\n",
       "      <td>-49.959996</td>\n",
       "    </tr>\n",
       "    <tr>\n",
       "      <th>...</th>\n",
       "      <td>...</td>\n",
       "      <td>...</td>\n",
       "    </tr>\n",
       "    <tr>\n",
       "      <th>9995</th>\n",
       "      <td>29.837984</td>\n",
       "      <td>49.959996</td>\n",
       "    </tr>\n",
       "    <tr>\n",
       "      <th>9996</th>\n",
       "      <td>15.616562</td>\n",
       "      <td>49.969997</td>\n",
       "    </tr>\n",
       "    <tr>\n",
       "      <th>9997</th>\n",
       "      <td>24.869487</td>\n",
       "      <td>49.979998</td>\n",
       "    </tr>\n",
       "    <tr>\n",
       "      <th>9998</th>\n",
       "      <td>18.310831</td>\n",
       "      <td>49.989999</td>\n",
       "    </tr>\n",
       "    <tr>\n",
       "      <th>9999</th>\n",
       "      <td>-21.773177</td>\n",
       "      <td>50.000000</td>\n",
       "    </tr>\n",
       "  </tbody>\n",
       "</table>\n",
       "<p>10000 rows × 2 columns</p>\n",
       "</div>"
      ],
      "text/plain": [
       "          x-inv      y-inv\n",
       "0     21.995200 -50.000000\n",
       "1     28.643864 -49.989999\n",
       "2    -29.369937 -49.979998\n",
       "3    -12.772277 -49.969997\n",
       "4     22.367237 -49.959996\n",
       "...         ...        ...\n",
       "9995  29.837984  49.959996\n",
       "9996  15.616562  49.969997\n",
       "9997  24.869487  49.979998\n",
       "9998  18.310831  49.989999\n",
       "9999 -21.773177  50.000000\n",
       "\n",
       "[10000 rows x 2 columns]"
      ]
     },
     "execution_count": 13,
     "metadata": {},
     "output_type": "execute_result"
    }
   ],
   "source": [
    "test"
   ]
  },
  {
   "cell_type": "code",
   "execution_count": 14,
   "id": "0c0fea18",
   "metadata": {
    "scrolled": true
   },
   "outputs": [
    {
     "data": {
      "text/plain": [
       "0"
      ]
     },
     "execution_count": 14,
     "metadata": {},
     "output_type": "execute_result"
    }
   ],
   "source": [
    "df.index[df.duplicated()]\n",
    "df.duplicated().sum()"
   ]
  },
  {
   "cell_type": "code",
   "execution_count": 15,
   "id": "3821af30",
   "metadata": {
    "scrolled": true
   },
   "outputs": [],
   "source": [
    "# train_df, test_df = train_test_split(df, train_size=0.7)\n",
    "# x_train = train_df.iloc[:,0:2].values\n",
    "# y_train = train_df.iloc[:,2:3].values\n",
    "# x_test = test_df.iloc[:,0:2].values\n",
    "# y_test = test_df.iloc[:,2:3].values\n",
    "# y_train"
   ]
  },
  {
   "cell_type": "markdown",
   "id": "81747399",
   "metadata": {},
   "source": [
    "## Train Test set "
   ]
  },
  {
   "cell_type": "code",
   "execution_count": 16,
   "id": "d931db6f",
   "metadata": {},
   "outputs": [],
   "source": [
    "x_train = df.iloc[:,0:2].values\n",
    "y_train = df.iloc[:,2:3].values"
   ]
  },
  {
   "cell_type": "code",
   "execution_count": 17,
   "id": "3d25e1a4",
   "metadata": {},
   "outputs": [],
   "source": [
    "x_test = test.iloc[:,0:2].values"
   ]
  },
  {
   "cell_type": "code",
   "execution_count": 18,
   "id": "65433c67",
   "metadata": {},
   "outputs": [],
   "source": [
    "# # data standardization with  sklearn\n",
    "# from sklearn.preprocessing import StandardScaler\n",
    "\n",
    "# # copy of datasets\n",
    "# X_train_stand = x_train.copy()\n",
    "# X_test_stand = x_test.copy()\n",
    "\n",
    "# # numerical features\n",
    "# num_cols = 1\n",
    "\n",
    "# # apply standardization on numerical features\n",
    "# for i in range(num_cols):\n",
    "    \n",
    "#     # fit on training data column\n",
    "#     scale = StandardScaler().fit(X_train_stand[[i]])\n",
    "    \n",
    "#     # transform the training data column\n",
    "#     X_train_stand[i] = scale.transform(X_train_stand[[i]])\n",
    "    \n",
    "#     # transform the testing data column\n",
    "#     X_test_stand[i] = scale.transform(X_test_stand[[i]])"
   ]
  },
  {
   "cell_type": "code",
   "execution_count": 19,
   "id": "9c30843e",
   "metadata": {},
   "outputs": [],
   "source": [
    "\n",
    "# data normalization with sklearn\n",
    "from sklearn.preprocessing import MinMaxScaler\n",
    "\n",
    "# fit scaler on training data\n",
    "norm = MinMaxScaler().fit(x_train)\n",
    "\n",
    "# transform training data\n",
    "x_train = norm.transform(x_train)\n",
    "\n",
    "# transform testing dataabs\n",
    "x_test = norm.transform(x_test)"
   ]
  },
  {
   "cell_type": "code",
   "execution_count": 20,
   "id": "3151510e",
   "metadata": {},
   "outputs": [
    {
     "data": {
      "text/plain": [
       "array([[0.73314663, 1.        ],\n",
       "       [0.95479096, 0.99979996],\n",
       "       [0.9789958 , 0.99959992],\n",
       "       ...,\n",
       "       [0.82896579, 0.99959992],\n",
       "       [0.61032206, 0.99979996],\n",
       "       [0.72574515, 1.        ]])"
      ]
     },
     "execution_count": 20,
     "metadata": {},
     "output_type": "execute_result"
    }
   ],
   "source": [
    "x_train"
   ]
  },
  {
   "cell_type": "code",
   "execution_count": 21,
   "id": "2ce23304",
   "metadata": {},
   "outputs": [],
   "source": [
    "y_train =  np.array(y_train)\n",
    "y_train = y_train.reshape(10000,)\n",
    "# y_test =  np.array(y_test)\n",
    "# y_test = y_test.reshape(700,)"
   ]
  },
  {
   "cell_type": "code",
   "execution_count": 22,
   "id": "91985447",
   "metadata": {},
   "outputs": [
    {
     "data": {
      "text/plain": [
       "array([[ 0.73314663, -1.00020004],\n",
       "       [ 0.95479096, -1.        ],\n",
       "       [-0.97919584, -0.99979996],\n",
       "       ...,\n",
       "       [ 0.82896579,  0.99959992],\n",
       "       [ 0.61032206,  0.99979996],\n",
       "       [-0.72594519,  1.        ]])"
      ]
     },
     "execution_count": 22,
     "metadata": {},
     "output_type": "execute_result"
    }
   ],
   "source": [
    "x_test"
   ]
  },
  {
   "cell_type": "code",
   "execution_count": 23,
   "id": "1544aa67",
   "metadata": {},
   "outputs": [
    {
     "data": {
      "text/plain": [
       "<AxesSubplot:xlabel='y-inv', ylabel='force'>"
      ]
     },
     "execution_count": 23,
     "metadata": {},
     "output_type": "execute_result"
    },
    {
     "data": {
      "image/png": "[encoded data removed]",
      "text/plain": [
       "<Figure size 432x288 with 1 Axes>"
      ]
     },
     "metadata": {
      "needs_background": "light"
     },
     "output_type": "display_data"
    }
   ],
   "source": [
    "df.plot.scatter(x = \"y-inv\" , y = \"force\")"
   ]
  },
  {
   "cell_type": "code",
   "execution_count": 24,
   "id": "4b1456fc",
   "metadata": {},
   "outputs": [
    {
     "data": {
      "text/plain": [
       "dtype('float64')"
      ]
     },
     "execution_count": 24,
     "metadata": {},
     "output_type": "execute_result"
    }
   ],
   "source": [
    "# from sklearn.preprocessing import StandardScaler\n",
    "# sc_X = StandardScaler()\n",
    "# x_train = sc_X.fit_transform(x_train)\n",
    "# x_test = sc_X.transform(x_test)\n",
    "x_test.dtype"
   ]
  },
  {
   "cell_type": "markdown",
   "id": "d94be271",
   "metadata": {},
   "source": [
    "Applying logistic regression "
   ]
  },
  {
   "cell_type": "markdown",
   "id": "15f33c5e",
   "metadata": {},
   "source": [
    "## applying PCA and Logistic regression"
   ]
  },
  {
   "cell_type": "code",
   "execution_count": 49,
   "id": "8c690b23",
   "metadata": {
    "scrolled": false
   },
   "outputs": [],
   "source": [
    "# Splitting the data into training and testing data\n",
    "y_train = y_train.astype('float64')\n",
    "# y_test = y_test.astype('int')\n",
    "principal=PCA(n_components=0.99)\n",
    "principal.fit(x_train)\n",
    "x_train=principal.transform(x_train)\n",
    "x_test=principal.transform(x_test)\n",
    "\n",
    "lreg = LogisticRegression(solver='lbfgs', max_iter=125)\n",
    "lreg.fit(x_train, y_train)\n",
    "y_pred = lreg.predict(x_test)\n",
    "print('Accuracy {:.2f}'.format(lreg.score(x_test, y_test)))\n",
    "\n",
    "# from sklearn.metrics import precision_score\n",
    "# from sklearn.metrics import recall_score\n",
    "# from sklearn.metrics import f1_score\n",
    "\n",
    "# # precision tp / (tp + fp)\n",
    "# precision = precision_score(y_test, y_pred,pos_label='positive'\n",
    "#                                           , average='micro')\n",
    "# print('Precision: %f' % precision)\n",
    "\n",
    "# # recall: tp / (tp + fn)\n",
    "# recall = recall_score(y_test, y_pred,pos_label='positive',\n",
    "#                                            average='micro')\n",
    "# print('Recall: %f' % recall)\n",
    "\n",
    "# # f1: 2 tp / (2 tp + fp + fn)\n",
    "# f1 = f1_score(y_test, y_pred,pos_label='positive'\n",
    "#                                           , average='micro')"
   ]
  },
  {
   "cell_type": "markdown",
   "id": "659f7859",
   "metadata": {},
   "source": [
    "## applying PCA and NB regression"
   ]
  },
  {
   "cell_type": "code",
   "execution_count": null,
   "id": "1a594400",
   "metadata": {},
   "outputs": [],
   "source": [
    "# Splitting the data into training and testing data\n",
    "y_train = y_train.astype('float64')\n",
    "# y_test = y_test.astype('int')\n",
    "principal=PCA(n_components=0.99)\n",
    "principal.fit(x_train)\n",
    "x_train=principal.transform(x_train)\n",
    "x_test=principal.transform(x_test)\n",
    "\n",
    "from sklearn.naive_bayes import GaussianNB\n",
    "gnb = GaussianNB()\n",
    "gnb.fit(x_train, y_train)\n",
    "# making predictions on the testing set\n",
    "y_pred = gnb.predict(x_test)\n",
    "# from sklearn.metrics import precision_score\n",
    "# from sklearn.metrics import recall_score\n",
    "# from sklearn.metrics import f1_score\n",
    "\n",
    "# # precision tp / (tp + fp)\n",
    "# precision = precision_score(y_test, y_pred,pos_label='positive'\n",
    "#                                           , average='micro')\n",
    "# print('Precision: %f' % precision)\n",
    "\n",
    "# # recall: tp / (tp + fn)\n",
    "# recall = recall_score(y_test, y_pred,pos_label='positive',\n",
    "#                                            average='micro')\n",
    "# print('Recall: %f' % recall)\n",
    "\n",
    "# # f1: 2 tp / (2 tp + fp + fn)\n",
    "# f1 = f1_score(y_test, y_pred,pos_label='positive'\n",
    "#              a"
   ]
  },
  {
   "cell_type": "markdown",
   "id": "23e467fa",
   "metadata": {},
   "source": [
    "## applying PCA and SVM regression"
   ]
  },
  {
   "cell_type": "code",
   "execution_count": null,
   "id": "f0da6afe",
   "metadata": {},
   "outputs": [],
   "source": []
  },
  {
   "cell_type": "code",
   "execution_count": 50,
   "id": "be31cf42",
   "metadata": {
    "scrolled": true
   },
   "outputs": [],
   "source": [
    "# y_test.shape"
   ]
  },
  {
   "cell_type": "code",
   "execution_count": 51,
   "id": "7b0c89c5",
   "metadata": {},
   "outputs": [
    {
     "data": {
      "text/plain": [
       "(10000,)"
      ]
     },
     "execution_count": 51,
     "metadata": {},
     "output_type": "execute_result"
    }
   ],
   "source": [
    "y_train.shape"
   ]
  },
  {
   "cell_type": "code",
   "execution_count": 52,
   "id": "173a3b48",
   "metadata": {},
   "outputs": [
    {
     "data": {
      "text/plain": [
       "(10000, 2)"
      ]
     },
     "execution_count": 52,
     "metadata": {},
     "output_type": "execute_result"
    }
   ],
   "source": [
    "x_test.shape"
   ]
  },
  {
   "cell_type": "code",
   "execution_count": 53,
   "id": "b21750d8",
   "metadata": {
    "scrolled": true
   },
   "outputs": [
    {
     "ename": "NameError",
     "evalue": "name 'y_test' is not defined",
     "output_type": "error",
     "traceback": [
      "\u001b[0;31m---------------------------------------------------------------------------\u001b[0m",
      "\u001b[0;31mNameError\u001b[0m                                 Traceback (most recent call last)",
      "\u001b[0;32m/tmp/ipykernel_11062/6018628.py\u001b[0m in \u001b[0;36m<module>\u001b[0;34m\u001b[0m\n\u001b[0;32m----> 1\u001b[0;31m \u001b[0mprint\u001b[0m\u001b[0;34m(\u001b[0m\u001b[0maccuracy_score\u001b[0m\u001b[0;34m(\u001b[0m\u001b[0my_test\u001b[0m\u001b[0;34m,\u001b[0m \u001b[0my_pred\u001b[0m\u001b[0;34m)\u001b[0m\u001b[0;34m)\u001b[0m\u001b[0;34m\u001b[0m\u001b[0;34m\u001b[0m\u001b[0m\n\u001b[0m",
      "\u001b[0;31mNameError\u001b[0m: name 'y_test' is not defined"
     ]
    }
   ],
   "source": [
    "print(accuracy_score(y_test, y_pred))"
   ]
  },
  {
   "cell_type": "code",
   "execution_count": 54,
   "id": "af138f05",
   "metadata": {},
   "outputs": [],
   "source": [
    "result = pd.DataFrame({'ID':ID,'Predicted':y_pred})"
   ]
  },
  {
   "cell_type": "code",
   "execution_count": 55,
   "id": "c85cded0",
   "metadata": {},
   "outputs": [],
   "source": [
    "result.to_csv('predictions2.csv',index=False,header=True)"
   ]
  },
  {
   "cell_type": "code",
   "execution_count": 56,
   "id": "d9f96cd9",
   "metadata": {},
   "outputs": [
    {
     "data": {
      "text/plain": [
       "array([42.])"
      ]
     },
     "execution_count": 56,
     "metadata": {},
     "output_type": "execute_result"
    }
   ],
   "source": [
    "pd.unique(y_pred)"
   ]
  },
  {
   "cell_type": "code",
   "execution_count": 57,
   "id": "7f9f7fe2",
   "metadata": {},
   "outputs": [
    {
     "ename": "NameError",
     "evalue": "name 'y_test' is not defined",
     "output_type": "error",
     "traceback": [
      "\u001b[0;31m---------------------------------------------------------------------------\u001b[0m",
      "\u001b[0;31mNameError\u001b[0m                                 Traceback (most recent call last)",
      "\u001b[0;32m/tmp/ipykernel_11062/98219779.py\u001b[0m in \u001b[0;36m<module>\u001b[0;34m\u001b[0m\n\u001b[0;32m----> 1\u001b[0;31m \u001b[0my_test\u001b[0m\u001b[0;34m.\u001b[0m\u001b[0mshape\u001b[0m\u001b[0;34m\u001b[0m\u001b[0;34m\u001b[0m\u001b[0m\n\u001b[0m",
      "\u001b[0;31mNameError\u001b[0m: name 'y_test' is not defined"
     ]
    }
   ],
   "source": [
    "y_test.shape"
   ]
  },
  {
   "cell_type": "code",
   "execution_count": 58,
   "id": "8d4b6f16",
   "metadata": {
    "scrolled": true
   },
   "outputs": [
    {
     "ename": "NameError",
     "evalue": "name 'y_test' is not defined",
     "output_type": "error",
     "traceback": [
      "\u001b[0;31m---------------------------------------------------------------------------\u001b[0m",
      "\u001b[0;31mNameError\u001b[0m                                 Traceback (most recent call last)",
      "\u001b[0;32m/tmp/ipykernel_11062/4075987148.py\u001b[0m in \u001b[0;36m<module>\u001b[0;34m\u001b[0m\n\u001b[0;32m----> 1\u001b[0;31m \u001b[0my_test\u001b[0m\u001b[0;34m\u001b[0m\u001b[0;34m\u001b[0m\u001b[0m\n\u001b[0m",
      "\u001b[0;31mNameError\u001b[0m: name 'y_test' is not defined"
     ]
    }
   ],
   "source": [
    "y_test"
   ]
  },
  {
   "cell_type": "code",
   "execution_count": null,
   "id": "c5d0650e",
   "metadata": {},
   "outputs": [],
   "source": [
    "y_pred"
   ]
  },
  {
   "cell_type": "code",
   "execution_count": null,
   "id": "18a0dcbf",
   "metadata": {},
   "outputs": [],
   "source": [
    " def my_custom_loss_func(y_true, y_pred):\n",
    "        diff = np.abs(y_true - y_pred).max()\n",
    "        return diff\n",
    "my_custom_loss_func(y_test, Y_Pred)"
   ]
  },
  {
   "cell_type": "code",
   "execution_count": null,
   "id": "78f6d8c1",
   "metadata": {},
   "outputs": [],
   "source": [
    "df"
   ]
  },
  {
   "cell_type": "code",
   "execution_count": null,
   "id": "c3aac70a",
   "metadata": {},
   "outputs": [],
   "source": []
  }
 ],
 "metadata": {
  "kernelspec": {
   "display_name": "Python 3 (ipykernel)",
   "language": "python",
   "name": "python3"
  },
  "language_info": {
   "codemirror_mode": {
    "name": "ipython",
    "version": 3
   },
   "file_extension": ".py",
   "mimetype": "text/x-python",
   "name": "python",
   "nbconvert_exporter": "python",
   "pygments_lexer": "ipython3",
   "version": "3.8.10"
  }
 },
 "nbformat": 4,
 "nbformat_minor": 5
}
